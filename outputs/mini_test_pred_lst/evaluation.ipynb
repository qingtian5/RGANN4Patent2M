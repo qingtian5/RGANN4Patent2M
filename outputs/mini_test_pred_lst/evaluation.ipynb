{
 "cells": [
  {
   "cell_type": "code",
   "execution_count": null,
   "id": "46b9b957-0589-4700-9bba-37506b48d1e6",
   "metadata": {},
   "outputs": [],
   "source": [
    "import torch\n",
    "import numpy as np\n",
    "import pandas as pd\n",
    "import pickle \n",
    "from sklearn.metrics import f1_score\n",
    "outputs = torch.load('../../NLP-model-ForSimCSE/test_predict/mini_30e_001.pt')"
   ]
  },
  {
   "cell_type": "code",
   "execution_count": 2,
   "id": "f1628c4a-9abd-4537-bb83-0d8814d42ed3",
   "metadata": {},
   "outputs": [
    {
     "data": {
      "text/plain": [
       "array([[0., 0., 0., ..., 0., 0., 0.],\n",
       "       [0., 0., 0., ..., 0., 0., 0.],\n",
       "       [0., 0., 0., ..., 0., 0., 0.],\n",
       "       ...,\n",
       "       [0., 0., 0., ..., 0., 0., 0.],\n",
       "       [0., 0., 0., ..., 0., 0., 0.],\n",
       "       [0., 0., 0., ..., 0., 0., 0.]], dtype=float32)"
      ]
     },
     "execution_count": 2,
     "metadata": {},
     "output_type": "execute_result"
    }
   ],
   "source": [
    "temp = outputs[0].cpu().detach().numpy()\n",
    "for i in range(1,len(outputs)):\n",
    "    temp = temp + outputs[i].cpu().detach().numpy()\n",
    "temp = temp/len(outputs)\n",
    "temp[np.where(temp>0.25)] = 1\n",
    "temp[np.where(temp<=0.25)] = 0\n",
    "temp"
   ]
  },
  {
   "cell_type": "code",
   "execution_count": 3,
   "id": "d0ca7612-43de-4713-a182-40c006cd436c",
   "metadata": {},
   "outputs": [
    {
     "data": {
      "text/plain": [
       "183"
      ]
     },
     "execution_count": 3,
     "metadata": {},
     "output_type": "execute_result"
    }
   ],
   "source": [
    "(temp.sum(axis = 1) == 0).sum()"
   ]
  },
  {
   "cell_type": "code",
   "execution_count": 4,
   "id": "1b249995-3a8f-4555-a212-85ad59360b55",
   "metadata": {},
   "outputs": [
    {
     "name": "stdout",
     "output_type": "stream",
     "text": [
      "605\n"
     ]
    }
   ],
   "source": [
    "mini_test_data = pd.read_csv('../../data/mini_test_data.csv')\n",
    "mini_id2label = pickle.load(open('../../temp_results/mini_id2label_lst.pkl','rb'))\n",
    "mini_label2id = pickle.load(open('../../temp_results/mini_label2id_dict.pkl','rb'))\n",
    "print(len(mini_id2label))\n",
    "labels = np.zeros((mini_test_data.shape[0],len(mini_id2label)),dtype = np.float32)"
   ]
  },
  {
   "cell_type": "code",
   "execution_count": 5,
   "id": "896d64ab-d5f9-4f01-a64e-fbe31405c972",
   "metadata": {},
   "outputs": [],
   "source": [
    "def str2id_lst(str_label):\n",
    "    id_lst = []\n",
    "    for l in str_label.split(','):\n",
    "        id_lst.append(mini_label2id[l])\n",
    "    return id_lst\n",
    "\n",
    "for i,_str_label in enumerate(mini_test_data['cpc_ids']):\n",
    "    for idx in str2id_lst(_str_label):\n",
    "        labels[i,idx] = 1"
   ]
  },
  {
   "cell_type": "code",
   "execution_count": 6,
   "id": "8b37c597-7c4b-4aaf-a21e-ed0b9055e974",
   "metadata": {},
   "outputs": [
    {
     "name": "stdout",
     "output_type": "stream",
     "text": [
      "0.5824022918129342\n"
     ]
    }
   ],
   "source": [
    "print(f1_score(y_true=labels,y_pred=temp,average='samples'))"
   ]
  },
  {
   "cell_type": "code",
   "execution_count": null,
   "id": "d66913b1-dc6a-4b9e-ab56-b55dc9885fb2",
   "metadata": {},
   "outputs": [],
   "source": []
  },
  {
   "cell_type": "code",
   "execution_count": null,
   "id": "5d5f8c6c-f935-4bf7-9505-379a76a32af3",
   "metadata": {},
   "outputs": [],
   "source": []
  },
  {
   "cell_type": "code",
   "execution_count": 7,
   "id": "1de1e518-6b46-41bc-bbc2-54c0610b7441",
   "metadata": {},
   "outputs": [
    {
     "name": "stdout",
     "output_type": "stream",
     "text": [
      "f1_sco_n: 0.23722150063355693\n",
      "k: 1\n",
      "f1_sco_n: 0.3252233200025113\n",
      "k: 2\n",
      "f1_sco_n: 0.3805874814156023\n",
      "k: 3\n",
      "f1_sco_n: 0.4201208271116975\n",
      "k: 4\n",
      "f1_sco_n: 0.4488773789024379\n",
      "k: 5\n",
      "f1_sco_n: 0.4719660464338237\n",
      "k: 6\n",
      "f1_sco_n: 0.4902987840749721\n",
      "k: 7\n",
      "f1_sco_n: 0.5057582535642556\n",
      "k: 8\n",
      "f1_sco_n: 0.5183545883433731\n",
      "k: 9\n",
      "f1_sco_n: 0.5288511579312613\n",
      "k: 10\n",
      "f1_sco_n: 0.5369160027441712\n",
      "k: 11\n",
      "f1_sco_n: 0.5435315500844821\n",
      "k: 12\n",
      "f1_sco_n: 0.5513149866881485\n",
      "k: 13\n",
      "f1_sco_n: 0.5558046584542908\n",
      "k: 14\n",
      "f1_sco_n: 0.56053463713574\n",
      "k: 15\n",
      "f1_sco_n: 0.5640465820127585\n",
      "k: 16\n",
      "f1_sco_n: 0.568686384571311\n",
      "k: 17\n",
      "f1_sco_n: 0.5709983315703904\n",
      "k: 18\n",
      "f1_sco_n: 0.574408413520604\n",
      "k: 19\n",
      "f1_sco_n: 0.5779772758845902\n",
      "k: 20\n",
      "f1_sco_n: 0.580461748000022\n",
      "k: 21\n",
      "f1_sco_n: 0.5807238892084867\n",
      "k: 22\n",
      "f1_sco_n: 0.5804546986767962\n",
      "f1_sco_n: 0.5819710139404798\n",
      "k: 24\n",
      "f1_sco_n: 0.5824022918129342\n",
      "k: 25\n",
      "f1_sco_n: 0.5813282941731471\n",
      "f1_sco_n: 0.5806328338328338\n",
      "f1_sco_n: 0.5793602021752756\n",
      "f1_sco_n: 0.5782747754696284\n",
      "f1_sco_n: 0.575432925530352\n",
      "f1_sco_n: 0.5750497753472018\n",
      "f1_sco_n: 0.5732660457597958\n",
      "f1_sco_n: 0.5723841658341658\n",
      "f1_sco_n: 0.5688682511932511\n",
      "f1_sco_n: 0.5668912046287046\n",
      "f1_sco_n: 0.5659627067377068\n",
      "f1_sco_n: 0.5626807983682984\n",
      "f1_sco_n: 0.5604037781662782\n",
      "f1_sco_n: 0.5568778624153624\n",
      "f1_sco_n: 0.5538492146742147\n",
      "f1_sco_n: 0.5511846653346654\n",
      "f1_sco_n: 0.5481583666333666\n",
      "f1_sco_n: 0.5453376776001776\n",
      "f1_sco_n: 0.5414604409479409\n",
      "f1_sco_n: 0.5378712024087025\n",
      "f1_sco_n: 0.5340887709512709\n",
      "f1_sco_n: 0.5299923423798424\n",
      "f1_sco_n: 0.5254375388500389\n",
      "f1_sco_n: 0.5214026903651905\n",
      "f1_sco_n: 0.5175059093684095\n",
      "f1_sco_n: 0.5139099317349317\n",
      "f1_sco_n: 0.5105722333222333\n",
      "f1_sco_n: 0.5049675324675326\n",
      "f1_sco_n: 0.5019154220779221\n",
      "f1_sco_n: 0.4980771284271284\n",
      "f1_sco_n: 0.4939243506493507\n",
      "f1_sco_n: 0.4884359543234543\n",
      "f1_sco_n: 0.4838602688977689\n",
      "f1_sco_n: 0.47971634754134757\n",
      "f1_sco_n: 0.47279482739482737\n",
      "f1_sco_n: 0.46773371628371624\n",
      "f1_sco_n: 0.4618298396048396\n",
      "f1_sco_n: 0.4558823468198468\n",
      "f1_sco_n: 0.4500418706293706\n",
      "f1_sco_n: 0.44577278693528694\n",
      "f1_sco_n: 0.4388454892329892\n",
      "f1_sco_n: 0.43538404234654227\n",
      "f1_sco_n: 0.42897110944610944\n",
      "f1_sco_n: 0.42296447163947165\n",
      "f1_sco_n: 0.41765767149517147\n",
      "f1_sco_n: 0.41175886197136197\n",
      "f1_sco_n: 0.4024229853479853\n",
      "f1_sco_n: 0.3959166361416361\n",
      "f1_sco_n: 0.3878892857142857\n",
      "f1_sco_n: 0.3799936868686869\n",
      "f1_sco_n: 0.3709631132756133\n",
      "f1_sco_n: 0.3633041486291486\n",
      "f1_sco_n: 0.3540684343434343\n",
      "f1_sco_n: 0.3428378787878788\n",
      "f1_sco_n: 0.33258998917748916\n",
      "f1_sco_n: 0.32283860028860034\n",
      "f1_sco_n: 0.3131814033189033\n",
      "f1_sco_n: 0.3028472763347763\n",
      "f1_sco_n: 0.29067424242424245\n",
      "f1_sco_n: 0.2804258297258297\n",
      "f1_sco_n: 0.26597940115440116\n",
      "f1_sco_n: 0.2519542027417027\n",
      "f1_sco_n: 0.24152205988455988\n",
      "f1_sco_n: 0.22615360750360747\n",
      "f1_sco_n: 0.21250479797979796\n",
      "f1_sco_n: 0.19855674603174603\n",
      "f1_sco_n: 0.1851107142857143\n",
      "f1_sco_n: 0.1674063492063492\n",
      "f1_sco_n: 0.14864920634920634\n",
      "f1_sco_n: 0.12825813492063493\n",
      "f1_sco_n: 0.10984384920634921\n",
      "f1_sco_n: 0.08480079365079365\n",
      "f1_sco_n: 0.06134007936507936\n",
      "f1_sco_n: 0.0298609126984127\n"
     ]
    }
   ],
   "source": [
    "f1_sco = 0\n",
    "for k in range(1,100):\n",
    "    temp = outputs[0].cpu().detach().numpy()\n",
    "    for i in range(1,len(outputs)):\n",
    "        temp = temp + outputs[i].cpu().detach().numpy()\n",
    "    temp = temp/len(outputs)\n",
    "    temp[np.where(temp>k/100)] = 1\n",
    "    temp[np.where(temp<=k/100)] = 0\n",
    "    f1_sco_n = f1_score(y_true=labels,y_pred=temp,average='samples')\n",
    "    print('f1_sco_n:',f1_sco_n)\n",
    "    if f1_sco < f1_sco_n:\n",
    "        f1_sco = f1_sco_n\n",
    "        print('k:',k)"
   ]
  },
  {
   "cell_type": "code",
   "execution_count": null,
   "id": "1775a119-40cd-402e-bf6c-f69aef4842e4",
   "metadata": {},
   "outputs": [],
   "source": []
  }
 ],
 "metadata": {
  "kernelspec": {
   "display_name": "Python 3 (ipykernel)",
   "language": "python",
   "name": "python3"
  },
  "language_info": {
   "codemirror_mode": {
    "name": "ipython",
    "version": 3
   },
   "file_extension": ".py",
   "mimetype": "text/x-python",
   "name": "python",
   "nbconvert_exporter": "python",
   "pygments_lexer": "ipython3",
   "version": "3.8.10"
  }
 },
 "nbformat": 4,
 "nbformat_minor": 5
}
