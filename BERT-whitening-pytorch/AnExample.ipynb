{
 "cells": [
  {
   "cell_type": "code",
   "execution_count": 18,
   "id": "a37c459c-759d-468a-a1ac-8185e996c3c3",
   "metadata": {},
   "outputs": [
    {
     "name": "stdout",
     "output_type": "stream",
     "text": [
      "Configs: anferico/bert-for-patents-first_last_avg-True-384.\n",
      "Loading 14000 training samples from ../data/mini_train_data.csv\n"
     ]
    },
    {
     "name": "stderr",
     "output_type": "stream",
     "text": [
      "Some weights of the model checkpoint at anferico/bert-for-patents were not used when initializing BertModel: ['cls.predictions.transform.dense.weight', 'cls.predictions.decoder.bias', 'cls.predictions.transform.LayerNorm.weight', 'cls.predictions.bias', 'cls.predictions.transform.dense.bias', 'cls.seq_relationship.bias', 'cls.predictions.decoder.weight', 'cls.seq_relationship.weight', 'cls.predictions.transform.LayerNorm.bias']\n",
      "- This IS expected if you are initializing BertModel from the checkpoint of a model trained on another task or with another architecture (e.g. initializing a BertForSequenceClassification model from a BertForPreTraining model).\n",
      "- This IS NOT expected if you are initializing BertModel from the checkpoint of a model that you expect to be exactly identical (initializing a BertForSequenceClassification model from a BertForSequenceClassification model).\n"
     ]
    },
    {
     "name": "stdout",
     "output_type": "stream",
     "text": [
      "Building anferico/bert-for-patents tokenizer and model successfuly.\n",
      "Transfer sentences to BERT vectors.\n"
     ]
    },
    {
     "name": "stderr",
     "output_type": "stream",
     "text": [
      "100%|██████████| 14000/14000 [05:55<00:00, 39.39it/s]\n"
     ]
    },
    {
     "name": "stdout",
     "output_type": "stream",
     "text": [
      "Compute kernel and bias.\n"
     ]
    }
   ],
   "source": [
    "import os\n",
    "import torch\n",
    "import numpy as np\n",
    "import pandas as pd\n",
    "from transformers import BertModel, BertTokenizer\n",
    "from tqdm import tqdm\n",
    "import scipy.stats\n",
    "\n",
    "TRAIN_PATH = '../data/Patent14K/train.csv'\n",
    "TEST_PATH = '../data/Patent14K/test.csv' # is not uesd\n",
    "\n",
    "MODEL_NAME = \"anferico/bert-for-patents\"\n",
    "\n",
    "POOLING = 'first_last_avg'\n",
    "# POOLING = 'last_avg'\n",
    "# POOLING = 'last2avg'\n",
    "\n",
    "USE_WHITENING = True\n",
    "N_COMPONENTS = 384\n",
    "MAX_LENGTH = 512\n",
    "\n",
    "DEVICE = torch.device('cuda' if torch.cuda.is_available() else 'cpu')\n",
    "\n",
    "def load_dataset(path):\n",
    "    sent_batch = []\n",
    "    test_data =pd.read_csv(path)\n",
    "    for sent in test_data['text']:\n",
    "        sent_batch.append(sent[3:])\n",
    "    return sent_batch\n",
    "\n",
    "def build_model(name):\n",
    "    tokenizer = BertTokenizer.from_pretrained(name)\n",
    "    model = BertModel.from_pretrained(name)\n",
    "    model = model.to(DEVICE)\n",
    "    return tokenizer, model\n",
    "\n",
    "\n",
    "def sents_to_vecs(sents, tokenizer, model):\n",
    "    vecs = []\n",
    "    with torch.no_grad():\n",
    "        for sent in tqdm(sents):\n",
    "            inputs = tokenizer(sent, return_tensors=\"pt\", padding=True, truncation=True,  max_length=MAX_LENGTH)\n",
    "            inputs['input_ids'] = inputs['input_ids'].to(DEVICE)\n",
    "            inputs['token_type_ids'] = inputs['token_type_ids'].to(DEVICE)\n",
    "            inputs['attention_mask'] = inputs['attention_mask'].to(DEVICE)\n",
    "\n",
    "            hidden_states = model(**inputs, return_dict=True, output_hidden_states=True).hidden_states\n",
    "\n",
    "            if POOLING == 'first_last_avg':\n",
    "                output_hidden_state = (hidden_states[-1] + hidden_states[1]).mean(dim=1)\n",
    "            elif POOLING == 'last_avg':\n",
    "                output_hidden_state = (hidden_states[-1]).mean(dim=1)\n",
    "            elif POOLING == 'last2avg':\n",
    "                output_hidden_state = (hidden_states[-1] + hidden_states[-2]).mean(dim=1)\n",
    "            else:\n",
    "                raise Exception(\"unknown pooling {}\".format(POOLING))\n",
    "\n",
    "            vec = output_hidden_state.cpu().numpy()[0]\n",
    "            vecs.append(vec)\n",
    "    assert len(sents) == len(vecs)\n",
    "    vecs = np.array(vecs)\n",
    "    return vecs\n",
    "\n",
    "\n",
    "def calc_spearmanr_corr(x, y):\n",
    "    return scipy.stats.spearmanr(x, y).correlation\n",
    "\n",
    "\n",
    "def compute_kernel_bias(vecs, n_components):\n",
    "    \"\"\"计算kernel和bias\n",
    "    最后的变换：y = (x + bias).dot(kernel)\n",
    "    \"\"\"\n",
    "    vecs = np.concatenate(vecs, axis=0)\n",
    "    mu = vecs.mean(axis=0, keepdims=True)\n",
    "    cov = np.cov(vecs.T)\n",
    "    u, s, vh = np.linalg.svd(cov)\n",
    "    W = np.dot(u, np.diag(s**0.5))\n",
    "    W = np.linalg.inv(W.T)\n",
    "    W = W[:, :n_components]\n",
    "    return W, -mu\n",
    "\n",
    "\n",
    "def transform_and_normalize(vecs, kernel, bias):\n",
    "    \"\"\"应用变换，然后标准化\n",
    "    \"\"\"\n",
    "    if not (kernel is None or bias is None):\n",
    "        vecs = (vecs + bias).dot(kernel)\n",
    "    return vecs / (vecs**2).sum(axis=1, keepdims=True)**0.5\n",
    "\n",
    "\n",
    "def normalize(vecs):\n",
    "    \"\"\"标准化\n",
    "    \"\"\"\n",
    "    return vecs / (vecs**2).sum(axis=1, keepdims=True)**0.5\n",
    "\n",
    "\n",
    "print(f\"Configs: {MODEL_NAME}-{POOLING}-{USE_WHITENING}-{N_COMPONENTS}.\")\n",
    "\n",
    "a_sents_train = load_dataset(TRAIN_PATH)\n",
    "print(\"Loading {} training samples from {}\".format(len(a_sents_train), TRAIN_PATH))\n",
    "\n",
    "\n",
    "tokenizer, model = build_model(MODEL_NAME)\n",
    "print(\"Building {} tokenizer and model successfuly.\".format(MODEL_NAME))\n",
    "\n",
    "print(\"Transfer sentences to BERT vectors.\")\n",
    "\n",
    "if USE_WHITENING:\n",
    "    a_vecs_train = sents_to_vecs(a_sents_train, tokenizer, model)\n",
    "\n",
    "    print(\"Compute kernel and bias.\")\n",
    "    kernel, bias = compute_kernel_bias([\n",
    "        a_vecs_train\n",
    "    ], n_components=N_COMPONENTS)\n",
    "\n",
    "\n",
    "\n",
    "#     print(\"Results:\")\n",
    "#     test_sims = (a_vecs_test * b_vecs_test).sum(axis=1)\n",
    "#     print(u'Spearmanr corr in Testing set：%s' % calc_spearmanr_corr(scores_test, test_sims))\n",
    "\n"
   ]
  },
  {
   "cell_type": "code",
   "execution_count": 20,
   "id": "923b3724-af2c-43c6-811a-ce5a57885394",
   "metadata": {},
   "outputs": [
    {
     "data": {
      "text/plain": [
       "((1024, 384), (1, 1024))"
      ]
     },
     "execution_count": 20,
     "metadata": {},
     "output_type": "execute_result"
    }
   ],
   "source": [
    "kernel.shape,bias.shape"
   ]
  },
  {
   "cell_type": "code",
   "execution_count": 22,
   "id": "3c96fdc7-187e-411c-a255-a91ec19f7163",
   "metadata": {},
   "outputs": [
    {
     "data": {
      "text/plain": [
       "(4, 384)"
      ]
     },
     "execution_count": 22,
     "metadata": {},
     "output_type": "execute_result"
    }
   ],
   "source": [
    "(np.ones((4,1024))+bias).dot(kernel).shape"
   ]
  },
  {
   "cell_type": "code",
   "execution_count": null,
   "id": "79d0d5ff-6990-4751-aef6-84e5cf0021ce",
   "metadata": {},
   "outputs": [],
   "source": []
  }
 ],
 "metadata": {
  "kernelspec": {
   "display_name": "Python 3 (ipykernel)",
   "language": "python",
   "name": "python3"
  },
  "language_info": {
   "codemirror_mode": {
    "name": "ipython",
    "version": 3
   },
   "file_extension": ".py",
   "mimetype": "text/x-python",
   "name": "python",
   "nbconvert_exporter": "python",
   "pygments_lexer": "ipython3",
   "version": "3.8.10"
  }
 },
 "nbformat": 4,
 "nbformat_minor": 5
}