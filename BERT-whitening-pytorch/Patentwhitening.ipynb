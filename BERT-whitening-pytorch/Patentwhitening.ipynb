{
 "cells": [
  {
   "cell_type": "markdown",
   "id": "5eb03b5e-c48e-4cf0-98e5-bb3b7852e168",
   "metadata": {
    "tags": []
   },
   "source": [
    "## Get param kenrel and bias"
   ]
  },
  {
   "cell_type": "code",
   "execution_count": 1,
   "id": "da81869e-38d3-4c5c-9c16-114c75734a94",
   "metadata": {},
   "outputs": [
    {
     "name": "stdout",
     "output_type": "stream",
     "text": [
      "Configs: anferico/bert-for-patents-first_last_avg-True-384.\n",
      "Loading 14000 training samples from ../data/mini_train_data.csv\n"
     ]
    },
    {
     "name": "stderr",
     "output_type": "stream",
     "text": [
      "Some weights of the model checkpoint at anferico/bert-for-patents were not used when initializing BertModel: ['cls.predictions.transform.LayerNorm.bias', 'cls.predictions.transform.dense.bias', 'cls.seq_relationship.weight', 'cls.predictions.bias', 'cls.predictions.decoder.bias', 'cls.predictions.transform.LayerNorm.weight', 'cls.seq_relationship.bias', 'cls.predictions.transform.dense.weight', 'cls.predictions.decoder.weight']\n",
      "- This IS expected if you are initializing BertModel from the checkpoint of a model trained on another task or with another architecture (e.g. initializing a BertForSequenceClassification model from a BertForPreTraining model).\n",
      "- This IS NOT expected if you are initializing BertModel from the checkpoint of a model that you expect to be exactly identical (initializing a BertForSequenceClassification model from a BertForSequenceClassification model).\n"
     ]
    },
    {
     "name": "stdout",
     "output_type": "stream",
     "text": [
      "Building anferico/bert-for-patents tokenizer and model successfuly.\n",
      "Transfer sentences to BERT vectors.\n"
     ]
    },
    {
     "name": "stderr",
     "output_type": "stream",
     "text": [
      "100%|██████████| 14000/14000 [06:01<00:00, 38.72it/s]\n"
     ]
    },
    {
     "name": "stdout",
     "output_type": "stream",
     "text": [
      "Compute kernel and bias.\n"
     ]
    }
   ],
   "source": [
    "import os\n",
    "import torch\n",
    "import numpy as np\n",
    "import pandas as pd\n",
    "from transformers import BertModel, BertTokenizer\n",
    "from tqdm import tqdm\n",
    "import scipy.stats\n",
    "\n",
    "TRAIN_PATH = '../data/mini_train_data.csv'\n",
    "TEST_PATH = '../data/mini_test_data.csv' # is not uesd\n",
    "\n",
    "MODEL_NAME = \"anferico/bert-for-patents\"\n",
    "\n",
    "POOLING = 'first_last_avg'\n",
    "# POOLING = 'last_avg'\n",
    "# POOLING = 'last2avg'\n",
    "\n",
    "USE_WHITENING = True\n",
    "N_COMPONENTS = 384\n",
    "MAX_LENGTH = 512\n",
    "\n",
    "DEVICE = torch.device('cuda' if torch.cuda.is_available() else 'cpu')\n",
    "\n",
    "def load_dataset(path):\n",
    "    sent_batch = []\n",
    "    test_data =pd.read_csv(path)\n",
    "    for sent in test_data['text']:\n",
    "        sent_batch.append(sent[3:])\n",
    "    return sent_batch\n",
    "\n",
    "def build_model(name):\n",
    "    tokenizer = BertTokenizer.from_pretrained(name)\n",
    "    model = BertModel.from_pretrained(name)\n",
    "    model = model.to(DEVICE)\n",
    "    return tokenizer, model\n",
    "\n",
    "\n",
    "def sents_to_vecs(sents, tokenizer, model):\n",
    "    vecs = []\n",
    "    with torch.no_grad():\n",
    "        for sent in tqdm(sents):\n",
    "            inputs = tokenizer(sent, return_tensors=\"pt\", padding=True, truncation=True,  max_length=MAX_LENGTH)\n",
    "            inputs['input_ids'] = inputs['input_ids'].to(DEVICE)\n",
    "            inputs['token_type_ids'] = inputs['token_type_ids'].to(DEVICE)\n",
    "            inputs['attention_mask'] = inputs['attention_mask'].to(DEVICE)\n",
    "\n",
    "            hidden_states = model(**inputs, return_dict=True, output_hidden_states=True).hidden_states\n",
    "\n",
    "            if POOLING == 'first_last_avg':\n",
    "                output_hidden_state = (hidden_states[-1] + hidden_states[1]).mean(dim=1)\n",
    "            elif POOLING == 'last_avg':\n",
    "                output_hidden_state = (hidden_states[-1]).mean(dim=1)\n",
    "            elif POOLING == 'last2avg':\n",
    "                output_hidden_state = (hidden_states[-1] + hidden_states[-2]).mean(dim=1)\n",
    "            else:\n",
    "                raise Exception(\"unknown pooling {}\".format(POOLING))\n",
    "\n",
    "            vec = output_hidden_state.cpu().numpy()[0]\n",
    "            vecs.append(vec)\n",
    "    assert len(sents) == len(vecs)\n",
    "    vecs = np.array(vecs)\n",
    "    return vecs\n",
    "\n",
    "\n",
    "def calc_spearmanr_corr(x, y):\n",
    "    return scipy.stats.spearmanr(x, y).correlation\n",
    "\n",
    "\n",
    "def compute_kernel_bias(vecs, n_components):\n",
    "    \"\"\"计算kernel和bias\n",
    "    最后的变换：y = (x + bias).dot(kernel)\n",
    "    \"\"\"\n",
    "    vecs = np.concatenate(vecs, axis=0)\n",
    "    mu = vecs.mean(axis=0, keepdims=True)\n",
    "    cov = np.cov(vecs.T)\n",
    "    u, s, vh = np.linalg.svd(cov)\n",
    "    W = np.dot(u, np.diag(s**0.5))\n",
    "    W = np.linalg.inv(W.T)\n",
    "    W = W[:, :n_components]\n",
    "    return W, -mu\n",
    "\n",
    "\n",
    "def transform_and_normalize(vecs, kernel, bias):\n",
    "    \"\"\"应用变换，然后标准化\n",
    "    \"\"\"\n",
    "    if not (kernel is None or bias is None):\n",
    "        vecs = (vecs + bias).dot(kernel)\n",
    "    return vecs / (vecs**2).sum(axis=1, keepdims=True)**0.5\n",
    "\n",
    "\n",
    "def normalize(vecs):\n",
    "    \"\"\"标准化\n",
    "    \"\"\"\n",
    "    return vecs / (vecs**2).sum(axis=1, keepdims=True)**0.5\n",
    "\n",
    "\n",
    "print(f\"Configs: {MODEL_NAME}-{POOLING}-{USE_WHITENING}-{N_COMPONENTS}.\")\n",
    "\n",
    "a_sents_train = load_dataset(TRAIN_PATH)\n",
    "print(\"Loading {} training samples from {}\".format(len(a_sents_train), TRAIN_PATH))\n",
    "\n",
    "\n",
    "tokenizer, model = build_model(MODEL_NAME)\n",
    "print(\"Building {} tokenizer and model successfuly.\".format(MODEL_NAME))\n",
    "\n",
    "print(\"Transfer sentences to BERT vectors.\")\n",
    "\n",
    "if USE_WHITENING:\n",
    "    a_vecs_train = sents_to_vecs(a_sents_train, tokenizer, model)\n",
    "\n",
    "    print(\"Compute kernel and bias.\")\n",
    "    kernel, bias = compute_kernel_bias([\n",
    "        a_vecs_train\n",
    "    ], n_components=N_COMPONENTS)\n"
   ]
  },
  {
   "cell_type": "markdown",
   "id": "740683aa-bc7e-4240-acce-63ec43dff266",
   "metadata": {},
   "source": [
    "# Main Model"
   ]
  },
  {
   "cell_type": "code",
   "execution_count": 56,
   "id": "2a1e5ae3-ef56-4fc9-b8ac-3dc732798b0a",
   "metadata": {},
   "outputs": [],
   "source": [
    "import pandas as pd\n",
    "import pickle\n",
    "import numpy as np\n",
    "from torch.utils.data import Dataset,DataLoader\n",
    "import torch\n",
    "import torch.nn as nn\n",
    "import torch.nn.functional as F\n",
    "\n",
    "from transformers import AdamW\n",
    "from operator import itemgetter\n",
    "from sklearn.model_selection import StratifiedKFold\n",
    "\n",
    "import os\n",
    "os.environ['CUDA_VISIBLE_DEVICES'] = '0'\n",
    "torch.cuda.set_device(0)"
   ]
  },
  {
   "cell_type": "code",
   "execution_count": 57,
   "id": "06e0214a-5f26-43e3-ae8a-fec77c00fbdc",
   "metadata": {},
   "outputs": [
    {
     "name": "stderr",
     "output_type": "stream",
     "text": [
      "/tmp/ipykernel_120630/2459538660.py:1: UserWarning: To copy construct from a tensor, it is recommended to use sourceTensor.clone().detach() or sourceTensor.clone().detach().requires_grad_(True), rather than torch.tensor(sourceTensor).\n",
      "  kernel = torch.tensor(kernel,dtype=torch.float32).cuda()\n",
      "/tmp/ipykernel_120630/2459538660.py:2: UserWarning: To copy construct from a tensor, it is recommended to use sourceTensor.clone().detach() or sourceTensor.clone().detach().requires_grad_(True), rather than torch.tensor(sourceTensor).\n",
      "  bias = torch.tensor(bias,dtype=torch.float32).cuda()\n"
     ]
    }
   ],
   "source": [
    "kernel = torch.tensor(kernel,dtype=torch.float32).cuda()\n",
    "bias = torch.tensor(bias,dtype=torch.float32).cuda()"
   ]
  },
  {
   "cell_type": "code",
   "execution_count": 58,
   "id": "5e2b69c8-a177-4ae6-8476-898a57052b71",
   "metadata": {},
   "outputs": [],
   "source": [
    "label2id = pickle.load(open('../temp_results/mini_label2id_dict.pkl','rb'))\n",
    "id2label = pickle.load(open('../temp_results/mini_id2label_lst.pkl','rb'))"
   ]
  },
  {
   "cell_type": "code",
   "execution_count": 59,
   "id": "aee0f61b-0d73-4980-9dc1-02cafb9afe32",
   "metadata": {},
   "outputs": [],
   "source": [
    "train_data = pd.read_csv('../data/mini_train_data.csv')\n",
    "test_data = pd.read_csv('../data/mini_test_data.csv')"
   ]
  },
  {
   "cell_type": "code",
   "execution_count": 60,
   "id": "9fd782f6-d787-4088-bd8c-a7f0dc445124",
   "metadata": {},
   "outputs": [
    {
     "name": "stderr",
     "output_type": "stream",
     "text": [
      "Some weights of the model checkpoint at anferico/bert-for-patents were not used when initializing BertForMaskedLM: ['cls.seq_relationship.bias', 'cls.seq_relationship.weight']\n",
      "- This IS expected if you are initializing BertForMaskedLM from the checkpoint of a model trained on another task or with another architecture (e.g. initializing a BertForSequenceClassification model from a BertForPreTraining model).\n",
      "- This IS NOT expected if you are initializing BertForMaskedLM from the checkpoint of a model that you expect to be exactly identical (initializing a BertForSequenceClassification model from a BertForSequenceClassification model).\n"
     ]
    }
   ],
   "source": [
    "from transformers import AutoModelForMaskedLM,AutoTokenizer\n",
    "\n",
    "model = AutoModelForMaskedLM.from_pretrained(\"anferico/bert-for-patents\")\n",
    "tokenizer = AutoTokenizer.from_pretrained(\"anferico/bert-for-patents\")"
   ]
  },
  {
   "cell_type": "markdown",
   "id": "cc731314-943f-4ee3-889c-1bd37ceea58d",
   "metadata": {},
   "source": [
    "# Data Loader"
   ]
  },
  {
   "cell_type": "code",
   "execution_count": 61,
   "id": "34139872-f8d7-4ccf-816b-2656e7bc838c",
   "metadata": {},
   "outputs": [],
   "source": [
    "def str2id_lst(str_label):\n",
    "    id_lst = []\n",
    "    for l in str_label.split(','):\n",
    "        id_lst.append(label2id[l])\n",
    "    return id_lst\n",
    "\n",
    "class PatentDataset(Dataset):\n",
    "    def __init__(self,df,labeled = True):\n",
    "        self.df = df\n",
    "        self.labeled = labeled\n",
    "        \n",
    "    def __len__(self):\n",
    "        return self.df.shape[0]\n",
    "    \n",
    "    def __getitem__(self,idx):\n",
    "        text = self.df.iloc[idx]['text'][3:]\n",
    "        label = str2id_lst(self.df.iloc[idx]['cpc_ids'])\n",
    "        \n",
    "        if self.labeled:\n",
    "            return text,label\n",
    "        else:\n",
    "            return text,None\n",
    "        "
   ]
  },
  {
   "cell_type": "code",
   "execution_count": 62,
   "id": "fd54a648-3731-4a71-94df-e405b05d1576",
   "metadata": {},
   "outputs": [],
   "source": [
    "test_dataset = PatentDataset(test_data)"
   ]
  },
  {
   "cell_type": "code",
   "execution_count": 63,
   "id": "4d5037c0-9b01-4c1d-b26b-e4a3078f60b5",
   "metadata": {},
   "outputs": [],
   "source": [
    "def collate_fn(data):\n",
    "    sents = [i[0] for i in data]\n",
    "    labels = [i[1] for i in data]\n",
    "    \n",
    "    data = tokenizer.batch_encode_plus(batch_text_or_text_pairs=sents,\n",
    "                                       truncation=True,\n",
    "                                       padding='max_length',\n",
    "                                       max_length=500,\n",
    "                                       return_tensors='pt',\n",
    "                                       return_length=True)\n",
    "    input_ids = data['input_ids']\n",
    "    attention_mask = data['attention_mask']\n",
    "    token_type_ids = data['token_type_ids']\n",
    "    \n",
    "    batch_label = np.zeros((len(labels),len(id2label)))\n",
    "    for i,_label in enumerate(labels):\n",
    "        batch_label[i,_label]=1\n",
    "    \n",
    "    batch_label = torch.tensor(batch_label,dtype=torch.float32)\n",
    "    \n",
    "    return input_ids, attention_mask, token_type_ids, batch_label\n",
    "    "
   ]
  },
  {
   "cell_type": "code",
   "execution_count": 64,
   "id": "ebbf43df-16cc-46a3-b9da-fbf871e9afd3",
   "metadata": {},
   "outputs": [],
   "source": [
    "test_dataloader = DataLoader(dataset = test_dataset,\n",
    "                             batch_size = 4,\n",
    "                             collate_fn = collate_fn)"
   ]
  },
  {
   "cell_type": "markdown",
   "id": "7506f49c-923f-4b19-ab57-98cc5d67491c",
   "metadata": {
    "tags": []
   },
   "source": [
    "# Define Model"
   ]
  },
  {
   "cell_type": "code",
   "execution_count": 65,
   "id": "96bfda09-17fa-4194-90d1-73f332a5645f",
   "metadata": {
    "tags": []
   },
   "outputs": [],
   "source": [
    "class PatentClsModel(nn.Module):\n",
    "    def __init__(self,bert_model,backbone_fixed = True):\n",
    "        super().__init__()\n",
    "        self.fc = nn.Sequential(nn.BatchNorm1d(384),\n",
    "                                nn.Dropout(0.5),\n",
    "                                nn.Linear(384,768),\n",
    "                                nn.ReLU(),\n",
    "                                nn.BatchNorm1d(768),\n",
    "                                nn.Dropout(0.5),\n",
    "                                nn.Linear(768,len(id2label)))\n",
    "        \n",
    "        self.bert_model = bert_model\n",
    "        self.sig = nn.Sigmoid()\n",
    "        self.backbone_fixed = backbone_fixed\n",
    "        \n",
    "        for i, module in enumerate(self.fc):\n",
    "            if isinstance(module, (nn.BatchNorm1d, nn.BatchNorm2d)):\n",
    "                nn.init.constant_(module.weight, 1)\n",
    "                nn.init.constant_(module.bias, 0)\n",
    "            elif isinstance(module, nn.Linear):\n",
    "                if getattr(module, \"weight_v\", None) is not None:\n",
    "                    nn.init.uniform_(module.weight_g, 0, 1)\n",
    "                    nn.init.kaiming_normal_(module.weight_v)\n",
    "                    assert model[i].weight_g is not None\n",
    "                else:\n",
    "                    nn.init.kaiming_normal_(module.weight)\n",
    "                nn.init.constant_(module.bias, 0)\n",
    "\n",
    "    def forward(self, input_ids, attention_mask, token_type_ids):\n",
    "        if self.backbone_fixed:\n",
    "            with torch.no_grad():\n",
    "                hidden = self.bert_model(input_ids = input_ids,\n",
    "                                         attention_mask = attention_mask,\n",
    "                                         token_type_ids = token_type_ids,\n",
    "                                         output_hidden_states=True).hidden_states\n",
    "                x = (hidden[-1] + hidden[1]).mean(dim=1)\n",
    "                x = torch.mm(x+bias,kernel)\n",
    "                \n",
    "        else:\n",
    "            hidden = self.bert_model(input_ids = input_ids,\n",
    "                                     attention_mask = attention_mask,\n",
    "                                     token_type_ids = token_type_ids,\n",
    "                                     output_hidden_states=True).hidden_states[-1]\n",
    "            x = (hidden[-1] + hidden[1]).mean(dim=1)\n",
    "            x = torch.mm(x+bias,kernel)\n",
    "            \n",
    "        x = self.fc(x)\n",
    "        x = self.sig(x)\n",
    "        \n",
    "        return x\n",
    "        "
   ]
  },
  {
   "cell_type": "markdown",
   "id": "3fcd4121-e2e7-4cc7-b606-b62c68b892ba",
   "metadata": {
    "tags": []
   },
   "source": [
    "# Training"
   ]
  },
  {
   "cell_type": "code",
   "execution_count": 66,
   "id": "b0e619ce-202e-49b0-aa1f-5033c8407dcb",
   "metadata": {},
   "outputs": [],
   "source": [
    "kfold = StratifiedKFold(n_splits=5)\n",
    "total_epochs = 30\n",
    "test_predict_lst = []"
   ]
  },
  {
   "cell_type": "code",
   "execution_count": null,
   "id": "7c631b42-e179-4506-aaf3-55362e0159d4",
   "metadata": {
    "tags": []
   },
   "outputs": [
    {
     "name": "stderr",
     "output_type": "stream",
     "text": [
      "/root/miniconda3/lib/python3.8/site-packages/sklearn/model_selection/_split.py:684: UserWarning: The least populated class in y has only 1 members, which is less than n_splits=5.\n",
      "  warnings.warn(\n"
     ]
    },
    {
     "name": "stdout",
     "output_type": "stream",
     "text": [
      "********************\n",
      "Fold1\n",
      "********************\n"
     ]
    },
    {
     "name": "stderr",
     "output_type": "stream",
     "text": [
      "/root/miniconda3/lib/python3.8/site-packages/transformers/optimization.py:306: FutureWarning: This implementation of AdamW is deprecated and will be removed in a future version. Use the PyTorch implementation torch.optim.AdamW instead, or set `no_deprecation_warning=True` to disable this warning\n",
      "  warnings.warn(\n"
     ]
    },
    {
     "name": "stdout",
     "output_type": "stream",
     "text": [
      "Dataloader Success---------------------\n",
      "|                                 |\n"
     ]
    },
    {
     "name": "stderr",
     "output_type": "stream",
     "text": [
      "100%|██████████| 2800/2800 [03:34<00:00, 13.02it/s]\n",
      "100%|██████████| 700/700 [00:53<00:00, 13.09it/s]\n"
     ]
    },
    {
     "name": "stdout",
     "output_type": "stream",
     "text": [
      "Epoch 0, val_loss 0.0160\n",
      "Best val loss found:  0.01600022033854787\n"
     ]
    },
    {
     "name": "stderr",
     "output_type": "stream",
     "text": [
      "100%|██████████| 2800/2800 [03:35<00:00, 12.98it/s]\n",
      "100%|██████████| 700/700 [00:53<00:00, 13.13it/s]\n"
     ]
    },
    {
     "name": "stdout",
     "output_type": "stream",
     "text": [
      "Best val loss found:  0.013929396279355776\n"
     ]
    },
    {
     "name": "stderr",
     "output_type": "stream",
     "text": [
      "100%|██████████| 2800/2800 [03:35<00:00, 13.00it/s]\n",
      "100%|██████████| 700/700 [00:53<00:00, 13.12it/s]\n"
     ]
    },
    {
     "name": "stdout",
     "output_type": "stream",
     "text": [
      "Best val loss found:  0.012648805676892931\n"
     ]
    },
    {
     "name": "stderr",
     "output_type": "stream",
     "text": [
      "100%|██████████| 2800/2800 [03:35<00:00, 12.99it/s]\n",
      "100%|██████████| 700/700 [00:53<00:00, 13.14it/s]\n"
     ]
    },
    {
     "name": "stdout",
     "output_type": "stream",
     "text": [
      "Best val loss found:  0.01195431825605088\n"
     ]
    },
    {
     "name": "stderr",
     "output_type": "stream",
     "text": [
      "100%|██████████| 2800/2800 [03:35<00:00, 12.99it/s]\n",
      "100%|██████████| 700/700 [00:53<00:00, 13.14it/s]\n"
     ]
    },
    {
     "name": "stdout",
     "output_type": "stream",
     "text": [
      "Best val loss found:  0.011478564590215684\n",
      "| >>>>>                           |\n"
     ]
    },
    {
     "name": "stderr",
     "output_type": "stream",
     "text": [
      "100%|██████████| 2800/2800 [03:35<00:00, 12.99it/s]\n",
      "100%|██████████| 700/700 [00:53<00:00, 13.09it/s]\n"
     ]
    },
    {
     "name": "stdout",
     "output_type": "stream",
     "text": [
      "Best val loss found:  0.011311318645187255\n"
     ]
    },
    {
     "name": "stderr",
     "output_type": "stream",
     "text": [
      "100%|██████████| 2800/2800 [03:35<00:00, 12.99it/s]\n",
      "100%|██████████| 700/700 [00:53<00:00, 13.14it/s]\n"
     ]
    },
    {
     "name": "stdout",
     "output_type": "stream",
     "text": [
      "Best val loss found:  0.011167860065387296\n"
     ]
    },
    {
     "name": "stderr",
     "output_type": "stream",
     "text": [
      "100%|██████████| 2800/2800 [03:35<00:00, 13.00it/s]\n",
      "100%|██████████| 700/700 [00:53<00:00, 13.10it/s]\n"
     ]
    },
    {
     "name": "stdout",
     "output_type": "stream",
     "text": [
      "Best val loss found:  0.01093898075067305\n"
     ]
    },
    {
     "name": "stderr",
     "output_type": "stream",
     "text": [
      "100%|██████████| 2800/2800 [03:35<00:00, 13.00it/s]\n",
      "100%|██████████| 700/700 [00:53<00:00, 13.14it/s]\n"
     ]
    },
    {
     "name": "stdout",
     "output_type": "stream",
     "text": [
      "Best val loss found:  0.010883142806789172\n"
     ]
    },
    {
     "name": "stderr",
     "output_type": "stream",
     "text": [
      "100%|██████████| 2800/2800 [03:35<00:00, 13.00it/s]\n",
      "100%|██████████| 700/700 [00:53<00:00, 13.18it/s]\n"
     ]
    },
    {
     "name": "stdout",
     "output_type": "stream",
     "text": [
      "Best val loss found:  0.010741989121306687\n",
      "| >>>>>>>>>>                      |\n"
     ]
    },
    {
     "name": "stderr",
     "output_type": "stream",
     "text": [
      "100%|██████████| 2800/2800 [03:35<00:00, 13.00it/s]\n",
      "100%|██████████| 700/700 [00:53<00:00, 13.12it/s]\n"
     ]
    },
    {
     "name": "stdout",
     "output_type": "stream",
     "text": [
      "Epoch 10, val_loss 0.0107\n"
     ]
    },
    {
     "name": "stderr",
     "output_type": "stream",
     "text": [
      "100%|██████████| 2800/2800 [03:35<00:00, 13.00it/s]\n",
      "100%|██████████| 700/700 [00:53<00:00, 13.14it/s]\n"
     ]
    },
    {
     "name": "stdout",
     "output_type": "stream",
     "text": [
      "Best val loss found:  0.010583799209645283\n"
     ]
    },
    {
     "name": "stderr",
     "output_type": "stream",
     "text": [
      "100%|██████████| 2800/2800 [03:35<00:00, 12.99it/s]\n",
      "100%|██████████| 700/700 [00:53<00:00, 13.11it/s]\n",
      "100%|██████████| 2800/2800 [03:35<00:00, 12.99it/s]\n",
      "100%|██████████| 700/700 [00:53<00:00, 13.14it/s]\n"
     ]
    },
    {
     "name": "stdout",
     "output_type": "stream",
     "text": [
      "Best val loss found:  0.01053100017863991\n"
     ]
    },
    {
     "name": "stderr",
     "output_type": "stream",
     "text": [
      "100%|██████████| 2800/2800 [03:35<00:00, 13.00it/s]\n",
      "100%|██████████| 700/700 [00:53<00:00, 13.14it/s]\n"
     ]
    },
    {
     "name": "stdout",
     "output_type": "stream",
     "text": [
      "| >>>>>>>>>>>>>>>                 |\n"
     ]
    },
    {
     "name": "stderr",
     "output_type": "stream",
     "text": [
      "100%|██████████| 2800/2800 [03:35<00:00, 12.98it/s]\n",
      "100%|██████████| 700/700 [00:53<00:00, 13.19it/s]\n",
      "100%|██████████| 2800/2800 [03:34<00:00, 13.02it/s]\n",
      "100%|██████████| 700/700 [00:52<00:00, 13.25it/s]\n",
      "100%|██████████| 2800/2800 [03:35<00:00, 13.01it/s]\n",
      "100%|██████████| 700/700 [00:52<00:00, 13.33it/s]\n",
      "100%|██████████| 2800/2800 [03:35<00:00, 13.01it/s]\n",
      "100%|██████████| 700/700 [00:52<00:00, 13.25it/s]\n"
     ]
    },
    {
     "name": "stdout",
     "output_type": "stream",
     "text": [
      "Best val loss found:  0.010492515246649937\n"
     ]
    },
    {
     "name": "stderr",
     "output_type": "stream",
     "text": [
      "100%|██████████| 2800/2800 [03:35<00:00, 13.00it/s]\n",
      "100%|██████████| 700/700 [00:52<00:00, 13.24it/s]\n"
     ]
    },
    {
     "name": "stdout",
     "output_type": "stream",
     "text": [
      "Best val loss found:  0.010439581741312785\n",
      "| >>>>>>>>>>>>>>>>>>>>            |\n"
     ]
    },
    {
     "name": "stderr",
     "output_type": "stream",
     "text": [
      "100%|██████████| 2800/2800 [03:35<00:00, 13.00it/s]\n",
      "100%|██████████| 700/700 [00:52<00:00, 13.22it/s]\n"
     ]
    },
    {
     "name": "stdout",
     "output_type": "stream",
     "text": [
      "Epoch 20, val_loss 0.0104\n",
      "Best val loss found:  0.010417796136212668\n"
     ]
    },
    {
     "name": "stderr",
     "output_type": "stream",
     "text": [
      "100%|██████████| 2800/2800 [03:35<00:00, 13.00it/s]\n",
      "100%|██████████| 700/700 [00:52<00:00, 13.31it/s]\n"
     ]
    },
    {
     "name": "stdout",
     "output_type": "stream",
     "text": [
      "Best val loss found:  0.010391077890859118\n"
     ]
    },
    {
     "name": "stderr",
     "output_type": "stream",
     "text": [
      "100%|██████████| 2800/2800 [03:35<00:00, 13.01it/s]\n",
      "100%|██████████| 700/700 [00:52<00:00, 13.33it/s]\n",
      "100%|██████████| 2800/2800 [03:35<00:00, 13.00it/s]\n",
      "100%|██████████| 700/700 [00:53<00:00, 13.14it/s]\n",
      "100%|██████████| 2800/2800 [03:35<00:00, 13.00it/s]\n",
      "100%|██████████| 700/700 [00:53<00:00, 13.18it/s]\n"
     ]
    },
    {
     "name": "stdout",
     "output_type": "stream",
     "text": [
      "Best val loss found:  0.010338177170404899\n",
      "| >>>>>>>>>>>>>>>>>>>>>>>>>       |\n"
     ]
    },
    {
     "name": "stderr",
     "output_type": "stream",
     "text": [
      "100%|██████████| 2800/2800 [03:35<00:00, 13.00it/s]\n",
      "100%|██████████| 700/700 [00:52<00:00, 13.21it/s]\n",
      "100%|██████████| 2800/2800 [03:35<00:00, 12.98it/s]\n",
      "100%|██████████| 700/700 [00:52<00:00, 13.22it/s]\n"
     ]
    },
    {
     "name": "stdout",
     "output_type": "stream",
     "text": [
      "Best val loss found:  0.01033579321445099\n"
     ]
    },
    {
     "name": "stderr",
     "output_type": "stream",
     "text": [
      "100%|██████████| 2800/2800 [03:35<00:00, 13.01it/s]\n",
      "100%|██████████| 700/700 [00:52<00:00, 13.21it/s]\n"
     ]
    },
    {
     "name": "stdout",
     "output_type": "stream",
     "text": [
      "Best val loss found:  0.010292984734488917\n"
     ]
    },
    {
     "name": "stderr",
     "output_type": "stream",
     "text": [
      "100%|██████████| 2800/2800 [03:35<00:00, 13.00it/s]\n",
      "100%|██████████| 700/700 [00:53<00:00, 13.16it/s]\n",
      "100%|██████████| 2800/2800 [03:35<00:00, 13.00it/s]\n",
      "100%|██████████| 700/700 [00:52<00:00, 13.31it/s]\n"
     ]
    },
    {
     "name": "stdout",
     "output_type": "stream",
     "text": [
      "This fold, the best val loss is:  0.010292984734488917\n"
     ]
    },
    {
     "name": "stderr",
     "output_type": "stream",
     "text": [
      "100%|██████████| 1000/1000 [01:15<00:00, 13.33it/s]\n"
     ]
    },
    {
     "name": "stdout",
     "output_type": "stream",
     "text": [
      "This fold, the test loss is:  0.011685255819931626\n",
      "********************\n",
      "Fold2\n",
      "********************\n",
      "Dataloader Success---------------------\n",
      "|                                 |\n"
     ]
    },
    {
     "name": "stderr",
     "output_type": "stream",
     "text": [
      "100%|██████████| 2800/2800 [03:35<00:00, 13.02it/s]\n",
      "100%|██████████| 700/700 [00:52<00:00, 13.30it/s]\n"
     ]
    },
    {
     "name": "stdout",
     "output_type": "stream",
     "text": [
      "Epoch 0, val_loss 0.0158\n",
      "Best val loss found:  0.015789745509890575\n"
     ]
    },
    {
     "name": "stderr",
     "output_type": "stream",
     "text": [
      "100%|██████████| 2800/2800 [03:35<00:00, 13.01it/s]\n",
      "100%|██████████| 700/700 [00:53<00:00, 13.19it/s]\n"
     ]
    },
    {
     "name": "stdout",
     "output_type": "stream",
     "text": [
      "Best val loss found:  0.013707554676636521\n"
     ]
    },
    {
     "name": "stderr",
     "output_type": "stream",
     "text": [
      "100%|██████████| 2800/2800 [03:35<00:00, 12.99it/s]\n",
      "100%|██████████| 700/700 [00:53<00:00, 13.18it/s]\n"
     ]
    },
    {
     "name": "stdout",
     "output_type": "stream",
     "text": [
      "Best val loss found:  0.012675422957566167\n"
     ]
    },
    {
     "name": "stderr",
     "output_type": "stream",
     "text": [
      "100%|██████████| 2800/2800 [03:35<00:00, 13.00it/s]\n",
      "100%|██████████| 700/700 [00:53<00:00, 13.17it/s]\n"
     ]
    },
    {
     "name": "stdout",
     "output_type": "stream",
     "text": [
      "Best val loss found:  0.011635177424177528\n"
     ]
    },
    {
     "name": "stderr",
     "output_type": "stream",
     "text": [
      "100%|██████████| 2800/2800 [03:35<00:00, 13.00it/s]\n",
      "100%|██████████| 700/700 [00:53<00:00, 13.17it/s]\n"
     ]
    },
    {
     "name": "stdout",
     "output_type": "stream",
     "text": [
      "Best val loss found:  0.01152524605094056\n",
      "| >>>>>                           |\n"
     ]
    },
    {
     "name": "stderr",
     "output_type": "stream",
     "text": [
      "100%|██████████| 2800/2800 [03:35<00:00, 12.99it/s]\n",
      "100%|██████████| 700/700 [00:53<00:00, 13.18it/s]\n"
     ]
    },
    {
     "name": "stdout",
     "output_type": "stream",
     "text": [
      "Best val loss found:  0.011104350934869476\n"
     ]
    },
    {
     "name": "stderr",
     "output_type": "stream",
     "text": [
      "100%|██████████| 2800/2800 [03:35<00:00, 13.01it/s]\n",
      "100%|██████████| 700/700 [00:53<00:00, 13.13it/s]\n"
     ]
    },
    {
     "name": "stdout",
     "output_type": "stream",
     "text": [
      "Best val loss found:  0.010955703366281731\n"
     ]
    },
    {
     "name": "stderr",
     "output_type": "stream",
     "text": [
      "100%|██████████| 2800/2800 [03:35<00:00, 13.00it/s]\n",
      "100%|██████████| 700/700 [00:53<00:00, 13.16it/s]\n"
     ]
    },
    {
     "name": "stdout",
     "output_type": "stream",
     "text": [
      "Best val loss found:  0.010768274823868914\n"
     ]
    },
    {
     "name": "stderr",
     "output_type": "stream",
     "text": [
      "100%|██████████| 2800/2800 [03:35<00:00, 13.00it/s]\n",
      "100%|██████████| 700/700 [00:53<00:00, 13.17it/s]\n"
     ]
    },
    {
     "name": "stdout",
     "output_type": "stream",
     "text": [
      "Best val loss found:  0.010683475171348879\n"
     ]
    },
    {
     "name": "stderr",
     "output_type": "stream",
     "text": [
      "100%|██████████| 2800/2800 [03:35<00:00, 13.01it/s]\n",
      "100%|██████████| 700/700 [00:53<00:00, 13.12it/s]\n"
     ]
    },
    {
     "name": "stdout",
     "output_type": "stream",
     "text": [
      "| >>>>>>>>>>                      |\n"
     ]
    },
    {
     "name": "stderr",
     "output_type": "stream",
     "text": [
      "100%|██████████| 2800/2800 [03:35<00:00, 12.99it/s]\n",
      "100%|██████████| 700/700 [00:53<00:00, 13.15it/s]\n"
     ]
    },
    {
     "name": "stdout",
     "output_type": "stream",
     "text": [
      "Epoch 10, val_loss 0.0105\n",
      "Best val loss found:  0.010539268490392715\n"
     ]
    },
    {
     "name": "stderr",
     "output_type": "stream",
     "text": [
      "100%|██████████| 2800/2800 [03:35<00:00, 13.00it/s]\n",
      "100%|██████████| 700/700 [00:53<00:00, 13.18it/s]\n"
     ]
    },
    {
     "name": "stdout",
     "output_type": "stream",
     "text": [
      "Best val loss found:  0.010397026047243603\n"
     ]
    },
    {
     "name": "stderr",
     "output_type": "stream",
     "text": [
      "100%|██████████| 2800/2800 [03:35<00:00, 13.00it/s]\n",
      "100%|██████████| 700/700 [00:53<00:00, 13.12it/s]\n"
     ]
    },
    {
     "name": "stdout",
     "output_type": "stream",
     "text": [
      "Best val loss found:  0.010392519424536398\n"
     ]
    },
    {
     "name": "stderr",
     "output_type": "stream",
     "text": [
      "100%|██████████| 2800/2800 [03:35<00:00, 12.99it/s]\n",
      "100%|██████████| 700/700 [00:52<00:00, 13.24it/s]\n"
     ]
    },
    {
     "name": "stdout",
     "output_type": "stream",
     "text": [
      "Best val loss found:  0.01036206041629027\n"
     ]
    },
    {
     "name": "stderr",
     "output_type": "stream",
     "text": [
      "100%|██████████| 2800/2800 [03:35<00:00, 13.00it/s]\n",
      "100%|██████████| 700/700 [00:52<00:00, 13.26it/s]\n"
     ]
    },
    {
     "name": "stdout",
     "output_type": "stream",
     "text": [
      "Best val loss found:  0.010263539313870881\n",
      "| >>>>>>>>>>>>>>>                 |\n"
     ]
    },
    {
     "name": "stderr",
     "output_type": "stream",
     "text": [
      "100%|██████████| 2800/2800 [03:35<00:00, 12.99it/s]\n",
      "100%|██████████| 700/700 [00:52<00:00, 13.23it/s]\n"
     ]
    },
    {
     "name": "stdout",
     "output_type": "stream",
     "text": [
      "Best val loss found:  0.010248394003803176\n"
     ]
    },
    {
     "name": "stderr",
     "output_type": "stream",
     "text": [
      "100%|██████████| 2800/2800 [03:35<00:00, 13.01it/s]\n",
      "100%|██████████| 700/700 [00:52<00:00, 13.24it/s]\n"
     ]
    },
    {
     "name": "stdout",
     "output_type": "stream",
     "text": [
      "Best val loss found:  0.010216431538907013\n"
     ]
    },
    {
     "name": "stderr",
     "output_type": "stream",
     "text": [
      "100%|██████████| 2800/2800 [03:35<00:00, 12.99it/s]\n",
      "100%|██████████| 700/700 [00:52<00:00, 13.27it/s]\n",
      "100%|██████████| 2800/2800 [03:34<00:00, 13.02it/s]\n",
      "100%|██████████| 700/700 [00:52<00:00, 13.30it/s]\n",
      "100%|██████████| 2800/2800 [03:35<00:00, 13.02it/s]\n",
      "100%|██████████| 700/700 [00:52<00:00, 13.30it/s]\n"
     ]
    },
    {
     "name": "stdout",
     "output_type": "stream",
     "text": [
      "| >>>>>>>>>>>>>>>>>>>>            |\n"
     ]
    },
    {
     "name": "stderr",
     "output_type": "stream",
     "text": [
      "100%|██████████| 2800/2800 [03:34<00:00, 13.03it/s]\n",
      "100%|██████████| 700/700 [00:52<00:00, 13.22it/s]\n"
     ]
    },
    {
     "name": "stdout",
     "output_type": "stream",
     "text": [
      "Epoch 20, val_loss 0.0102\n",
      "Best val loss found:  0.010209044092667423\n"
     ]
    },
    {
     "name": "stderr",
     "output_type": "stream",
     "text": [
      "100%|██████████| 2800/2800 [03:35<00:00, 13.02it/s]\n",
      "100%|██████████| 700/700 [00:52<00:00, 13.29it/s]\n",
      "100%|██████████| 2800/2800 [03:35<00:00, 13.02it/s]\n",
      "100%|██████████| 700/700 [00:52<00:00, 13.29it/s]\n",
      "100%|██████████| 2800/2800 [03:34<00:00, 13.03it/s]\n",
      "100%|██████████| 700/700 [00:52<00:00, 13.31it/s]\n",
      "100%|██████████| 2800/2800 [03:35<00:00, 13.02it/s]\n",
      "100%|██████████| 700/700 [00:52<00:00, 13.27it/s]\n"
     ]
    },
    {
     "name": "stdout",
     "output_type": "stream",
     "text": [
      "| >>>>>>>>>>>>>>>>>>>>>>>>>       |\n"
     ]
    },
    {
     "name": "stderr",
     "output_type": "stream",
     "text": [
      "100%|██████████| 2800/2800 [03:34<00:00, 13.02it/s]\n",
      "100%|██████████| 700/700 [00:52<00:00, 13.23it/s]\n",
      "100%|██████████| 2800/2800 [03:34<00:00, 13.03it/s]\n",
      "100%|██████████| 700/700 [00:52<00:00, 13.26it/s]\n",
      "100%|██████████| 2800/2800 [03:34<00:00, 13.03it/s]\n",
      "100%|██████████| 700/700 [00:52<00:00, 13.26it/s]\n",
      "100%|██████████| 2800/2800 [03:34<00:00, 13.04it/s]\n",
      "100%|██████████| 700/700 [00:52<00:00, 13.29it/s]\n",
      "100%|██████████| 2800/2800 [03:34<00:00, 13.03it/s]\n",
      "100%|██████████| 700/700 [00:52<00:00, 13.26it/s]\n"
     ]
    },
    {
     "name": "stdout",
     "output_type": "stream",
     "text": [
      "This fold, the best val loss is:  0.010209044092667423\n"
     ]
    },
    {
     "name": "stderr",
     "output_type": "stream",
     "text": [
      "100%|██████████| 1000/1000 [01:15<00:00, 13.27it/s]\n"
     ]
    },
    {
     "name": "stdout",
     "output_type": "stream",
     "text": [
      "This fold, the test loss is:  0.0117582929818891\n",
      "********************\n",
      "Fold3\n",
      "********************\n",
      "Dataloader Success---------------------\n",
      "|                                 |\n"
     ]
    },
    {
     "name": "stderr",
     "output_type": "stream",
     "text": [
      "100%|██████████| 2800/2800 [03:35<00:00, 13.02it/s]\n",
      "100%|██████████| 700/700 [00:52<00:00, 13.26it/s]\n"
     ]
    },
    {
     "name": "stdout",
     "output_type": "stream",
     "text": [
      "Epoch 0, val_loss 0.0160\n",
      "Best val loss found:  0.016047761175515395\n"
     ]
    },
    {
     "name": "stderr",
     "output_type": "stream",
     "text": [
      "100%|██████████| 2800/2800 [03:35<00:00, 13.00it/s]\n",
      "100%|██████████| 700/700 [00:52<00:00, 13.27it/s]\n"
     ]
    },
    {
     "name": "stdout",
     "output_type": "stream",
     "text": [
      "Best val loss found:  0.01413692626935829\n"
     ]
    },
    {
     "name": "stderr",
     "output_type": "stream",
     "text": [
      "100%|██████████| 2800/2800 [03:35<00:00, 12.99it/s]\n",
      "100%|██████████| 700/700 [00:52<00:00, 13.22it/s]\n"
     ]
    },
    {
     "name": "stdout",
     "output_type": "stream",
     "text": [
      "Best val loss found:  0.012602954499889164\n"
     ]
    },
    {
     "name": "stderr",
     "output_type": "stream",
     "text": [
      "100%|██████████| 2800/2800 [03:35<00:00, 13.02it/s]\n",
      "100%|██████████| 700/700 [00:52<00:00, 13.29it/s]\n"
     ]
    },
    {
     "name": "stdout",
     "output_type": "stream",
     "text": [
      "Best val loss found:  0.012164422183663452\n"
     ]
    },
    {
     "name": "stderr",
     "output_type": "stream",
     "text": [
      "100%|██████████| 2800/2800 [03:35<00:00, 13.01it/s]\n",
      "100%|██████████| 700/700 [00:52<00:00, 13.24it/s]\n"
     ]
    },
    {
     "name": "stdout",
     "output_type": "stream",
     "text": [
      "Best val loss found:  0.011760309334910873\n",
      "| >>>>>                           |\n"
     ]
    },
    {
     "name": "stderr",
     "output_type": "stream",
     "text": [
      "100%|██████████| 2800/2800 [03:34<00:00, 13.03it/s]\n",
      "100%|██████████| 700/700 [00:52<00:00, 13.28it/s]\n"
     ]
    },
    {
     "name": "stdout",
     "output_type": "stream",
     "text": [
      "Best val loss found:  0.011258646007627248\n"
     ]
    },
    {
     "name": "stderr",
     "output_type": "stream",
     "text": [
      "100%|██████████| 2800/2800 [03:35<00:00, 13.02it/s]\n",
      "100%|██████████| 700/700 [00:52<00:00, 13.24it/s]\n"
     ]
    },
    {
     "name": "stdout",
     "output_type": "stream",
     "text": [
      "Best val loss found:  0.011244842478938933\n"
     ]
    },
    {
     "name": "stderr",
     "output_type": "stream",
     "text": [
      "100%|██████████| 2800/2800 [03:35<00:00, 13.01it/s]\n",
      "100%|██████████| 700/700 [00:52<00:00, 13.27it/s]\n"
     ]
    },
    {
     "name": "stdout",
     "output_type": "stream",
     "text": [
      "Best val loss found:  0.011073156288226268\n"
     ]
    },
    {
     "name": "stderr",
     "output_type": "stream",
     "text": [
      "100%|██████████| 2800/2800 [03:35<00:00, 13.00it/s]\n",
      "100%|██████████| 700/700 [00:52<00:00, 13.29it/s]\n"
     ]
    },
    {
     "name": "stdout",
     "output_type": "stream",
     "text": [
      "Best val loss found:  0.010959717727465821\n"
     ]
    },
    {
     "name": "stderr",
     "output_type": "stream",
     "text": [
      "100%|██████████| 2800/2800 [03:35<00:00, 13.02it/s]\n",
      "100%|██████████| 700/700 [00:52<00:00, 13.28it/s]\n"
     ]
    },
    {
     "name": "stdout",
     "output_type": "stream",
     "text": [
      "Best val loss found:  0.01077752781599494\n",
      "| >>>>>>>>>>                      |\n"
     ]
    },
    {
     "name": "stderr",
     "output_type": "stream",
     "text": [
      "100%|██████████| 2800/2800 [03:34<00:00, 13.03it/s]\n",
      "100%|██████████| 700/700 [00:52<00:00, 13.24it/s]\n"
     ]
    },
    {
     "name": "stdout",
     "output_type": "stream",
     "text": [
      "Epoch 10, val_loss 0.0108\n",
      "Best val loss found:  0.010768000329013115\n"
     ]
    },
    {
     "name": "stderr",
     "output_type": "stream",
     "text": [
      "100%|██████████| 2800/2800 [03:34<00:00, 13.03it/s]\n",
      "100%|██████████| 700/700 [00:52<00:00, 13.28it/s]\n"
     ]
    },
    {
     "name": "stdout",
     "output_type": "stream",
     "text": [
      "Best val loss found:  0.010688310592834439\n"
     ]
    },
    {
     "name": "stderr",
     "output_type": "stream",
     "text": [
      "100%|██████████| 2800/2800 [03:34<00:00, 13.03it/s]\n",
      "100%|██████████| 700/700 [00:52<00:00, 13.29it/s]\n"
     ]
    },
    {
     "name": "stdout",
     "output_type": "stream",
     "text": [
      "Best val loss found:  0.010674779733443367\n"
     ]
    },
    {
     "name": "stderr",
     "output_type": "stream",
     "text": [
      "100%|██████████| 2800/2800 [03:34<00:00, 13.04it/s]\n",
      "100%|██████████| 700/700 [00:52<00:00, 13.29it/s]\n"
     ]
    },
    {
     "name": "stdout",
     "output_type": "stream",
     "text": [
      "Best val loss found:  0.010627497877326928\n"
     ]
    },
    {
     "name": "stderr",
     "output_type": "stream",
     "text": [
      "100%|██████████| 2800/2800 [03:34<00:00, 13.03it/s]\n",
      "100%|██████████| 700/700 [00:52<00:00, 13.26it/s]\n"
     ]
    },
    {
     "name": "stdout",
     "output_type": "stream",
     "text": [
      "| >>>>>>>>>>>>>>>                 |\n"
     ]
    },
    {
     "name": "stderr",
     "output_type": "stream",
     "text": [
      "100%|██████████| 2800/2800 [03:34<00:00, 13.03it/s]\n",
      "100%|██████████| 700/700 [00:52<00:00, 13.24it/s]\n"
     ]
    },
    {
     "name": "stdout",
     "output_type": "stream",
     "text": [
      "Best val loss found:  0.010554223964323423\n"
     ]
    },
    {
     "name": "stderr",
     "output_type": "stream",
     "text": [
      "100%|██████████| 2800/2800 [03:34<00:00, 13.03it/s]\n",
      "100%|██████████| 700/700 [00:52<00:00, 13.30it/s]\n"
     ]
    },
    {
     "name": "stdout",
     "output_type": "stream",
     "text": [
      "Best val loss found:  0.010552543924589243\n"
     ]
    },
    {
     "name": "stderr",
     "output_type": "stream",
     "text": [
      "100%|██████████| 2800/2800 [03:34<00:00, 13.03it/s]\n",
      "100%|██████████| 700/700 [00:52<00:00, 13.29it/s]\n",
      "100%|██████████| 2800/2800 [03:34<00:00, 13.04it/s]\n",
      "100%|██████████| 700/700 [00:52<00:00, 13.27it/s]\n"
     ]
    },
    {
     "name": "stdout",
     "output_type": "stream",
     "text": [
      "Best val loss found:  0.010524676720877844\n"
     ]
    },
    {
     "name": "stderr",
     "output_type": "stream",
     "text": [
      "100%|██████████| 2800/2800 [03:34<00:00, 13.04it/s]\n",
      "100%|██████████| 700/700 [00:52<00:00, 13.29it/s]\n"
     ]
    },
    {
     "name": "stdout",
     "output_type": "stream",
     "text": [
      "Best val loss found:  0.010430415808555802\n",
      "| >>>>>>>>>>>>>>>>>>>>            |\n"
     ]
    },
    {
     "name": "stderr",
     "output_type": "stream",
     "text": [
      "100%|██████████| 2800/2800 [03:34<00:00, 13.02it/s]\n",
      "100%|██████████| 700/700 [00:52<00:00, 13.29it/s]\n"
     ]
    },
    {
     "name": "stdout",
     "output_type": "stream",
     "text": [
      "Epoch 20, val_loss 0.0103\n",
      "Best val loss found:  0.010295102148915509\n"
     ]
    },
    {
     "name": "stderr",
     "output_type": "stream",
     "text": [
      "100%|██████████| 2800/2800 [03:34<00:00, 13.04it/s]\n",
      "100%|██████████| 700/700 [00:52<00:00, 13.23it/s]\n",
      "100%|██████████| 2800/2800 [03:34<00:00, 13.03it/s]\n",
      "100%|██████████| 700/700 [00:52<00:00, 13.30it/s]\n",
      "100%|██████████| 2800/2800 [03:34<00:00, 13.03it/s]\n",
      "100%|██████████| 700/700 [00:52<00:00, 13.24it/s]\n",
      "100%|██████████| 2800/2800 [03:34<00:00, 13.04it/s]\n",
      "100%|██████████| 700/700 [00:52<00:00, 13.28it/s]\n"
     ]
    },
    {
     "name": "stdout",
     "output_type": "stream",
     "text": [
      "| >>>>>>>>>>>>>>>>>>>>>>>>>       |\n"
     ]
    },
    {
     "name": "stderr",
     "output_type": "stream",
     "text": [
      "100%|██████████| 2800/2800 [03:34<00:00, 13.02it/s]\n",
      "100%|██████████| 700/700 [00:52<00:00, 13.21it/s]\n",
      "100%|██████████| 2800/2800 [03:34<00:00, 13.03it/s]\n",
      "100%|██████████| 700/700 [00:52<00:00, 13.29it/s]\n",
      "100%|██████████| 2800/2800 [03:34<00:00, 13.03it/s]\n",
      "100%|██████████| 700/700 [00:53<00:00, 13.13it/s]\n",
      "100%|██████████| 2800/2800 [03:34<00:00, 13.03it/s]\n",
      "100%|██████████| 700/700 [00:52<00:00, 13.22it/s]\n",
      "100%|██████████| 2800/2800 [03:34<00:00, 13.04it/s]\n",
      "100%|██████████| 700/700 [00:53<00:00, 13.14it/s]\n"
     ]
    },
    {
     "name": "stdout",
     "output_type": "stream",
     "text": [
      "This fold, the best val loss is:  0.010295102148915509\n"
     ]
    },
    {
     "name": "stderr",
     "output_type": "stream",
     "text": [
      "100%|██████████| 1000/1000 [01:16<00:00, 13.10it/s]\n"
     ]
    },
    {
     "name": "stdout",
     "output_type": "stream",
     "text": [
      "This fold, the test loss is:  0.01175575838109944\n",
      "********************\n",
      "Fold4\n",
      "********************\n",
      "Dataloader Success---------------------\n",
      "|                                 |\n"
     ]
    },
    {
     "name": "stderr",
     "output_type": "stream",
     "text": [
      "100%|██████████| 2800/2800 [03:34<00:00, 13.05it/s]\n",
      "100%|██████████| 700/700 [00:52<00:00, 13.22it/s]\n"
     ]
    },
    {
     "name": "stdout",
     "output_type": "stream",
     "text": [
      "Epoch 0, val_loss 0.0165\n",
      "Best val loss found:  0.016519928939440952\n"
     ]
    },
    {
     "name": "stderr",
     "output_type": "stream",
     "text": [
      "100%|██████████| 2800/2800 [03:34<00:00, 13.04it/s]\n",
      "100%|██████████| 700/700 [00:52<00:00, 13.23it/s]\n"
     ]
    },
    {
     "name": "stdout",
     "output_type": "stream",
     "text": [
      "Best val loss found:  0.01429164373781532\n"
     ]
    },
    {
     "name": "stderr",
     "output_type": "stream",
     "text": [
      "100%|██████████| 2800/2800 [03:35<00:00, 13.02it/s]\n",
      "100%|██████████| 700/700 [00:52<00:00, 13.24it/s]\n"
     ]
    },
    {
     "name": "stdout",
     "output_type": "stream",
     "text": [
      "Best val loss found:  0.012958872345874884\n"
     ]
    },
    {
     "name": "stderr",
     "output_type": "stream",
     "text": [
      "100%|██████████| 2800/2800 [03:35<00:00, 13.01it/s]\n",
      "100%|██████████| 700/700 [00:53<00:00, 13.18it/s]\n"
     ]
    },
    {
     "name": "stdout",
     "output_type": "stream",
     "text": [
      "Best val loss found:  0.01232363181986979\n"
     ]
    },
    {
     "name": "stderr",
     "output_type": "stream",
     "text": [
      "100%|██████████| 2800/2800 [03:35<00:00, 13.02it/s]\n",
      "100%|██████████| 700/700 [00:53<00:00, 13.19it/s]\n"
     ]
    },
    {
     "name": "stdout",
     "output_type": "stream",
     "text": [
      "Best val loss found:  0.011897136773581483\n",
      "| >>>>>                           |\n"
     ]
    },
    {
     "name": "stderr",
     "output_type": "stream",
     "text": [
      "100%|██████████| 2800/2800 [03:34<00:00, 13.03it/s]\n",
      "100%|██████████| 700/700 [00:53<00:00, 13.19it/s]\n"
     ]
    },
    {
     "name": "stdout",
     "output_type": "stream",
     "text": [
      "Best val loss found:  0.011684112048741164\n"
     ]
    },
    {
     "name": "stderr",
     "output_type": "stream",
     "text": [
      "100%|██████████| 2800/2800 [03:35<00:00, 13.00it/s]\n",
      "100%|██████████| 700/700 [00:53<00:00, 13.12it/s]\n"
     ]
    },
    {
     "name": "stdout",
     "output_type": "stream",
     "text": [
      "Best val loss found:  0.011616864977404474\n"
     ]
    },
    {
     "name": "stderr",
     "output_type": "stream",
     "text": [
      "100%|██████████| 2800/2800 [03:34<00:00, 13.03it/s]\n",
      "100%|██████████| 700/700 [00:52<00:00, 13.23it/s]\n"
     ]
    },
    {
     "name": "stdout",
     "output_type": "stream",
     "text": [
      "Best val loss found:  0.011295678362117282\n"
     ]
    },
    {
     "name": "stderr",
     "output_type": "stream",
     "text": [
      "100%|██████████| 2800/2800 [03:35<00:00, 13.02it/s]\n",
      "100%|██████████| 700/700 [00:53<00:00, 13.15it/s]\n",
      "100%|██████████| 2800/2800 [03:34<00:00, 13.04it/s]\n",
      "100%|██████████| 700/700 [00:52<00:00, 13.23it/s]\n"
     ]
    },
    {
     "name": "stdout",
     "output_type": "stream",
     "text": [
      "Best val loss found:  0.011109176030648605\n",
      "| >>>>>>>>>>                      |\n"
     ]
    },
    {
     "name": "stderr",
     "output_type": "stream",
     "text": [
      "100%|██████████| 2800/2800 [03:34<00:00, 13.04it/s]\n",
      "100%|██████████| 700/700 [00:53<00:00, 13.19it/s]\n"
     ]
    },
    {
     "name": "stdout",
     "output_type": "stream",
     "text": [
      "Epoch 10, val_loss 0.0110\n",
      "Best val loss found:  0.011003736722216542\n"
     ]
    },
    {
     "name": "stderr",
     "output_type": "stream",
     "text": [
      "100%|██████████| 2800/2800 [03:34<00:00, 13.04it/s]\n",
      "100%|██████████| 700/700 [00:53<00:00, 13.14it/s]\n"
     ]
    },
    {
     "name": "stdout",
     "output_type": "stream",
     "text": [
      "Best val loss found:  0.010972083457745611\n"
     ]
    },
    {
     "name": "stderr",
     "output_type": "stream",
     "text": [
      "100%|██████████| 2800/2800 [03:34<00:00, 13.05it/s]\n",
      "100%|██████████| 700/700 [00:53<00:00, 13.18it/s]\n"
     ]
    },
    {
     "name": "stdout",
     "output_type": "stream",
     "text": [
      "Best val loss found:  0.010962884435430168\n"
     ]
    },
    {
     "name": "stderr",
     "output_type": "stream",
     "text": [
      "100%|██████████| 2800/2800 [03:34<00:00, 13.03it/s]\n",
      "100%|██████████| 700/700 [00:53<00:00, 13.16it/s]\n"
     ]
    },
    {
     "name": "stdout",
     "output_type": "stream",
     "text": [
      "Best val loss found:  0.010893025687962238\n"
     ]
    },
    {
     "name": "stderr",
     "output_type": "stream",
     "text": [
      "100%|██████████| 2800/2800 [03:34<00:00, 13.05it/s]\n",
      "100%|██████████| 700/700 [00:53<00:00, 13.21it/s]\n"
     ]
    },
    {
     "name": "stdout",
     "output_type": "stream",
     "text": [
      "Best val loss found:  0.010789830614812672\n",
      "| >>>>>>>>>>>>>>>                 |\n"
     ]
    },
    {
     "name": "stderr",
     "output_type": "stream",
     "text": [
      "100%|██████████| 2800/2800 [03:34<00:00, 13.04it/s]\n",
      "100%|██████████| 700/700 [00:52<00:00, 13.22it/s]\n"
     ]
    },
    {
     "name": "stdout",
     "output_type": "stream",
     "text": [
      "Best val loss found:  0.010725835573061237\n"
     ]
    },
    {
     "name": "stderr",
     "output_type": "stream",
     "text": [
      "100%|██████████| 2800/2800 [03:34<00:00, 13.03it/s]\n",
      "100%|██████████| 700/700 [00:53<00:00, 13.16it/s]\n",
      "100%|██████████| 2800/2800 [03:34<00:00, 13.04it/s]\n",
      "100%|██████████| 700/700 [00:53<00:00, 13.16it/s]\n",
      "100%|██████████| 2800/2800 [03:34<00:00, 13.03it/s]\n",
      "100%|██████████| 700/700 [00:52<00:00, 13.21it/s]\n"
     ]
    },
    {
     "name": "stdout",
     "output_type": "stream",
     "text": [
      "Best val loss found:  0.01069061292268868\n"
     ]
    },
    {
     "name": "stderr",
     "output_type": "stream",
     "text": [
      "100%|██████████| 2800/2800 [03:35<00:00, 12.99it/s]\n",
      "100%|██████████| 700/700 [00:53<00:00, 13.07it/s]\n"
     ]
    },
    {
     "name": "stdout",
     "output_type": "stream",
     "text": [
      "Best val loss found:  0.010639341691109751\n",
      "| >>>>>>>>>>>>>>>>>>>>            |\n"
     ]
    },
    {
     "name": "stderr",
     "output_type": "stream",
     "text": [
      "100%|██████████| 2800/2800 [03:35<00:00, 13.00it/s]\n",
      "100%|██████████| 700/700 [00:53<00:00, 13.17it/s]\n"
     ]
    },
    {
     "name": "stdout",
     "output_type": "stream",
     "text": [
      "Epoch 20, val_loss 0.0107\n"
     ]
    },
    {
     "name": "stderr",
     "output_type": "stream",
     "text": [
      "100%|██████████| 2800/2800 [03:35<00:00, 12.98it/s]\n",
      "100%|██████████| 700/700 [00:53<00:00, 13.13it/s]\n",
      "100%|██████████| 2800/2800 [03:35<00:00, 12.99it/s]\n",
      "100%|██████████| 700/700 [00:53<00:00, 13.14it/s]\n",
      "100%|██████████| 2800/2800 [03:35<00:00, 12.99it/s]\n",
      "100%|██████████| 700/700 [00:53<00:00, 13.12it/s]\n",
      "100%|██████████| 2800/2800 [03:35<00:00, 12.99it/s]\n",
      "100%|██████████| 700/700 [00:53<00:00, 13.12it/s]\n"
     ]
    },
    {
     "name": "stdout",
     "output_type": "stream",
     "text": [
      "Best val loss found:  0.010556194866741342\n",
      "| >>>>>>>>>>>>>>>>>>>>>>>>>       |\n"
     ]
    },
    {
     "name": "stderr",
     "output_type": "stream",
     "text": [
      "100%|██████████| 2800/2800 [03:35<00:00, 12.99it/s]\n",
      "100%|██████████| 700/700 [00:53<00:00, 13.11it/s]\n",
      "100%|██████████| 2800/2800 [03:35<00:00, 12.99it/s]\n",
      "100%|██████████| 700/700 [00:53<00:00, 13.10it/s]\n"
     ]
    },
    {
     "name": "stdout",
     "output_type": "stream",
     "text": [
      "Best val loss found:  0.010492475037130394\n"
     ]
    },
    {
     "name": "stderr",
     "output_type": "stream",
     "text": [
      "100%|██████████| 2800/2800 [03:35<00:00, 12.98it/s]\n",
      "100%|██████████| 700/700 [00:53<00:00, 13.14it/s]\n",
      "100%|██████████| 2800/2800 [03:35<00:00, 12.99it/s]\n",
      "100%|██████████| 700/700 [00:53<00:00, 13.10it/s]\n"
     ]
    },
    {
     "name": "stdout",
     "output_type": "stream",
     "text": [
      "Best val loss found:  0.010448150972868981\n"
     ]
    },
    {
     "name": "stderr",
     "output_type": "stream",
     "text": [
      "100%|██████████| 2800/2800 [03:35<00:00, 12.99it/s]\n",
      "100%|██████████| 700/700 [00:53<00:00, 13.15it/s]\n"
     ]
    },
    {
     "name": "stdout",
     "output_type": "stream",
     "text": [
      "This fold, the best val loss is:  0.010448150972868981\n"
     ]
    },
    {
     "name": "stderr",
     "output_type": "stream",
     "text": [
      "100%|██████████| 1000/1000 [01:15<00:00, 13.16it/s]\n"
     ]
    },
    {
     "name": "stdout",
     "output_type": "stream",
     "text": [
      "This fold, the test loss is:  0.011557566983508877\n",
      "********************\n",
      "Fold5\n",
      "********************\n",
      "Dataloader Success---------------------\n",
      "|                                 |\n"
     ]
    },
    {
     "name": "stderr",
     "output_type": "stream",
     "text": [
      "100%|██████████| 2800/2800 [03:35<00:00, 12.99it/s]\n",
      "100%|██████████| 700/700 [00:53<00:00, 13.06it/s]\n"
     ]
    },
    {
     "name": "stdout",
     "output_type": "stream",
     "text": [
      "Epoch 0, val_loss 0.0169\n",
      "Best val loss found:  0.016878496627655944\n"
     ]
    },
    {
     "name": "stderr",
     "output_type": "stream",
     "text": [
      "100%|██████████| 2800/2800 [03:35<00:00, 13.00it/s]\n",
      "100%|██████████| 700/700 [00:53<00:00, 13.10it/s]\n"
     ]
    },
    {
     "name": "stdout",
     "output_type": "stream",
     "text": [
      "Best val loss found:  0.01438886555443917\n"
     ]
    },
    {
     "name": "stderr",
     "output_type": "stream",
     "text": [
      "100%|██████████| 2800/2800 [03:35<00:00, 13.00it/s]\n",
      "100%|██████████| 700/700 [00:53<00:00, 13.12it/s]\n"
     ]
    },
    {
     "name": "stdout",
     "output_type": "stream",
     "text": [
      "Best val loss found:  0.012987098001675414\n"
     ]
    },
    {
     "name": "stderr",
     "output_type": "stream",
     "text": [
      "100%|██████████| 2800/2800 [03:35<00:00, 13.00it/s]\n",
      "100%|██████████| 700/700 [00:53<00:00, 13.07it/s]\n"
     ]
    },
    {
     "name": "stdout",
     "output_type": "stream",
     "text": [
      "Best val loss found:  0.012506689419304686\n"
     ]
    },
    {
     "name": "stderr",
     "output_type": "stream",
     "text": [
      "100%|██████████| 2800/2800 [03:35<00:00, 13.00it/s]\n",
      "100%|██████████| 700/700 [00:53<00:00, 13.11it/s]\n"
     ]
    },
    {
     "name": "stdout",
     "output_type": "stream",
     "text": [
      "Best val loss found:  0.0119824070283877\n",
      "| >>>>>                           |\n"
     ]
    },
    {
     "name": "stderr",
     "output_type": "stream",
     "text": [
      "100%|██████████| 2800/2800 [03:35<00:00, 13.00it/s]\n",
      "100%|██████████| 700/700 [00:53<00:00, 13.14it/s]\n"
     ]
    },
    {
     "name": "stdout",
     "output_type": "stream",
     "text": [
      "Best val loss found:  0.011665181399356307\n"
     ]
    },
    {
     "name": "stderr",
     "output_type": "stream",
     "text": [
      "100%|██████████| 2800/2800 [03:35<00:00, 12.99it/s]\n",
      "100%|██████████| 700/700 [00:53<00:00, 13.12it/s]\n"
     ]
    },
    {
     "name": "stdout",
     "output_type": "stream",
     "text": [
      "Best val loss found:  0.011450736456983057\n"
     ]
    },
    {
     "name": "stderr",
     "output_type": "stream",
     "text": [
      "100%|██████████| 2800/2800 [03:35<00:00, 13.00it/s]\n",
      "100%|██████████| 700/700 [00:53<00:00, 13.19it/s]\n"
     ]
    },
    {
     "name": "stdout",
     "output_type": "stream",
     "text": [
      "Best val loss found:  0.011278337622061372\n"
     ]
    },
    {
     "name": "stderr",
     "output_type": "stream",
     "text": [
      "100%|██████████| 2800/2800 [03:35<00:00, 13.01it/s]\n",
      "100%|██████████| 700/700 [00:52<00:00, 13.29it/s]\n"
     ]
    },
    {
     "name": "stdout",
     "output_type": "stream",
     "text": [
      "Best val loss found:  0.011159405715464215\n"
     ]
    },
    {
     "name": "stderr",
     "output_type": "stream",
     "text": [
      "100%|██████████| 2800/2800 [03:35<00:00, 13.00it/s]\n",
      "100%|██████████| 700/700 [00:52<00:00, 13.25it/s]\n"
     ]
    },
    {
     "name": "stdout",
     "output_type": "stream",
     "text": [
      "Best val loss found:  0.011034468421712518\n",
      "| >>>>>>>>>>                      |\n"
     ]
    },
    {
     "name": "stderr",
     "output_type": "stream",
     "text": [
      "100%|██████████| 2800/2800 [03:35<00:00, 13.01it/s]\n",
      "100%|██████████| 700/700 [00:53<00:00, 13.14it/s]\n"
     ]
    },
    {
     "name": "stdout",
     "output_type": "stream",
     "text": [
      "Epoch 10, val_loss 0.0110\n",
      "Best val loss found:  0.010990405014682828\n"
     ]
    },
    {
     "name": "stderr",
     "output_type": "stream",
     "text": [
      "100%|██████████| 2800/2800 [03:35<00:00, 12.99it/s]\n",
      "100%|██████████| 700/700 [00:53<00:00, 13.08it/s]\n"
     ]
    },
    {
     "name": "stdout",
     "output_type": "stream",
     "text": [
      "Best val loss found:  0.01084767223302541\n"
     ]
    },
    {
     "name": "stderr",
     "output_type": "stream",
     "text": [
      "100%|██████████| 2800/2800 [03:35<00:00, 12.99it/s]\n",
      "100%|██████████| 700/700 [00:53<00:00, 13.12it/s]\n",
      "100%|██████████| 2800/2800 [03:35<00:00, 13.00it/s]\n",
      "100%|██████████| 700/700 [00:53<00:00, 13.13it/s]\n",
      "100%|██████████| 2800/2800 [03:35<00:00, 12.98it/s]\n",
      "100%|██████████| 700/700 [00:53<00:00, 13.07it/s]\n"
     ]
    },
    {
     "name": "stdout",
     "output_type": "stream",
     "text": [
      "Best val loss found:  0.010737578336349023\n",
      "| >>>>>>>>>>>>>>>                 |\n"
     ]
    },
    {
     "name": "stderr",
     "output_type": "stream",
     "text": [
      "100%|██████████| 2800/2800 [03:35<00:00, 13.00it/s]\n",
      "100%|██████████| 700/700 [00:52<00:00, 13.31it/s]\n"
     ]
    },
    {
     "name": "stdout",
     "output_type": "stream",
     "text": [
      "Best val loss found:  0.010624523154692724\n"
     ]
    },
    {
     "name": "stderr",
     "output_type": "stream",
     "text": [
      "100%|██████████| 2800/2800 [03:35<00:00, 13.01it/s]\n",
      "100%|██████████| 700/700 [00:52<00:00, 13.28it/s]\n",
      "100%|██████████| 2800/2800 [03:35<00:00, 13.00it/s]\n",
      "100%|██████████| 700/700 [00:52<00:00, 13.30it/s]\n",
      "100%|██████████| 2800/2800 [03:35<00:00, 13.00it/s]\n",
      "100%|██████████| 700/700 [00:52<00:00, 13.24it/s]\n"
     ]
    },
    {
     "name": "stdout",
     "output_type": "stream",
     "text": [
      "Best val loss found:  0.010616425466391124\n"
     ]
    },
    {
     "name": "stderr",
     "output_type": "stream",
     "text": [
      "100%|██████████| 2800/2800 [03:35<00:00, 13.01it/s]\n",
      "100%|██████████| 700/700 [00:52<00:00, 13.26it/s]\n"
     ]
    },
    {
     "name": "stdout",
     "output_type": "stream",
     "text": [
      "Best val loss found:  0.010529343752922225\n",
      "| >>>>>>>>>>>>>>>>>>>>            |\n"
     ]
    },
    {
     "name": "stderr",
     "output_type": "stream",
     "text": [
      "100%|██████████| 2800/2800 [03:35<00:00, 13.00it/s]\n",
      "100%|██████████| 700/700 [00:52<00:00, 13.27it/s]\n"
     ]
    },
    {
     "name": "stdout",
     "output_type": "stream",
     "text": [
      "Epoch 20, val_loss 0.0106\n"
     ]
    },
    {
     "name": "stderr",
     "output_type": "stream",
     "text": [
      "100%|██████████| 2800/2800 [03:35<00:00, 13.00it/s]\n",
      "100%|██████████| 700/700 [00:52<00:00, 13.26it/s]\n"
     ]
    },
    {
     "name": "stdout",
     "output_type": "stream",
     "text": [
      "Best val loss found:  0.010501842426601798\n"
     ]
    },
    {
     "name": "stderr",
     "output_type": "stream",
     "text": [
      "100%|██████████| 2800/2800 [03:35<00:00, 13.00it/s]\n",
      "100%|██████████| 700/700 [00:52<00:00, 13.29it/s]\n",
      "100%|██████████| 2800/2800 [03:35<00:00, 13.00it/s]\n",
      "100%|██████████| 700/700 [00:52<00:00, 13.28it/s]\n",
      "100%|██████████| 2800/2800 [03:35<00:00, 13.01it/s]\n",
      "100%|██████████| 700/700 [00:53<00:00, 13.12it/s]\n"
     ]
    },
    {
     "name": "stdout",
     "output_type": "stream",
     "text": [
      "| >>>>>>>>>>>>>>>>>>>>>>>>>       |\n"
     ]
    },
    {
     "name": "stderr",
     "output_type": "stream",
     "text": [
      "100%|██████████| 2800/2800 [03:35<00:00, 12.99it/s]\n",
      "100%|██████████| 700/700 [00:53<00:00, 13.14it/s]\n"
     ]
    },
    {
     "name": "stdout",
     "output_type": "stream",
     "text": [
      "Best val loss found:  0.010424756059822227\n"
     ]
    },
    {
     "name": "stderr",
     "output_type": "stream",
     "text": [
      "100%|██████████| 2800/2800 [03:35<00:00, 13.01it/s]\n",
      "100%|██████████| 700/700 [00:53<00:00, 13.09it/s]\n",
      "100%|██████████| 2800/2800 [03:35<00:00, 13.00it/s]\n",
      "100%|██████████| 700/700 [00:53<00:00, 13.12it/s]\n"
     ]
    },
    {
     "name": "stdout",
     "output_type": "stream",
     "text": [
      "Best val loss found:  0.010409943605440536\n"
     ]
    },
    {
     "name": "stderr",
     "output_type": "stream",
     "text": [
      "100%|██████████| 2800/2800 [03:35<00:00, 13.00it/s]\n",
      "100%|██████████| 700/700 [00:53<00:00, 13.09it/s]\n",
      "100%|██████████| 2800/2800 [03:35<00:00, 13.00it/s]\n",
      " 86%|████████▌ | 603/700 [00:45<00:07, 13.10it/s]"
     ]
    }
   ],
   "source": [
    "from tqdm import tqdm\n",
    "for train_index, valid_index in kfold.split(train_data,train_data['cpc_ids']):\n",
    "    \n",
    "    print('*'*20)\n",
    "    print(f'Fold{len(test_predict_lst)+1}')\n",
    "    print('*'*20)\n",
    "    train_dataset = PatentDataset(train_data.iloc[train_index])\n",
    "    val_dataset = PatentDataset(train_data.iloc[valid_index])\n",
    "\n",
    "    train_dataloader = DataLoader(train_dataset,\n",
    "                                 collate_fn = collate_fn,\n",
    "                                 batch_size = 4,\n",
    "                                 shuffle = True,\n",
    "                                 drop_last = True)\n",
    "    val_dataloader = DataLoader(val_dataset,\n",
    "                               collate_fn = collate_fn,\n",
    "                               batch_size = 4,\n",
    "                               shuffle = True,\n",
    "                               drop_last = True)\n",
    "\n",
    "    patentModel = PatentClsModel(model,backbone_fixed = True).cuda()\n",
    "    loss_func = nn.BCELoss()\n",
    "    optimizer = AdamW(patentModel.parameters(), lr=5e-4)\n",
    "    # reg_lambda = 0.035\n",
    "\n",
    "    print('Dataloader Success---------------------')\n",
    "\n",
    "    best_val_loss = 100\n",
    "    for epoch in range(total_epochs):\n",
    "        if epoch%5==0:\n",
    "            print('|',\">\" * epoch,\" \"*(total_epochs-epoch),'|')\n",
    "\n",
    "        patentModel.train()\n",
    "        for iter,(input_ids, attention_mask, token_type_ids, batch_label) in enumerate(tqdm(train_dataloader)):\n",
    "            input_ids = input_ids.cuda()\n",
    "            attention_mask = attention_mask.cuda()\n",
    "            token_type_ids = token_type_ids.cuda()\n",
    "            batch_label = batch_label.cuda()\n",
    "\n",
    "            prediction = patentModel(input_ids, attention_mask, token_type_ids)\n",
    "            \n",
    "            # l2_reg = None\n",
    "            # for w in patentModel.fc.parameters():\n",
    "            #     if not l2_reg:\n",
    "            #         l2_reg = w.norm(2)\n",
    "            #     else:\n",
    "            #         l2_reg = l2_reg + w.norm(2)\n",
    "\n",
    "            loss = loss_func(prediction,batch_label)\n",
    "            \n",
    "            optimizer.zero_grad()\n",
    "            loss.backward()\n",
    "            optimizer.step()\n",
    "\n",
    "        val_loss = 0\n",
    "        patentModel.eval()\n",
    "        with torch.no_grad():\n",
    "            for iter,(input_ids, attention_mask, token_type_ids, batch_label) in enumerate(tqdm(val_dataloader)):\n",
    "                input_ids = input_ids.cuda()\n",
    "                attention_mask = attention_mask.cuda()\n",
    "                token_type_ids = token_type_ids.cuda()\n",
    "                batch_label = batch_label.cuda()\n",
    "                prediction = patentModel(input_ids, attention_mask, token_type_ids)\n",
    "                loss = loss_func(prediction,batch_label)\n",
    "                val_loss += loss.detach().item()\n",
    "            val_loss = val_loss/(iter+1)\n",
    "\n",
    "        if epoch%10 == 0:\n",
    "            print('Epoch {}, val_loss {:.4f}'.format(epoch, val_loss))\n",
    "\n",
    "        if val_loss < best_val_loss:\n",
    "            best_val_loss = val_loss\n",
    "            torch.save(patentModel.state_dict(), 'ckpt/best_model_mini_{}.pth'.format(len(test_predict_lst)+1))\n",
    "            print('Best val loss found: ', best_val_loss)\n",
    "\n",
    "    print('This fold, the best val loss is: ', best_val_loss)\n",
    "\n",
    "    test_loss = 0\n",
    "    test_predict = None\n",
    "    patentModel = PatentClsModel(model,backbone_fixed = True).cuda()\n",
    "    patentModel.load_state_dict(torch.load('ckpt/best_model_mini_{}.pth'.format(len(test_predict_lst)+1)))\n",
    "\n",
    "    patentModel.eval()\n",
    "    with torch.no_grad():\n",
    "        for iter,(input_ids, attention_mask, token_type_ids, batch_label) in enumerate(tqdm(test_dataloader)):\n",
    "            input_ids = input_ids.cuda()\n",
    "            attention_mask = attention_mask.cuda()\n",
    "            token_type_ids = token_type_ids.cuda()\n",
    "            batch_label = batch_label.cuda()\n",
    "            prediction = patentModel(input_ids, attention_mask, token_type_ids)\n",
    "\n",
    "            if test_predict is None:\n",
    "                test_predict = prediction\n",
    "            else:\n",
    "                test_predict = torch.cat((test_predict,prediction),axis = 0)\n",
    "\n",
    "            loss = loss_func(prediction,batch_label)\n",
    "            test_loss += loss.detach().item()\n",
    "\n",
    "    test_loss /= (iter+1)\n",
    "    print('This fold, the test loss is: ', test_loss)\n",
    "\n",
    "    test_predict_lst.append(test_predict)"
   ]
  },
  {
   "cell_type": "code",
   "execution_count": null,
   "id": "dcfa33e6-a7b8-49fd-ad32-1302e442a3b2",
   "metadata": {},
   "outputs": [],
   "source": [
    "torch.save(test_predict_lst,'test_result/mini_30e_004.pt')"
   ]
  },
  {
   "cell_type": "code",
   "execution_count": null,
   "id": "934667b5-ff0f-400c-a935-c9038597ef96",
   "metadata": {},
   "outputs": [],
   "source": [
    "import os \n",
    "os.system(\"shutdown\")"
   ]
  },
  {
   "cell_type": "code",
   "execution_count": null,
   "id": "30dbedfa-db4e-4553-b609-467917c67b30",
   "metadata": {},
   "outputs": [],
   "source": []
  },
  {
   "cell_type": "code",
   "execution_count": null,
   "id": "55960ff7-b378-41f8-a59a-b6a3632fe495",
   "metadata": {},
   "outputs": [],
   "source": []
  },
  {
   "cell_type": "markdown",
   "id": "be91e949-84bc-456f-95c5-30d964f6b919",
   "metadata": {},
   "source": [
    "# Last All Last"
   ]
  },
  {
   "cell_type": "code",
   "execution_count": null,
   "id": "18244b80-d3cb-4dc2-8385-cd8ea83b12ac",
   "metadata": {},
   "outputs": [],
   "source": []
  },
  {
   "cell_type": "code",
   "execution_count": null,
   "id": "f0a93185-099c-4a55-b05a-67747d9e4d9e",
   "metadata": {},
   "outputs": [],
   "source": []
  },
  {
   "cell_type": "code",
   "execution_count": null,
   "id": "97278a8e-fec0-4f28-9627-bde4f1ad4773",
   "metadata": {},
   "outputs": [],
   "source": []
  },
  {
   "cell_type": "code",
   "execution_count": null,
   "id": "6307bdde-aad0-48c2-a0ba-8cce6b3d2438",
   "metadata": {},
   "outputs": [],
   "source": []
  },
  {
   "cell_type": "code",
   "execution_count": null,
   "id": "b378dfde-3d67-4c93-945f-9de363e5bb3c",
   "metadata": {},
   "outputs": [],
   "source": []
  },
  {
   "cell_type": "code",
   "execution_count": null,
   "id": "244e30dc-ae38-4428-bac1-3cddfc402687",
   "metadata": {},
   "outputs": [],
   "source": []
  },
  {
   "cell_type": "code",
   "execution_count": 16,
   "id": "eb0b0f62-d2b7-4309-a547-fbb347521816",
   "metadata": {},
   "outputs": [
    {
     "data": {
      "text/plain": [
       "<All keys matched successfully>"
      ]
     },
     "execution_count": 16,
     "metadata": {},
     "output_type": "execute_result"
    }
   ],
   "source": [
    "# patentModel.load_state_dict(torch.load('ckpt/001/best_model.pth'))"
   ]
  },
  {
   "cell_type": "code",
   "execution_count": 15,
   "id": "afcf1ae0-6214-487f-aed1-cfdb63b2e6de",
   "metadata": {},
   "outputs": [],
   "source": [
    "# torch.save(patentModel.state_dict(), 'ckpt/001/best_model.pth')"
   ]
  }
 ],
 "metadata": {
  "kernelspec": {
   "display_name": "Python 3 (ipykernel)",
   "language": "python",
   "name": "python3"
  },
  "language_info": {
   "codemirror_mode": {
    "name": "ipython",
    "version": 3
   },
   "file_extension": ".py",
   "mimetype": "text/x-python",
   "name": "python",
   "nbconvert_exporter": "python",
   "pygments_lexer": "ipython3",
   "version": "3.8.10"
  }
 },
 "nbformat": 4,
 "nbformat_minor": 5
}
