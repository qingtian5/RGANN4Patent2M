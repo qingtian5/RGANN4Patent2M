{
 "cells": [
  {
   "cell_type": "code",
   "execution_count": 1,
   "id": "b3d55fd6-efdb-4118-90c3-d6d249c00a1d",
   "metadata": {},
   "outputs": [],
   "source": [
    "import pandas as pd"
   ]
  },
  {
   "cell_type": "code",
   "execution_count": 2,
   "id": "fd96b861-b1a9-410b-8b5c-a6c35b91874f",
   "metadata": {},
   "outputs": [],
   "source": [
    "'H82'.split(',')"
   ]
  },
  {
   "cell_type": "code",
   "execution_count": 2,
   "id": "6dbeabeb-decc-429a-a135-f9bb68169d71",
   "metadata": {},
   "outputs": [],
   "source": [
    "class clsvocab:\n",
    "    def __init__(self):\n",
    "        data = pd.concat([pd.read_csv('./data/Patent14K/train.csv'),\n",
    "                         pd.read_csv('data/Patent14K/test.csv')],\n",
    "                        axis=0)\n",
    "        self.id2label = []\n",
    "        for labels in data['cpc_ids']:\n",
    "            for label in labels.strip().split(','):\n",
    "                if label not in self.id2label:\n",
    "                    self.id2label.append(label)\n",
    "        self.label2id = {v:k for k,v in enumerate(self.id2label)}\n",
    "        \n",
    "    def convert_id2label(self,idx):\n",
    "        return self.id2label[idx]\n",
    "    \n",
    "    def convert_label2id(self,y):\n",
    "        return self.label2id[y]"
   ]
  },
  {
   "cell_type": "code",
   "execution_count": 3,
   "id": "ba55ba86-43a9-491e-9ad4-65ff630e724f",
   "metadata": {
    "scrolled": true,
    "tags": []
   },
   "outputs": [],
   "source": [
    "clsv = clsvocab()"
   ]
  },
  {
   "cell_type": "code",
   "execution_count": 4,
   "id": "b2a33c3c-ead4-4368-be92-1655a74e2615",
   "metadata": {},
   "outputs": [
    {
     "data": {
      "text/plain": [
       "605"
      ]
     },
     "execution_count": 4,
     "metadata": {},
     "output_type": "execute_result"
    }
   ],
   "source": [
    "len(clsv.id2label)"
   ]
  },
  {
   "cell_type": "code",
   "execution_count": null,
   "id": "16efa2fb-a540-47b9-a99f-fc7a4f0357c6",
   "metadata": {
    "scrolled": true,
    "tags": []
   },
   "outputs": [],
   "source": [
    "clsv.label2id"
   ]
  },
  {
   "cell_type": "code",
   "execution_count": 5,
   "id": "6d4d0747-fa78-4ca2-995e-5a5ed69b911c",
   "metadata": {},
   "outputs": [],
   "source": [
    "import pickle\n",
    "pickle.dump(clsv.id2label,open('temp_results/mini_id2label_lst.pkl','wb'))\n",
    "pickle.dump(clsv.label2id,open('temp_results/mini_label2id_dict.pkl','wb'))"
   ]
  },
  {
   "cell_type": "code",
   "execution_count": null,
   "id": "e32c426c-9020-4a57-b518-079e53bfe4ee",
   "metadata": {},
   "outputs": [],
   "source": []
  }
 ],
 "metadata": {
  "kernelspec": {
   "display_name": "Python 3 (ipykernel)",
   "language": "python",
   "name": "python3"
  },
  "language_info": {
   "codemirror_mode": {
    "name": "ipython",
    "version": 3
   },
   "file_extension": ".py",
   "mimetype": "text/x-python",
   "name": "python",
   "nbconvert_exporter": "python",
   "pygments_lexer": "ipython3",
   "version": "3.8.10"
  }
 },
 "nbformat": 4,
 "nbformat_minor": 5
}