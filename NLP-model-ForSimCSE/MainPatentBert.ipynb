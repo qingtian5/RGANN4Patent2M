{
 "cells": [
  {
   "cell_type": "code",
   "execution_count": 9,
   "id": "2a1e5ae3-ef56-4fc9-b8ac-3dc732798b0a",
   "metadata": {},
   "outputs": [],
   "source": [
    "import pandas as pd\n",
    "import pickle\n",
    "import numpy as np\n",
    "from torch.utils.data import Dataset,DataLoader\n",
    "import torch\n",
    "import torch.nn as nn\n",
    "import torch.nn.functional as F\n",
    "\n",
    "from transformers import AdamW\n",
    "from operator import itemgetter\n",
    "from sklearn.model_selection import StratifiedKFold\n",
    "\n",
    "import os\n",
    "os.environ['CUDA_VISIBLE_DEVICES'] = '0'\n",
    "torch.cuda.set_device(0)"
   ]
  },
  {
   "cell_type": "code",
   "execution_count": 10,
   "id": "5e2b69c8-a177-4ae6-8476-898a57052b71",
   "metadata": {},
   "outputs": [],
   "source": [
    "label2id = pickle.load(open('../temp_results/mini_label2id_dict.pkl','rb'))\n",
    "id2label = pickle.load(open('../temp_results/mini_id2label_lst.pkl','rb'))"
   ]
  },
  {
   "cell_type": "code",
   "execution_count": 11,
   "id": "aee0f61b-0d73-4980-9dc1-02cafb9afe32",
   "metadata": {},
   "outputs": [],
   "source": [
    "train_data = pd.read_csv('../data/Patent14K/train.csv')\n",
    "test_data = pd.read_csv('../data/Patent14K/test.csv')"
   ]
  },
  {
   "cell_type": "code",
   "execution_count": 12,
   "id": "e6175a64-8fdf-48da-9af1-d271e01c3796",
   "metadata": {
    "tags": []
   },
   "outputs": [
    {
     "name": "stderr",
     "output_type": "stream",
     "text": [
      "Some weights of the model checkpoint at anferico/bert-for-patents were not used when initializing BertForMaskedLM: ['cls.seq_relationship.bias', 'cls.seq_relationship.weight']\n",
      "- This IS expected if you are initializing BertForMaskedLM from the checkpoint of a model trained on another task or with another architecture (e.g. initializing a BertForSequenceClassification model from a BertForPreTraining model).\n",
      "- This IS NOT expected if you are initializing BertForMaskedLM from the checkpoint of a model that you expect to be exactly identical (initializing a BertForSequenceClassification model from a BertForSequenceClassification model).\n"
     ]
    },
    {
     "data": {
      "text/plain": [
       "<All keys matched successfully>"
      ]
     },
     "execution_count": 12,
     "metadata": {},
     "output_type": "execute_result"
    }
   ],
   "source": [
    "from transformers import AutoModelForMaskedLM,AutoTokenizer,BertConfig\n",
    "from collections import OrderedDict\n",
    "save_path = './patent_bert_simcse/simcsepatent_bs64.pth'\n",
    "loaded_dict = torch.load(save_path)\n",
    "# 核心问题是：如何去掉权重字典键名中的\"module\"，以保证模型的统一性。\n",
    "new_state_dict = OrderedDict()\n",
    "for k, v in loaded_dict.items():\n",
    "    name = k[7:] # module字段在最前面，从第7个字符开始就可以去掉module\n",
    "    new_state_dict[name] = v #新字典的key值对应的value一一对应\n",
    "    \n",
    "model_path = 'anferico/bert-for-patents'\n",
    "tokenizer = AutoTokenizer.from_pretrained(model_path)\n",
    "Config = BertConfig.from_pretrained(model_path)\n",
    "Config.attention_probs_dropout_prob = 0.1\n",
    "Config.hidden_dropout_prob = 0.1\n",
    "output_way = 'pooler'\n",
    "\n",
    "class NeuralNetwork(nn.Module):\n",
    "    def __init__(self,model_path,output_way):\n",
    "        super(NeuralNetwork, self).__init__()\n",
    "        self.bert = AutoModelForMaskedLM.from_pretrained(model_path,config=Config)\n",
    "        self.output_way = output_way\n",
    "    def forward(self, input_ids, attention_mask, token_type_ids):\n",
    "        x1 = self.bert(input_ids = input_ids, attention_mask=attention_mask, token_type_ids=token_type_ids,output_hidden_states=True)\n",
    "        if self.output_way == 'cls':\n",
    "            output = x1.hidden_states[-1][:,0]\n",
    "        elif self.output_way == 'pooler':\n",
    "            output = x1.hidden_states[-1].mean(dim=1)\n",
    "        return output\n",
    "    \n",
    "model = NeuralNetwork(model_path,output_way)\n",
    "model.load_state_dict(new_state_dict)"
   ]
  },
  {
   "cell_type": "markdown",
   "id": "cc731314-943f-4ee3-889c-1bd37ceea58d",
   "metadata": {},
   "source": [
    "# Data Loader"
   ]
  },
  {
   "cell_type": "code",
   "execution_count": 13,
   "id": "34139872-f8d7-4ccf-816b-2656e7bc838c",
   "metadata": {},
   "outputs": [],
   "source": [
    "def str2id_lst(str_label):\n",
    "    id_lst = []\n",
    "    for l in str_label.split(','):\n",
    "        id_lst.append(label2id[l])\n",
    "    return id_lst\n",
    "\n",
    "class PatentDataset(Dataset):\n",
    "    def __init__(self,df,labeled = True):\n",
    "        self.df = df\n",
    "        self.labeled = labeled\n",
    "        \n",
    "    def __len__(self):\n",
    "        return self.df.shape[0]\n",
    "    \n",
    "    def __getitem__(self,idx):\n",
    "        text = self.df.iloc[idx]['text'][3:]\n",
    "        label = str2id_lst(self.df.iloc[idx]['cpc_ids'])\n",
    "        \n",
    "        if self.labeled:\n",
    "            return text,label\n",
    "        else:\n",
    "            return text,None\n",
    "        "
   ]
  },
  {
   "cell_type": "code",
   "execution_count": 14,
   "id": "fd54a648-3731-4a71-94df-e405b05d1576",
   "metadata": {},
   "outputs": [],
   "source": [
    "test_dataset = PatentDataset(test_data)"
   ]
  },
  {
   "cell_type": "code",
   "execution_count": 15,
   "id": "4d5037c0-9b01-4c1d-b26b-e4a3078f60b5",
   "metadata": {},
   "outputs": [],
   "source": [
    "def collate_fn(data):\n",
    "    sents = [i[0] for i in data]\n",
    "    labels = [i[1] for i in data]\n",
    "    \n",
    "    data = tokenizer.batch_encode_plus(batch_text_or_text_pairs=sents,\n",
    "                                      truncation=True,\n",
    "                                      padding='max_length',\n",
    "                                      max_length=128,\n",
    "                                      return_tensors='pt',\n",
    "                                      return_length=True)\n",
    "    input_ids = data['input_ids']\n",
    "    attention_mask = data['attention_mask']\n",
    "    token_type_ids = data['token_type_ids']\n",
    "    \n",
    "    batch_label = np.zeros((len(labels),len(id2label)))\n",
    "    for i,_label in enumerate(labels):\n",
    "        batch_label[i,_label]=1\n",
    "    \n",
    "    batch_label = torch.tensor(batch_label,dtype=torch.float32)\n",
    "    \n",
    "    return input_ids, attention_mask, token_type_ids, batch_label\n",
    "    "
   ]
  },
  {
   "cell_type": "code",
   "execution_count": 16,
   "id": "ebbf43df-16cc-46a3-b9da-fbf871e9afd3",
   "metadata": {},
   "outputs": [],
   "source": [
    "test_dataloader = DataLoader(dataset = test_dataset,\n",
    "                            batch_size = 4,\n",
    "                            collate_fn = collate_fn)"
   ]
  },
  {
   "cell_type": "markdown",
   "id": "7506f49c-923f-4b19-ab57-98cc5d67491c",
   "metadata": {
    "tags": []
   },
   "source": [
    "# Define Model"
   ]
  },
  {
   "cell_type": "code",
   "execution_count": 17,
   "id": "96bfda09-17fa-4194-90d1-73f332a5645f",
   "metadata": {
    "tags": []
   },
   "outputs": [],
   "source": [
    "class PatentClsModel(nn.Module):\n",
    "    def __init__(self,bert_model,backbone_fixed = True):\n",
    "        super().__init__()\n",
    "        self.fc = nn.Sequential(nn.BatchNorm1d(1024),\n",
    "                               nn.Dropout(0.5),\n",
    "                               nn.Linear(1024,768),\n",
    "                               nn.ReLU(),\n",
    "                               nn.BatchNorm1d(768),\n",
    "                               nn.Dropout(0.5),\n",
    "                               nn.Linear(768,len(id2label)))\n",
    "        \n",
    "        self.bert_model = bert_model\n",
    "        self.sig = nn.Sigmoid()\n",
    "        self.backbone_fixed = backbone_fixed\n",
    "        \n",
    "        for i, module in enumerate(self.fc):\n",
    "            if isinstance(module, (nn.BatchNorm1d, nn.BatchNorm2d)):\n",
    "                nn.init.constant_(module.weight, 1)\n",
    "                nn.init.constant_(module.bias, 0)\n",
    "            elif isinstance(module, nn.Linear):\n",
    "                if getattr(module, \"weight_v\", None) is not None:\n",
    "                    nn.init.uniform_(module.weight_g, 0, 1)\n",
    "                    nn.init.kaiming_normal_(module.weight_v)\n",
    "                    assert model[i].weight_g is not None\n",
    "                else:\n",
    "                    nn.init.kaiming_normal_(module.weight)\n",
    "                nn.init.constant_(module.bias, 0)\n",
    "\n",
    "    def forward(self, input_ids, attention_mask, token_type_ids):\n",
    "        if self.backbone_fixed:\n",
    "            with torch.no_grad():\n",
    "                x = self.bert_model(input_ids = input_ids,\n",
    "                                    attention_mask = attention_mask,\n",
    "                                    token_type_ids = token_type_ids)\n",
    "        else:\n",
    "            x = self.bert_model(input_ids = input_ids,\n",
    "                                attention_mask = attention_mask,\n",
    "                                token_type_ids = token_type_ids)\n",
    "            \n",
    "        x = self.fc(x)\n",
    "        x = self.sig(x)\n",
    "        \n",
    "        return x\n",
    "        "
   ]
  },
  {
   "cell_type": "markdown",
   "id": "3fcd4121-e2e7-4cc7-b606-b62c68b892ba",
   "metadata": {
    "tags": []
   },
   "source": [
    "# Training"
   ]
  },
  {
   "cell_type": "code",
   "execution_count": 18,
   "id": "b0e619ce-202e-49b0-aa1f-5033c8407dcb",
   "metadata": {},
   "outputs": [],
   "source": [
    "kfold = StratifiedKFold(n_splits=5)\n",
    "total_epochs = 30\n",
    "test_predict_lst = []"
   ]
  },
  {
   "cell_type": "code",
   "execution_count": 19,
   "id": "7c631b42-e179-4506-aaf3-55362e0159d4",
   "metadata": {
    "tags": []
   },
   "outputs": [
    {
     "name": "stderr",
     "output_type": "stream",
     "text": [
      "/root/miniconda3/lib/python3.8/site-packages/sklearn/model_selection/_split.py:684: UserWarning: The least populated class in y has only 1 members, which is less than n_splits=5.\n",
      "  warnings.warn(\n"
     ]
    },
    {
     "name": "stdout",
     "output_type": "stream",
     "text": [
      "********************\n",
      "Fold1\n",
      "********************\n"
     ]
    },
    {
     "name": "stderr",
     "output_type": "stream",
     "text": [
      "/root/miniconda3/lib/python3.8/site-packages/transformers/optimization.py:306: FutureWarning: This implementation of AdamW is deprecated and will be removed in a future version. Use the PyTorch implementation torch.optim.AdamW instead, or set `no_deprecation_warning=True` to disable this warning\n",
      "  warnings.warn(\n"
     ]
    },
    {
     "name": "stdout",
     "output_type": "stream",
     "text": [
      "Dataloader Success---------------------\n",
      "|                                 |\n"
     ]
    },
    {
     "name": "stderr",
     "output_type": "stream",
     "text": [
      "100%|██████████| 2800/2800 [01:36<00:00, 29.01it/s]\n",
      "100%|██████████| 700/700 [00:20<00:00, 33.91it/s]\n"
     ]
    },
    {
     "name": "stdout",
     "output_type": "stream",
     "text": [
      "Epoch 0, val_loss 0.0147\n",
      "Best val loss found:  0.014712733714176076\n"
     ]
    },
    {
     "name": "stderr",
     "output_type": "stream",
     "text": [
      "100%|██████████| 2800/2800 [01:35<00:00, 29.19it/s]\n",
      "100%|██████████| 700/700 [00:20<00:00, 34.46it/s]\n"
     ]
    },
    {
     "name": "stdout",
     "output_type": "stream",
     "text": [
      "Best val loss found:  0.012028435957950672\n"
     ]
    },
    {
     "name": "stderr",
     "output_type": "stream",
     "text": [
      "100%|██████████| 2800/2800 [01:34<00:00, 29.58it/s]\n",
      "100%|██████████| 700/700 [00:20<00:00, 33.90it/s]\n"
     ]
    },
    {
     "name": "stdout",
     "output_type": "stream",
     "text": [
      "Best val loss found:  0.010937071276961693\n"
     ]
    },
    {
     "name": "stderr",
     "output_type": "stream",
     "text": [
      "100%|██████████| 2800/2800 [01:34<00:00, 29.60it/s]\n",
      "100%|██████████| 700/700 [00:20<00:00, 34.45it/s]\n"
     ]
    },
    {
     "name": "stdout",
     "output_type": "stream",
     "text": [
      "Best val loss found:  0.010581607057247311\n"
     ]
    },
    {
     "name": "stderr",
     "output_type": "stream",
     "text": [
      "100%|██████████| 2800/2800 [01:35<00:00, 29.38it/s]\n",
      "100%|██████████| 700/700 [00:20<00:00, 33.95it/s]\n"
     ]
    },
    {
     "name": "stdout",
     "output_type": "stream",
     "text": [
      "Best val loss found:  0.010370161149185151\n",
      "| >>>>>                           |\n"
     ]
    },
    {
     "name": "stderr",
     "output_type": "stream",
     "text": [
      "100%|██████████| 2800/2800 [01:35<00:00, 29.27it/s]\n",
      "100%|██████████| 700/700 [00:19<00:00, 35.71it/s]\n"
     ]
    },
    {
     "name": "stdout",
     "output_type": "stream",
     "text": [
      "Best val loss found:  0.010179420153477363\n"
     ]
    },
    {
     "name": "stderr",
     "output_type": "stream",
     "text": [
      "100%|██████████| 2800/2800 [01:34<00:00, 29.55it/s]\n",
      "100%|██████████| 700/700 [00:20<00:00, 33.67it/s]\n"
     ]
    },
    {
     "name": "stdout",
     "output_type": "stream",
     "text": [
      "Best val loss found:  0.010105474773029397\n"
     ]
    },
    {
     "name": "stderr",
     "output_type": "stream",
     "text": [
      "100%|██████████| 2800/2800 [01:34<00:00, 29.69it/s]\n",
      "100%|██████████| 700/700 [00:20<00:00, 34.42it/s]\n"
     ]
    },
    {
     "name": "stdout",
     "output_type": "stream",
     "text": [
      "Best val loss found:  0.00997928097627924\n"
     ]
    },
    {
     "name": "stderr",
     "output_type": "stream",
     "text": [
      "100%|██████████| 2800/2800 [01:34<00:00, 29.71it/s]\n",
      "100%|██████████| 700/700 [00:20<00:00, 34.33it/s]\n"
     ]
    },
    {
     "name": "stdout",
     "output_type": "stream",
     "text": [
      "Best val loss found:  0.009918309169921227\n"
     ]
    },
    {
     "name": "stderr",
     "output_type": "stream",
     "text": [
      "100%|██████████| 2800/2800 [01:34<00:00, 29.60it/s]\n",
      "100%|██████████| 700/700 [00:20<00:00, 33.89it/s]\n"
     ]
    },
    {
     "name": "stdout",
     "output_type": "stream",
     "text": [
      "Best val loss found:  0.00977915283708301\n",
      "| >>>>>>>>>>                      |\n"
     ]
    },
    {
     "name": "stderr",
     "output_type": "stream",
     "text": [
      "100%|██████████| 2800/2800 [01:35<00:00, 29.30it/s]\n",
      "100%|██████████| 700/700 [00:20<00:00, 34.91it/s]\n"
     ]
    },
    {
     "name": "stdout",
     "output_type": "stream",
     "text": [
      "Epoch 10, val_loss 0.0097\n",
      "Best val loss found:  0.009705506754606696\n"
     ]
    },
    {
     "name": "stderr",
     "output_type": "stream",
     "text": [
      "100%|██████████| 2800/2800 [01:35<00:00, 29.32it/s]\n",
      "100%|██████████| 700/700 [00:20<00:00, 34.26it/s]\n",
      "100%|██████████| 2800/2800 [01:34<00:00, 29.52it/s]\n",
      "100%|██████████| 700/700 [00:19<00:00, 35.49it/s]\n"
     ]
    },
    {
     "name": "stdout",
     "output_type": "stream",
     "text": [
      "Best val loss found:  0.009667234823407074\n"
     ]
    },
    {
     "name": "stderr",
     "output_type": "stream",
     "text": [
      "100%|██████████| 2800/2800 [01:34<00:00, 29.58it/s]\n",
      "100%|██████████| 700/700 [00:20<00:00, 33.90it/s]\n",
      "100%|██████████| 2800/2800 [01:34<00:00, 29.65it/s]\n",
      "100%|██████████| 700/700 [00:20<00:00, 34.12it/s]\n"
     ]
    },
    {
     "name": "stdout",
     "output_type": "stream",
     "text": [
      "Best val loss found:  0.009652071629285015\n",
      "| >>>>>>>>>>>>>>>                 |\n"
     ]
    },
    {
     "name": "stderr",
     "output_type": "stream",
     "text": [
      "100%|██████████| 2800/2800 [01:34<00:00, 29.63it/s]\n",
      "100%|██████████| 700/700 [00:20<00:00, 34.19it/s]\n",
      "100%|██████████| 2800/2800 [01:33<00:00, 29.87it/s]\n",
      "100%|██████████| 700/700 [00:20<00:00, 34.94it/s]\n"
     ]
    },
    {
     "name": "stdout",
     "output_type": "stream",
     "text": [
      "Best val loss found:  0.009487149527495993\n"
     ]
    },
    {
     "name": "stderr",
     "output_type": "stream",
     "text": [
      "100%|██████████| 2800/2800 [01:35<00:00, 29.35it/s]\n",
      "100%|██████████| 700/700 [00:20<00:00, 34.24it/s]\n",
      "100%|██████████| 2800/2800 [01:35<00:00, 29.37it/s]\n",
      "100%|██████████| 700/700 [00:20<00:00, 34.38it/s]\n",
      "100%|██████████| 2800/2800 [01:30<00:00, 30.78it/s]\n",
      "100%|██████████| 700/700 [00:20<00:00, 34.42it/s]\n"
     ]
    },
    {
     "name": "stdout",
     "output_type": "stream",
     "text": [
      "| >>>>>>>>>>>>>>>>>>>>            |\n"
     ]
    },
    {
     "name": "stderr",
     "output_type": "stream",
     "text": [
      "100%|██████████| 2800/2800 [01:34<00:00, 29.63it/s]\n",
      "100%|██████████| 700/700 [00:20<00:00, 34.54it/s]\n"
     ]
    },
    {
     "name": "stdout",
     "output_type": "stream",
     "text": [
      "Epoch 20, val_loss 0.0094\n",
      "Best val loss found:  0.009439601032894903\n"
     ]
    },
    {
     "name": "stderr",
     "output_type": "stream",
     "text": [
      "100%|██████████| 2800/2800 [01:35<00:00, 29.38it/s]\n",
      "100%|██████████| 700/700 [00:20<00:00, 34.51it/s]\n"
     ]
    },
    {
     "name": "stdout",
     "output_type": "stream",
     "text": [
      "Best val loss found:  0.009429808007386912\n"
     ]
    },
    {
     "name": "stderr",
     "output_type": "stream",
     "text": [
      "100%|██████████| 2800/2800 [01:33<00:00, 29.82it/s]\n",
      "100%|██████████| 700/700 [00:20<00:00, 34.04it/s]\n",
      "100%|██████████| 2800/2800 [01:34<00:00, 29.57it/s]\n",
      "100%|██████████| 700/700 [00:20<00:00, 34.15it/s]\n",
      "100%|██████████| 2800/2800 [01:35<00:00, 29.42it/s]\n",
      "100%|██████████| 700/700 [00:20<00:00, 34.15it/s]\n"
     ]
    },
    {
     "name": "stdout",
     "output_type": "stream",
     "text": [
      "Best val loss found:  0.009358669734959092\n",
      "| >>>>>>>>>>>>>>>>>>>>>>>>>       |\n"
     ]
    },
    {
     "name": "stderr",
     "output_type": "stream",
     "text": [
      "100%|██████████| 2800/2800 [01:33<00:00, 29.88it/s]\n",
      "100%|██████████| 700/700 [00:20<00:00, 34.00it/s]\n",
      "100%|██████████| 2800/2800 [01:32<00:00, 30.35it/s]\n",
      "100%|██████████| 700/700 [00:19<00:00, 35.39it/s]\n",
      "100%|██████████| 2800/2800 [01:28<00:00, 31.81it/s]\n",
      "100%|██████████| 700/700 [00:20<00:00, 34.11it/s]\n",
      "100%|██████████| 2800/2800 [01:37<00:00, 28.80it/s]\n",
      "100%|██████████| 700/700 [00:20<00:00, 33.60it/s]\n",
      "100%|██████████| 2800/2800 [01:40<00:00, 27.90it/s]\n",
      "100%|██████████| 700/700 [00:21<00:00, 32.75it/s]\n"
     ]
    },
    {
     "name": "stdout",
     "output_type": "stream",
     "text": [
      "Best val loss found:  0.009314788177476397\n",
      "This fold, the best val loss is:  0.009314788177476397\n"
     ]
    },
    {
     "name": "stderr",
     "output_type": "stream",
     "text": [
      "100%|██████████| 1000/1000 [00:31<00:00, 32.24it/s]\n"
     ]
    },
    {
     "name": "stdout",
     "output_type": "stream",
     "text": [
      "This fold, the test loss is:  0.010924933600006626\n",
      "********************\n",
      "Fold2\n",
      "********************\n",
      "Dataloader Success---------------------\n",
      "|                                 |\n"
     ]
    },
    {
     "name": "stderr",
     "output_type": "stream",
     "text": [
      "100%|██████████| 2800/2800 [01:38<00:00, 28.40it/s]\n",
      "100%|██████████| 700/700 [00:20<00:00, 33.70it/s]\n"
     ]
    },
    {
     "name": "stdout",
     "output_type": "stream",
     "text": [
      "Epoch 0, val_loss 0.0144\n",
      "Best val loss found:  0.014409687642141112\n"
     ]
    },
    {
     "name": "stderr",
     "output_type": "stream",
     "text": [
      "100%|██████████| 2800/2800 [01:38<00:00, 28.41it/s]\n",
      "100%|██████████| 700/700 [00:21<00:00, 33.07it/s]\n"
     ]
    },
    {
     "name": "stdout",
     "output_type": "stream",
     "text": [
      "Best val loss found:  0.011639381488951455\n"
     ]
    },
    {
     "name": "stderr",
     "output_type": "stream",
     "text": [
      "100%|██████████| 2800/2800 [01:37<00:00, 28.77it/s]\n",
      "100%|██████████| 700/700 [00:20<00:00, 34.04it/s]\n"
     ]
    },
    {
     "name": "stdout",
     "output_type": "stream",
     "text": [
      "Best val loss found:  0.010742284220842911\n"
     ]
    },
    {
     "name": "stderr",
     "output_type": "stream",
     "text": [
      "100%|██████████| 2800/2800 [01:36<00:00, 28.88it/s]\n",
      "100%|██████████| 700/700 [00:20<00:00, 34.03it/s]\n"
     ]
    },
    {
     "name": "stdout",
     "output_type": "stream",
     "text": [
      "Best val loss found:  0.010339744195641418\n"
     ]
    },
    {
     "name": "stderr",
     "output_type": "stream",
     "text": [
      "100%|██████████| 2800/2800 [01:36<00:00, 28.94it/s]\n",
      "100%|██████████| 700/700 [00:20<00:00, 33.62it/s]\n"
     ]
    },
    {
     "name": "stdout",
     "output_type": "stream",
     "text": [
      "Best val loss found:  0.010155534508272206\n",
      "| >>>>>                           |\n"
     ]
    },
    {
     "name": "stderr",
     "output_type": "stream",
     "text": [
      "100%|██████████| 2800/2800 [01:36<00:00, 28.93it/s]\n",
      "100%|██████████| 700/700 [00:20<00:00, 33.48it/s]\n"
     ]
    },
    {
     "name": "stdout",
     "output_type": "stream",
     "text": [
      "Best val loss found:  0.009986905287286001\n"
     ]
    },
    {
     "name": "stderr",
     "output_type": "stream",
     "text": [
      "100%|██████████| 2800/2800 [01:36<00:00, 28.90it/s]\n",
      "100%|██████████| 700/700 [00:20<00:00, 33.65it/s]\n"
     ]
    },
    {
     "name": "stdout",
     "output_type": "stream",
     "text": [
      "Best val loss found:  0.009898087932462139\n"
     ]
    },
    {
     "name": "stderr",
     "output_type": "stream",
     "text": [
      "100%|██████████| 2800/2800 [01:39<00:00, 28.21it/s]\n",
      "100%|██████████| 700/700 [00:21<00:00, 32.67it/s]\n"
     ]
    },
    {
     "name": "stdout",
     "output_type": "stream",
     "text": [
      "Best val loss found:  0.009862047581201685\n"
     ]
    },
    {
     "name": "stderr",
     "output_type": "stream",
     "text": [
      "100%|██████████| 2800/2800 [01:40<00:00, 27.79it/s]\n",
      "100%|██████████| 700/700 [00:21<00:00, 32.59it/s]\n"
     ]
    },
    {
     "name": "stdout",
     "output_type": "stream",
     "text": [
      "Best val loss found:  0.009683475868244256\n"
     ]
    },
    {
     "name": "stderr",
     "output_type": "stream",
     "text": [
      "100%|██████████| 2800/2800 [01:41<00:00, 27.70it/s]\n",
      "100%|██████████| 700/700 [00:21<00:00, 32.58it/s]\n"
     ]
    },
    {
     "name": "stdout",
     "output_type": "stream",
     "text": [
      "Best val loss found:  0.009615837971047897\n",
      "| >>>>>>>>>>                      |\n"
     ]
    },
    {
     "name": "stderr",
     "output_type": "stream",
     "text": [
      "100%|██████████| 2800/2800 [01:40<00:00, 27.90it/s]\n",
      "100%|██████████| 700/700 [00:21<00:00, 32.42it/s]\n"
     ]
    },
    {
     "name": "stdout",
     "output_type": "stream",
     "text": [
      "Epoch 10, val_loss 0.0096\n"
     ]
    },
    {
     "name": "stderr",
     "output_type": "stream",
     "text": [
      "100%|██████████| 2800/2800 [01:38<00:00, 28.35it/s]\n",
      "100%|██████████| 700/700 [00:21<00:00, 33.03it/s]\n"
     ]
    },
    {
     "name": "stdout",
     "output_type": "stream",
     "text": [
      "Best val loss found:  0.009547143265039528\n"
     ]
    },
    {
     "name": "stderr",
     "output_type": "stream",
     "text": [
      "100%|██████████| 2800/2800 [01:39<00:00, 28.20it/s]\n",
      "100%|██████████| 700/700 [00:21<00:00, 32.75it/s]\n"
     ]
    },
    {
     "name": "stdout",
     "output_type": "stream",
     "text": [
      "Best val loss found:  0.009546760203416592\n"
     ]
    },
    {
     "name": "stderr",
     "output_type": "stream",
     "text": [
      "100%|██████████| 2800/2800 [01:40<00:00, 27.96it/s]\n",
      "100%|██████████| 700/700 [00:21<00:00, 32.79it/s]\n"
     ]
    },
    {
     "name": "stdout",
     "output_type": "stream",
     "text": [
      "Best val loss found:  0.009496605894694638\n"
     ]
    },
    {
     "name": "stderr",
     "output_type": "stream",
     "text": [
      "100%|██████████| 2800/2800 [01:39<00:00, 28.21it/s]\n",
      "100%|██████████| 700/700 [00:21<00:00, 33.09it/s]\n"
     ]
    },
    {
     "name": "stdout",
     "output_type": "stream",
     "text": [
      "Best val loss found:  0.00944284460740164\n",
      "| >>>>>>>>>>>>>>>                 |\n"
     ]
    },
    {
     "name": "stderr",
     "output_type": "stream",
     "text": [
      "100%|██████████| 2800/2800 [01:39<00:00, 28.18it/s]\n",
      "100%|██████████| 700/700 [00:21<00:00, 33.05it/s]\n",
      "100%|██████████| 2800/2800 [01:38<00:00, 28.35it/s]\n",
      "100%|██████████| 700/700 [00:21<00:00, 32.78it/s]\n"
     ]
    },
    {
     "name": "stdout",
     "output_type": "stream",
     "text": [
      "Best val loss found:  0.009435201397365225\n"
     ]
    },
    {
     "name": "stderr",
     "output_type": "stream",
     "text": [
      "100%|██████████| 2800/2800 [01:39<00:00, 28.27it/s]\n",
      "100%|██████████| 700/700 [00:20<00:00, 33.58it/s]\n"
     ]
    },
    {
     "name": "stdout",
     "output_type": "stream",
     "text": [
      "Best val loss found:  0.009373378960715075\n"
     ]
    },
    {
     "name": "stderr",
     "output_type": "stream",
     "text": [
      "100%|██████████| 2800/2800 [01:38<00:00, 28.37it/s]\n",
      "100%|██████████| 700/700 [00:21<00:00, 32.58it/s]\n",
      "100%|██████████| 2800/2800 [01:39<00:00, 28.06it/s]\n",
      "100%|██████████| 700/700 [00:21<00:00, 32.11it/s]\n"
     ]
    },
    {
     "name": "stdout",
     "output_type": "stream",
     "text": [
      "Best val loss found:  0.009360685756130676\n",
      "| >>>>>>>>>>>>>>>>>>>>            |\n"
     ]
    },
    {
     "name": "stderr",
     "output_type": "stream",
     "text": [
      "100%|██████████| 2800/2800 [01:38<00:00, 28.35it/s]\n",
      "100%|██████████| 700/700 [00:21<00:00, 33.21it/s]\n"
     ]
    },
    {
     "name": "stdout",
     "output_type": "stream",
     "text": [
      "Epoch 20, val_loss 0.0094\n"
     ]
    },
    {
     "name": "stderr",
     "output_type": "stream",
     "text": [
      "100%|██████████| 2800/2800 [01:39<00:00, 28.13it/s]\n",
      "100%|██████████| 700/700 [00:21<00:00, 33.05it/s]\n"
     ]
    },
    {
     "name": "stdout",
     "output_type": "stream",
     "text": [
      "Best val loss found:  0.00927844453270414\n"
     ]
    },
    {
     "name": "stderr",
     "output_type": "stream",
     "text": [
      "100%|██████████| 2800/2800 [01:39<00:00, 28.16it/s]\n",
      "100%|██████████| 700/700 [00:21<00:00, 32.84it/s]\n",
      "100%|██████████| 2800/2800 [01:38<00:00, 28.32it/s]\n",
      "100%|██████████| 700/700 [00:21<00:00, 32.37it/s]\n",
      "100%|██████████| 2800/2800 [01:38<00:00, 28.32it/s]\n",
      "100%|██████████| 700/700 [00:21<00:00, 32.38it/s]\n"
     ]
    },
    {
     "name": "stdout",
     "output_type": "stream",
     "text": [
      "| >>>>>>>>>>>>>>>>>>>>>>>>>       |\n"
     ]
    },
    {
     "name": "stderr",
     "output_type": "stream",
     "text": [
      "100%|██████████| 2800/2800 [01:39<00:00, 28.15it/s]\n",
      "100%|██████████| 700/700 [00:21<00:00, 32.88it/s]\n",
      "100%|██████████| 2800/2800 [01:38<00:00, 28.35it/s]\n",
      "100%|██████████| 700/700 [00:21<00:00, 33.02it/s]\n",
      "100%|██████████| 2800/2800 [01:39<00:00, 28.16it/s]\n",
      "100%|██████████| 700/700 [00:21<00:00, 32.66it/s]\n",
      "100%|██████████| 2800/2800 [01:39<00:00, 28.24it/s]\n",
      "100%|██████████| 700/700 [00:21<00:00, 32.71it/s]\n",
      "100%|██████████| 2800/2800 [01:38<00:00, 28.31it/s]\n",
      "100%|██████████| 700/700 [00:20<00:00, 33.43it/s]\n"
     ]
    },
    {
     "name": "stdout",
     "output_type": "stream",
     "text": [
      "Best val loss found:  0.009218221652720656\n",
      "This fold, the best val loss is:  0.009218221652720656\n"
     ]
    },
    {
     "name": "stderr",
     "output_type": "stream",
     "text": [
      "100%|██████████| 1000/1000 [00:30<00:00, 32.73it/s]\n"
     ]
    },
    {
     "name": "stdout",
     "output_type": "stream",
     "text": [
      "This fold, the test loss is:  0.010810707543045282\n",
      "********************\n",
      "Fold3\n",
      "********************\n",
      "Dataloader Success---------------------\n",
      "|                                 |\n"
     ]
    },
    {
     "name": "stderr",
     "output_type": "stream",
     "text": [
      "100%|██████████| 2800/2800 [01:39<00:00, 28.27it/s]\n",
      "100%|██████████| 700/700 [00:21<00:00, 33.05it/s]\n"
     ]
    },
    {
     "name": "stdout",
     "output_type": "stream",
     "text": [
      "Epoch 0, val_loss 0.0151\n",
      "Best val loss found:  0.015124811388751758\n"
     ]
    },
    {
     "name": "stderr",
     "output_type": "stream",
     "text": [
      "100%|██████████| 2800/2800 [01:39<00:00, 28.28it/s]\n",
      "100%|██████████| 700/700 [00:20<00:00, 33.38it/s]\n"
     ]
    },
    {
     "name": "stdout",
     "output_type": "stream",
     "text": [
      "Best val loss found:  0.01206105775449292\n"
     ]
    },
    {
     "name": "stderr",
     "output_type": "stream",
     "text": [
      "100%|██████████| 2800/2800 [01:39<00:00, 28.25it/s]\n",
      "100%|██████████| 700/700 [00:21<00:00, 32.49it/s]\n"
     ]
    },
    {
     "name": "stdout",
     "output_type": "stream",
     "text": [
      "Best val loss found:  0.010847751546784171\n"
     ]
    },
    {
     "name": "stderr",
     "output_type": "stream",
     "text": [
      "100%|██████████| 2800/2800 [01:39<00:00, 28.27it/s]\n",
      "100%|██████████| 700/700 [00:21<00:00, 32.61it/s]\n"
     ]
    },
    {
     "name": "stdout",
     "output_type": "stream",
     "text": [
      "Best val loss found:  0.010500843457411974\n"
     ]
    },
    {
     "name": "stderr",
     "output_type": "stream",
     "text": [
      "100%|██████████| 2800/2800 [01:38<00:00, 28.34it/s]\n",
      "100%|██████████| 700/700 [00:21<00:00, 32.86it/s]\n"
     ]
    },
    {
     "name": "stdout",
     "output_type": "stream",
     "text": [
      "Best val loss found:  0.01027253222418949\n",
      "| >>>>>                           |\n"
     ]
    },
    {
     "name": "stderr",
     "output_type": "stream",
     "text": [
      "100%|██████████| 2800/2800 [01:38<00:00, 28.31it/s]\n",
      "100%|██████████| 700/700 [00:21<00:00, 32.74it/s]\n"
     ]
    },
    {
     "name": "stdout",
     "output_type": "stream",
     "text": [
      "Best val loss found:  0.010023250557049843\n"
     ]
    },
    {
     "name": "stderr",
     "output_type": "stream",
     "text": [
      "100%|██████████| 2800/2800 [01:38<00:00, 28.29it/s]\n",
      "100%|██████████| 700/700 [00:21<00:00, 32.61it/s]\n",
      "100%|██████████| 2800/2800 [01:38<00:00, 28.37it/s]\n",
      "100%|██████████| 700/700 [00:21<00:00, 32.98it/s]\n"
     ]
    },
    {
     "name": "stdout",
     "output_type": "stream",
     "text": [
      "Best val loss found:  0.009851430663838983\n"
     ]
    },
    {
     "name": "stderr",
     "output_type": "stream",
     "text": [
      "100%|██████████| 2800/2800 [01:38<00:00, 28.48it/s]\n",
      "100%|██████████| 700/700 [00:21<00:00, 32.56it/s]\n",
      "100%|██████████| 2800/2800 [01:39<00:00, 28.19it/s]\n",
      "100%|██████████| 700/700 [00:21<00:00, 33.09it/s]\n"
     ]
    },
    {
     "name": "stdout",
     "output_type": "stream",
     "text": [
      "Best val loss found:  0.009776099210638286\n",
      "| >>>>>>>>>>                      |\n"
     ]
    },
    {
     "name": "stderr",
     "output_type": "stream",
     "text": [
      "100%|██████████| 2800/2800 [01:39<00:00, 28.19it/s]\n",
      "100%|██████████| 700/700 [00:21<00:00, 32.57it/s]\n"
     ]
    },
    {
     "name": "stdout",
     "output_type": "stream",
     "text": [
      "Epoch 10, val_loss 0.0097\n",
      "Best val loss found:  0.009710213396465406\n"
     ]
    },
    {
     "name": "stderr",
     "output_type": "stream",
     "text": [
      "100%|██████████| 2800/2800 [01:38<00:00, 28.44it/s]\n",
      "100%|██████████| 700/700 [00:21<00:00, 32.50it/s]\n"
     ]
    },
    {
     "name": "stdout",
     "output_type": "stream",
     "text": [
      "Best val loss found:  0.00961252015383382\n"
     ]
    },
    {
     "name": "stderr",
     "output_type": "stream",
     "text": [
      "100%|██████████| 2800/2800 [01:39<00:00, 28.20it/s]\n",
      "100%|██████████| 700/700 [00:21<00:00, 32.80it/s]\n",
      "100%|██████████| 2800/2800 [01:38<00:00, 28.35it/s]\n",
      "100%|██████████| 700/700 [00:21<00:00, 32.93it/s]\n"
     ]
    },
    {
     "name": "stdout",
     "output_type": "stream",
     "text": [
      "Best val loss found:  0.009599930680124089\n"
     ]
    },
    {
     "name": "stderr",
     "output_type": "stream",
     "text": [
      "100%|██████████| 2800/2800 [01:38<00:00, 28.43it/s]\n",
      "100%|██████████| 700/700 [00:21<00:00, 32.63it/s]\n"
     ]
    },
    {
     "name": "stdout",
     "output_type": "stream",
     "text": [
      "Best val loss found:  0.009494972498754837\n",
      "| >>>>>>>>>>>>>>>                 |\n"
     ]
    },
    {
     "name": "stderr",
     "output_type": "stream",
     "text": [
      "100%|██████████| 2800/2800 [01:38<00:00, 28.32it/s]\n",
      "100%|██████████| 700/700 [00:21<00:00, 33.01it/s]\n",
      "100%|██████████| 2800/2800 [01:38<00:00, 28.41it/s]\n",
      "100%|██████████| 700/700 [00:21<00:00, 32.86it/s]\n",
      "100%|██████████| 2800/2800 [01:38<00:00, 28.30it/s]\n",
      "100%|██████████| 700/700 [00:21<00:00, 32.66it/s]\n",
      "100%|██████████| 2800/2800 [01:38<00:00, 28.51it/s]\n",
      "100%|██████████| 700/700 [00:21<00:00, 32.83it/s]\n"
     ]
    },
    {
     "name": "stdout",
     "output_type": "stream",
     "text": [
      "Best val loss found:  0.009492089412940134\n"
     ]
    },
    {
     "name": "stderr",
     "output_type": "stream",
     "text": [
      "100%|██████████| 2800/2800 [01:39<00:00, 28.27it/s]\n",
      "100%|██████████| 700/700 [00:21<00:00, 32.54it/s]\n"
     ]
    },
    {
     "name": "stdout",
     "output_type": "stream",
     "text": [
      "Best val loss found:  0.009456169375916944\n",
      "| >>>>>>>>>>>>>>>>>>>>            |\n"
     ]
    },
    {
     "name": "stderr",
     "output_type": "stream",
     "text": [
      "100%|██████████| 2800/2800 [01:38<00:00, 28.29it/s]\n",
      "100%|██████████| 700/700 [00:21<00:00, 33.05it/s]\n"
     ]
    },
    {
     "name": "stdout",
     "output_type": "stream",
     "text": [
      "Epoch 20, val_loss 0.0095\n"
     ]
    },
    {
     "name": "stderr",
     "output_type": "stream",
     "text": [
      "100%|██████████| 2800/2800 [01:39<00:00, 28.02it/s]\n",
      "100%|██████████| 700/700 [00:21<00:00, 33.02it/s]\n"
     ]
    },
    {
     "name": "stdout",
     "output_type": "stream",
     "text": [
      "Best val loss found:  0.009451151268856067\n"
     ]
    },
    {
     "name": "stderr",
     "output_type": "stream",
     "text": [
      "100%|██████████| 2800/2800 [01:38<00:00, 28.42it/s]\n",
      "100%|██████████| 700/700 [00:21<00:00, 32.67it/s]\n"
     ]
    },
    {
     "name": "stdout",
     "output_type": "stream",
     "text": [
      "Best val loss found:  0.009427051362914166\n"
     ]
    },
    {
     "name": "stderr",
     "output_type": "stream",
     "text": [
      "100%|██████████| 2800/2800 [01:39<00:00, 28.21it/s]\n",
      "100%|██████████| 700/700 [00:18<00:00, 38.31it/s]\n"
     ]
    },
    {
     "name": "stdout",
     "output_type": "stream",
     "text": [
      "Best val loss found:  0.009394213353682842\n"
     ]
    },
    {
     "name": "stderr",
     "output_type": "stream",
     "text": [
      "100%|██████████| 2800/2800 [01:30<00:00, 31.10it/s]\n",
      "100%|██████████| 700/700 [00:17<00:00, 39.23it/s]\n"
     ]
    },
    {
     "name": "stdout",
     "output_type": "stream",
     "text": [
      "| >>>>>>>>>>>>>>>>>>>>>>>>>       |\n"
     ]
    },
    {
     "name": "stderr",
     "output_type": "stream",
     "text": [
      "100%|██████████| 2800/2800 [01:29<00:00, 31.20it/s]\n",
      "100%|██████████| 700/700 [00:17<00:00, 39.19it/s]\n"
     ]
    },
    {
     "name": "stdout",
     "output_type": "stream",
     "text": [
      "Best val loss found:  0.00935430069553799\n"
     ]
    },
    {
     "name": "stderr",
     "output_type": "stream",
     "text": [
      "100%|██████████| 2800/2800 [01:30<00:00, 30.99it/s]\n",
      "100%|██████████| 700/700 [00:18<00:00, 38.61it/s]\n",
      "100%|██████████| 2800/2800 [01:29<00:00, 31.22it/s]\n",
      "100%|██████████| 700/700 [00:17<00:00, 38.97it/s]\n",
      "100%|██████████| 2800/2800 [01:29<00:00, 31.32it/s]\n",
      "100%|██████████| 700/700 [00:17<00:00, 39.15it/s]\n",
      "100%|██████████| 2800/2800 [01:30<00:00, 31.03it/s]\n",
      "100%|██████████| 700/700 [00:18<00:00, 37.80it/s]\n"
     ]
    },
    {
     "name": "stdout",
     "output_type": "stream",
     "text": [
      "Best val loss found:  0.00932327596437452\n",
      "This fold, the best val loss is:  0.00932327596437452\n"
     ]
    },
    {
     "name": "stderr",
     "output_type": "stream",
     "text": [
      "100%|██████████| 1000/1000 [00:26<00:00, 37.90it/s]\n"
     ]
    },
    {
     "name": "stdout",
     "output_type": "stream",
     "text": [
      "This fold, the test loss is:  0.0107426609917311\n",
      "********************\n",
      "Fold4\n",
      "********************\n",
      "Dataloader Success---------------------\n",
      "|                                 |\n"
     ]
    },
    {
     "name": "stderr",
     "output_type": "stream",
     "text": [
      "100%|██████████| 2800/2800 [01:29<00:00, 31.34it/s]\n",
      "100%|██████████| 700/700 [00:18<00:00, 38.53it/s]\n"
     ]
    },
    {
     "name": "stdout",
     "output_type": "stream",
     "text": [
      "Epoch 0, val_loss 0.0147\n",
      "Best val loss found:  0.014701925900631718\n"
     ]
    },
    {
     "name": "stderr",
     "output_type": "stream",
     "text": [
      "100%|██████████| 2800/2800 [01:30<00:00, 31.03it/s]\n",
      "100%|██████████| 700/700 [00:18<00:00, 38.61it/s]\n"
     ]
    },
    {
     "name": "stdout",
     "output_type": "stream",
     "text": [
      "Best val loss found:  0.012221635929974063\n"
     ]
    },
    {
     "name": "stderr",
     "output_type": "stream",
     "text": [
      "100%|██████████| 2800/2800 [01:23<00:00, 33.55it/s]\n",
      "100%|██████████| 700/700 [00:18<00:00, 38.07it/s]\n"
     ]
    },
    {
     "name": "stdout",
     "output_type": "stream",
     "text": [
      "Best val loss found:  0.011214083906545836\n"
     ]
    },
    {
     "name": "stderr",
     "output_type": "stream",
     "text": [
      "100%|██████████| 2800/2800 [01:25<00:00, 32.90it/s]\n",
      "100%|██████████| 700/700 [00:17<00:00, 38.98it/s]\n"
     ]
    },
    {
     "name": "stdout",
     "output_type": "stream",
     "text": [
      "Best val loss found:  0.010957768837189567\n"
     ]
    },
    {
     "name": "stderr",
     "output_type": "stream",
     "text": [
      "100%|██████████| 2800/2800 [01:26<00:00, 32.48it/s]\n",
      "100%|██████████| 700/700 [00:18<00:00, 38.88it/s]\n"
     ]
    },
    {
     "name": "stdout",
     "output_type": "stream",
     "text": [
      "Best val loss found:  0.010527018957405484\n",
      "| >>>>>                           |\n"
     ]
    },
    {
     "name": "stderr",
     "output_type": "stream",
     "text": [
      "100%|██████████| 2800/2800 [01:26<00:00, 32.22it/s]\n",
      "100%|██████████| 700/700 [00:18<00:00, 38.29it/s]\n"
     ]
    },
    {
     "name": "stdout",
     "output_type": "stream",
     "text": [
      "Best val loss found:  0.010495365040343521\n"
     ]
    },
    {
     "name": "stderr",
     "output_type": "stream",
     "text": [
      "100%|██████████| 2800/2800 [01:26<00:00, 32.21it/s]\n",
      "100%|██████████| 700/700 [00:18<00:00, 38.71it/s]\n"
     ]
    },
    {
     "name": "stdout",
     "output_type": "stream",
     "text": [
      "Best val loss found:  0.01027216571682532\n"
     ]
    },
    {
     "name": "stderr",
     "output_type": "stream",
     "text": [
      "100%|██████████| 2800/2800 [01:25<00:00, 32.85it/s]\n",
      "100%|██████████| 700/700 [00:18<00:00, 38.30it/s]\n"
     ]
    },
    {
     "name": "stdout",
     "output_type": "stream",
     "text": [
      "Best val loss found:  0.010241286465232926\n"
     ]
    },
    {
     "name": "stderr",
     "output_type": "stream",
     "text": [
      "100%|██████████| 2800/2800 [01:26<00:00, 32.54it/s]\n",
      "100%|██████████| 700/700 [00:18<00:00, 38.15it/s]\n"
     ]
    },
    {
     "name": "stdout",
     "output_type": "stream",
     "text": [
      "Best val loss found:  0.010173782349697182\n"
     ]
    },
    {
     "name": "stderr",
     "output_type": "stream",
     "text": [
      "100%|██████████| 2800/2800 [01:24<00:00, 32.95it/s]\n",
      "100%|██████████| 700/700 [00:18<00:00, 38.78it/s]\n"
     ]
    },
    {
     "name": "stdout",
     "output_type": "stream",
     "text": [
      "Best val loss found:  0.010098765601869673\n",
      "| >>>>>>>>>>                      |\n"
     ]
    },
    {
     "name": "stderr",
     "output_type": "stream",
     "text": [
      "100%|██████████| 2800/2800 [01:26<00:00, 32.33it/s]\n",
      "100%|██████████| 700/700 [00:18<00:00, 37.97it/s]\n"
     ]
    },
    {
     "name": "stdout",
     "output_type": "stream",
     "text": [
      "Epoch 10, val_loss 0.0100\n",
      "Best val loss found:  0.010037894071844805\n"
     ]
    },
    {
     "name": "stderr",
     "output_type": "stream",
     "text": [
      "100%|██████████| 2800/2800 [01:26<00:00, 32.54it/s]\n",
      "100%|██████████| 700/700 [00:18<00:00, 37.67it/s]\n"
     ]
    },
    {
     "name": "stdout",
     "output_type": "stream",
     "text": [
      "Best val loss found:  0.010016737241364483\n"
     ]
    },
    {
     "name": "stderr",
     "output_type": "stream",
     "text": [
      "100%|██████████| 2800/2800 [01:26<00:00, 32.43it/s]\n",
      "100%|██████████| 700/700 [00:18<00:00, 38.44it/s]\n"
     ]
    },
    {
     "name": "stdout",
     "output_type": "stream",
     "text": [
      "Best val loss found:  0.0099825496638992\n"
     ]
    },
    {
     "name": "stderr",
     "output_type": "stream",
     "text": [
      "100%|██████████| 2800/2800 [01:26<00:00, 32.29it/s]\n",
      "100%|██████████| 700/700 [00:17<00:00, 39.17it/s]\n"
     ]
    },
    {
     "name": "stdout",
     "output_type": "stream",
     "text": [
      "Best val loss found:  0.009899140099795268\n"
     ]
    },
    {
     "name": "stderr",
     "output_type": "stream",
     "text": [
      "100%|██████████| 2800/2800 [01:25<00:00, 32.57it/s]\n",
      "100%|██████████| 700/700 [00:18<00:00, 38.80it/s]\n"
     ]
    },
    {
     "name": "stdout",
     "output_type": "stream",
     "text": [
      "Best val loss found:  0.009864652467159821\n",
      "| >>>>>>>>>>>>>>>                 |\n"
     ]
    },
    {
     "name": "stderr",
     "output_type": "stream",
     "text": [
      "100%|██████████| 2800/2800 [01:26<00:00, 32.39it/s]\n",
      "100%|██████████| 700/700 [00:18<00:00, 38.21it/s]\n",
      "100%|██████████| 2800/2800 [01:26<00:00, 32.26it/s]\n",
      "100%|██████████| 700/700 [00:18<00:00, 38.57it/s]\n",
      "100%|██████████| 2800/2800 [01:26<00:00, 32.36it/s]\n",
      "100%|██████████| 700/700 [00:18<00:00, 37.97it/s]\n"
     ]
    },
    {
     "name": "stdout",
     "output_type": "stream",
     "text": [
      "Best val loss found:  0.009814881753908204\n"
     ]
    },
    {
     "name": "stderr",
     "output_type": "stream",
     "text": [
      "100%|██████████| 2800/2800 [01:26<00:00, 32.33it/s]\n",
      "100%|██████████| 700/700 [00:17<00:00, 38.95it/s]\n",
      "100%|██████████| 2800/2800 [01:26<00:00, 32.24it/s]\n",
      "100%|██████████| 700/700 [00:18<00:00, 38.54it/s]\n"
     ]
    },
    {
     "name": "stdout",
     "output_type": "stream",
     "text": [
      "| >>>>>>>>>>>>>>>>>>>>            |\n"
     ]
    },
    {
     "name": "stderr",
     "output_type": "stream",
     "text": [
      "100%|██████████| 2800/2800 [01:24<00:00, 33.03it/s]\n",
      "100%|██████████| 700/700 [00:18<00:00, 37.57it/s]\n"
     ]
    },
    {
     "name": "stdout",
     "output_type": "stream",
     "text": [
      "Epoch 20, val_loss 0.0098\n",
      "Best val loss found:  0.009804661112804232\n"
     ]
    },
    {
     "name": "stderr",
     "output_type": "stream",
     "text": [
      "100%|██████████| 2800/2800 [01:26<00:00, 32.41it/s]\n",
      "100%|██████████| 700/700 [00:18<00:00, 38.38it/s]\n",
      "100%|██████████| 2800/2800 [01:27<00:00, 32.14it/s]\n",
      "100%|██████████| 700/700 [00:18<00:00, 38.11it/s]\n"
     ]
    },
    {
     "name": "stdout",
     "output_type": "stream",
     "text": [
      "Best val loss found:  0.009768222381660183\n"
     ]
    },
    {
     "name": "stderr",
     "output_type": "stream",
     "text": [
      "100%|██████████| 2800/2800 [01:26<00:00, 32.24it/s]\n",
      "100%|██████████| 700/700 [00:18<00:00, 38.54it/s]\n",
      "100%|██████████| 2800/2800 [01:26<00:00, 32.39it/s]\n",
      "100%|██████████| 700/700 [00:18<00:00, 38.18it/s]\n"
     ]
    },
    {
     "name": "stdout",
     "output_type": "stream",
     "text": [
      "| >>>>>>>>>>>>>>>>>>>>>>>>>       |\n"
     ]
    },
    {
     "name": "stderr",
     "output_type": "stream",
     "text": [
      "100%|██████████| 2800/2800 [01:27<00:00, 32.14it/s]\n",
      "100%|██████████| 700/700 [00:18<00:00, 38.33it/s]\n",
      "100%|██████████| 2800/2800 [01:26<00:00, 32.50it/s]\n",
      "100%|██████████| 700/700 [00:18<00:00, 38.78it/s]\n"
     ]
    },
    {
     "name": "stdout",
     "output_type": "stream",
     "text": [
      "Best val loss found:  0.00975188038012545\n"
     ]
    },
    {
     "name": "stderr",
     "output_type": "stream",
     "text": [
      "100%|██████████| 2800/2800 [01:23<00:00, 33.40it/s]\n",
      "100%|██████████| 700/700 [00:18<00:00, 38.46it/s]\n",
      "100%|██████████| 2800/2800 [01:23<00:00, 33.37it/s]\n",
      "100%|██████████| 700/700 [00:18<00:00, 38.39it/s]\n"
     ]
    },
    {
     "name": "stdout",
     "output_type": "stream",
     "text": [
      "Best val loss found:  0.009682408830849453\n"
     ]
    },
    {
     "name": "stderr",
     "output_type": "stream",
     "text": [
      "100%|██████████| 2800/2800 [01:27<00:00, 32.14it/s]\n",
      "100%|██████████| 700/700 [00:18<00:00, 37.96it/s]\n"
     ]
    },
    {
     "name": "stdout",
     "output_type": "stream",
     "text": [
      "This fold, the best val loss is:  0.009682408830849453\n"
     ]
    },
    {
     "name": "stderr",
     "output_type": "stream",
     "text": [
      "100%|██████████| 1000/1000 [00:26<00:00, 37.39it/s]\n"
     ]
    },
    {
     "name": "stdout",
     "output_type": "stream",
     "text": [
      "This fold, the test loss is:  0.010882767678354867\n",
      "********************\n",
      "Fold5\n",
      "********************\n",
      "Dataloader Success---------------------\n",
      "|                                 |\n"
     ]
    },
    {
     "name": "stderr",
     "output_type": "stream",
     "text": [
      "100%|██████████| 2800/2800 [01:25<00:00, 32.86it/s]\n",
      "100%|██████████| 700/700 [00:18<00:00, 37.61it/s]\n"
     ]
    },
    {
     "name": "stdout",
     "output_type": "stream",
     "text": [
      "Epoch 0, val_loss 0.0150\n",
      "Best val loss found:  0.01502072431047314\n"
     ]
    },
    {
     "name": "stderr",
     "output_type": "stream",
     "text": [
      "100%|██████████| 2800/2800 [01:25<00:00, 32.81it/s]\n",
      "100%|██████████| 700/700 [00:18<00:00, 37.53it/s]\n"
     ]
    },
    {
     "name": "stdout",
     "output_type": "stream",
     "text": [
      "Best val loss found:  0.012074494334602994\n"
     ]
    },
    {
     "name": "stderr",
     "output_type": "stream",
     "text": [
      "100%|██████████| 2800/2800 [01:26<00:00, 32.44it/s]\n",
      "100%|██████████| 700/700 [00:18<00:00, 37.47it/s]\n"
     ]
    },
    {
     "name": "stdout",
     "output_type": "stream",
     "text": [
      "Best val loss found:  0.011248403774308307\n"
     ]
    },
    {
     "name": "stderr",
     "output_type": "stream",
     "text": [
      "100%|██████████| 2800/2800 [01:27<00:00, 32.08it/s]\n",
      "100%|██████████| 700/700 [00:19<00:00, 36.34it/s]\n"
     ]
    },
    {
     "name": "stdout",
     "output_type": "stream",
     "text": [
      "Best val loss found:  0.010842517623511542\n"
     ]
    },
    {
     "name": "stderr",
     "output_type": "stream",
     "text": [
      "100%|██████████| 2800/2800 [01:24<00:00, 33.00it/s]\n",
      "100%|██████████| 700/700 [00:18<00:00, 36.85it/s]\n"
     ]
    },
    {
     "name": "stdout",
     "output_type": "stream",
     "text": [
      "Best val loss found:  0.010535323692518951\n",
      "| >>>>>                           |\n"
     ]
    },
    {
     "name": "stderr",
     "output_type": "stream",
     "text": [
      "100%|██████████| 2800/2800 [01:24<00:00, 33.03it/s]\n",
      "100%|██████████| 700/700 [00:18<00:00, 37.18it/s]\n"
     ]
    },
    {
     "name": "stdout",
     "output_type": "stream",
     "text": [
      "Best val loss found:  0.010388164558847036\n"
     ]
    },
    {
     "name": "stderr",
     "output_type": "stream",
     "text": [
      "100%|██████████| 2800/2800 [01:25<00:00, 32.89it/s]\n",
      "100%|██████████| 700/700 [00:18<00:00, 37.82it/s]\n"
     ]
    },
    {
     "name": "stdout",
     "output_type": "stream",
     "text": [
      "Best val loss found:  0.010282035267945112\n"
     ]
    },
    {
     "name": "stderr",
     "output_type": "stream",
     "text": [
      "100%|██████████| 2800/2800 [01:25<00:00, 32.90it/s]\n",
      "100%|██████████| 700/700 [00:18<00:00, 37.82it/s]\n"
     ]
    },
    {
     "name": "stdout",
     "output_type": "stream",
     "text": [
      "Best val loss found:  0.010103190551744775\n"
     ]
    },
    {
     "name": "stderr",
     "output_type": "stream",
     "text": [
      "100%|██████████| 2800/2800 [01:24<00:00, 33.03it/s]\n",
      "100%|██████████| 700/700 [00:18<00:00, 38.13it/s]\n"
     ]
    },
    {
     "name": "stdout",
     "output_type": "stream",
     "text": [
      "Best val loss found:  0.010036145005308623\n"
     ]
    },
    {
     "name": "stderr",
     "output_type": "stream",
     "text": [
      "100%|██████████| 2800/2800 [01:25<00:00, 32.94it/s]\n",
      "100%|██████████| 700/700 [00:18<00:00, 38.55it/s]\n"
     ]
    },
    {
     "name": "stdout",
     "output_type": "stream",
     "text": [
      "Best val loss found:  0.010033971430135093\n",
      "| >>>>>>>>>>                      |\n"
     ]
    },
    {
     "name": "stderr",
     "output_type": "stream",
     "text": [
      "100%|██████████| 2800/2800 [01:25<00:00, 32.82it/s]\n",
      "100%|██████████| 700/700 [00:18<00:00, 38.01it/s]\n"
     ]
    },
    {
     "name": "stdout",
     "output_type": "stream",
     "text": [
      "Epoch 10, val_loss 0.0099\n",
      "Best val loss found:  0.00992588200656298\n"
     ]
    },
    {
     "name": "stderr",
     "output_type": "stream",
     "text": [
      "100%|██████████| 2800/2800 [01:25<00:00, 32.67it/s]\n",
      "100%|██████████| 700/700 [00:18<00:00, 38.32it/s]\n",
      "100%|██████████| 2800/2800 [01:25<00:00, 32.79it/s]\n",
      "100%|██████████| 700/700 [00:18<00:00, 38.13it/s]\n"
     ]
    },
    {
     "name": "stdout",
     "output_type": "stream",
     "text": [
      "Best val loss found:  0.009822360854928516\n"
     ]
    },
    {
     "name": "stderr",
     "output_type": "stream",
     "text": [
      "100%|██████████| 2800/2800 [01:25<00:00, 32.69it/s]\n",
      "100%|██████████| 700/700 [00:18<00:00, 37.85it/s]\n"
     ]
    },
    {
     "name": "stdout",
     "output_type": "stream",
     "text": [
      "Best val loss found:  0.009805205006019346\n"
     ]
    },
    {
     "name": "stderr",
     "output_type": "stream",
     "text": [
      "100%|██████████| 2800/2800 [01:25<00:00, 32.87it/s]\n",
      "100%|██████████| 700/700 [00:18<00:00, 38.02it/s]\n"
     ]
    },
    {
     "name": "stdout",
     "output_type": "stream",
     "text": [
      "Best val loss found:  0.009760077295192916\n",
      "| >>>>>>>>>>>>>>>                 |\n"
     ]
    },
    {
     "name": "stderr",
     "output_type": "stream",
     "text": [
      "100%|██████████| 2800/2800 [01:25<00:00, 32.84it/s]\n",
      "100%|██████████| 700/700 [00:18<00:00, 38.28it/s]\n",
      "100%|██████████| 2800/2800 [01:25<00:00, 32.76it/s]\n",
      "100%|██████████| 700/700 [00:18<00:00, 38.24it/s]\n",
      "100%|██████████| 2800/2800 [01:25<00:00, 32.87it/s]\n",
      "100%|██████████| 700/700 [00:18<00:00, 38.10it/s]\n"
     ]
    },
    {
     "name": "stdout",
     "output_type": "stream",
     "text": [
      "Best val loss found:  0.009708451793828447\n"
     ]
    },
    {
     "name": "stderr",
     "output_type": "stream",
     "text": [
      "100%|██████████| 2800/2800 [01:24<00:00, 33.05it/s]\n",
      "100%|██████████| 700/700 [00:18<00:00, 38.42it/s]\n"
     ]
    },
    {
     "name": "stdout",
     "output_type": "stream",
     "text": [
      "Best val loss found:  0.009635176060588233\n"
     ]
    },
    {
     "name": "stderr",
     "output_type": "stream",
     "text": [
      "100%|██████████| 2800/2800 [01:25<00:00, 32.72it/s]\n",
      "100%|██████████| 700/700 [00:18<00:00, 38.10it/s]\n"
     ]
    },
    {
     "name": "stdout",
     "output_type": "stream",
     "text": [
      "| >>>>>>>>>>>>>>>>>>>>            |\n"
     ]
    },
    {
     "name": "stderr",
     "output_type": "stream",
     "text": [
      "100%|██████████| 2800/2800 [01:25<00:00, 32.92it/s]\n",
      "100%|██████████| 700/700 [00:18<00:00, 38.45it/s]\n"
     ]
    },
    {
     "name": "stdout",
     "output_type": "stream",
     "text": [
      "Epoch 20, val_loss 0.0096\n",
      "Best val loss found:  0.009601968374003523\n"
     ]
    },
    {
     "name": "stderr",
     "output_type": "stream",
     "text": [
      "100%|██████████| 2800/2800 [01:25<00:00, 32.81it/s]\n",
      "100%|██████████| 700/700 [00:18<00:00, 38.06it/s]\n",
      "100%|██████████| 2800/2800 [01:25<00:00, 32.90it/s]\n",
      "100%|██████████| 700/700 [00:18<00:00, 38.60it/s]\n",
      "100%|██████████| 2800/2800 [01:25<00:00, 32.88it/s]\n",
      "100%|██████████| 700/700 [00:18<00:00, 38.36it/s]\n",
      "100%|██████████| 2800/2800 [01:25<00:00, 32.70it/s]\n",
      "100%|██████████| 700/700 [00:18<00:00, 37.84it/s]\n"
     ]
    },
    {
     "name": "stdout",
     "output_type": "stream",
     "text": [
      "Best val loss found:  0.009503677094554795\n",
      "| >>>>>>>>>>>>>>>>>>>>>>>>>       |\n"
     ]
    },
    {
     "name": "stderr",
     "output_type": "stream",
     "text": [
      "100%|██████████| 2800/2800 [01:25<00:00, 32.94it/s]\n",
      "100%|██████████| 700/700 [00:18<00:00, 37.82it/s]\n",
      "100%|██████████| 2800/2800 [01:25<00:00, 32.79it/s]\n",
      "100%|██████████| 700/700 [00:18<00:00, 37.17it/s]\n",
      "100%|██████████| 2800/2800 [01:24<00:00, 33.17it/s]\n",
      "100%|██████████| 700/700 [00:18<00:00, 37.22it/s]\n",
      "100%|██████████| 2800/2800 [01:23<00:00, 33.34it/s]\n",
      "100%|██████████| 700/700 [00:19<00:00, 36.22it/s]\n",
      "100%|██████████| 2800/2800 [01:23<00:00, 33.45it/s]\n",
      "100%|██████████| 700/700 [00:19<00:00, 35.65it/s]\n"
     ]
    },
    {
     "name": "stdout",
     "output_type": "stream",
     "text": [
      "Best val loss found:  0.009502152015588114\n",
      "This fold, the best val loss is:  0.009502152015588114\n"
     ]
    },
    {
     "name": "stderr",
     "output_type": "stream",
     "text": [
      "100%|██████████| 1000/1000 [00:26<00:00, 38.01it/s]"
     ]
    },
    {
     "name": "stdout",
     "output_type": "stream",
     "text": [
      "This fold, the test loss is:  0.010810896016540937\n"
     ]
    },
    {
     "name": "stderr",
     "output_type": "stream",
     "text": [
      "\n"
     ]
    }
   ],
   "source": [
    "from tqdm import tqdm\n",
    "for train_index, valid_index in kfold.split(train_data,train_data['cpc_ids']):\n",
    "    \n",
    "    print('*'*20)\n",
    "    print(f'Fold{len(test_predict_lst)+1}')\n",
    "    print('*'*20)\n",
    "    train_dataset = PatentDataset(train_data.iloc[train_index])\n",
    "    val_dataset = PatentDataset(train_data.iloc[valid_index])\n",
    "\n",
    "    train_dataloader = DataLoader(train_dataset,\n",
    "                                 collate_fn = collate_fn,\n",
    "                                 batch_size = 4,\n",
    "                                 shuffle = True,\n",
    "                                 drop_last = True)\n",
    "    val_dataloader = DataLoader(val_dataset,\n",
    "                               collate_fn = collate_fn,\n",
    "                               batch_size = 4,\n",
    "                               shuffle = True,\n",
    "                               drop_last = True)\n",
    "\n",
    "    patentModel = PatentClsModel(model,backbone_fixed = True).cuda()\n",
    "    loss_func = nn.BCELoss()\n",
    "    optimizer = AdamW(patentModel.parameters(), lr=5e-4)\n",
    "    # reg_lambda = 0.035\n",
    "\n",
    "    print('Dataloader Success---------------------')\n",
    "\n",
    "    best_val_loss = 100\n",
    "    for epoch in range(total_epochs):\n",
    "        if epoch%5==0:\n",
    "            print('|',\">\" * epoch,\" \"*(total_epochs-epoch),'|')\n",
    "\n",
    "        patentModel.train()\n",
    "        for iter,(input_ids, attention_mask, token_type_ids, batch_label) in enumerate(tqdm(train_dataloader)):\n",
    "            input_ids = input_ids.cuda()\n",
    "            attention_mask = attention_mask.cuda()\n",
    "            token_type_ids = token_type_ids.cuda()\n",
    "            batch_label = batch_label.cuda()\n",
    "\n",
    "            prediction = patentModel(input_ids, attention_mask, token_type_ids)\n",
    "            \n",
    "            # l2_reg = None\n",
    "            # for w in patentModel.fc.parameters():\n",
    "            #     if not l2_reg:\n",
    "            #         l2_reg = w.norm(2)\n",
    "            #     else:\n",
    "            #         l2_reg = l2_reg + w.norm(2)\n",
    "\n",
    "            loss = loss_func(prediction,batch_label)\n",
    "            \n",
    "            optimizer.zero_grad()\n",
    "            loss.backward()\n",
    "            optimizer.step()\n",
    "\n",
    "        val_loss = 0\n",
    "        patentModel.eval()\n",
    "        with torch.no_grad():\n",
    "            for iter,(input_ids, attention_mask, token_type_ids, batch_label) in enumerate(tqdm(val_dataloader)):\n",
    "                input_ids = input_ids.cuda()\n",
    "                attention_mask = attention_mask.cuda()\n",
    "                token_type_ids = token_type_ids.cuda()\n",
    "                batch_label = batch_label.cuda()\n",
    "                prediction = patentModel(input_ids, attention_mask, token_type_ids)\n",
    "                loss = loss_func(prediction,batch_label)\n",
    "                val_loss += loss.detach().item()\n",
    "            val_loss = val_loss/(iter+1)\n",
    "\n",
    "        if epoch%10 == 0:\n",
    "            print('Epoch {}, val_loss {:.4f}'.format(epoch, val_loss))\n",
    "\n",
    "        if val_loss < best_val_loss:\n",
    "            best_val_loss = val_loss\n",
    "            torch.save(patentModel.state_dict(), 'ckpt/001/best_model_mini_{}.pth'.format(len(test_predict_lst)+1))\n",
    "            print('Best val loss found: ', best_val_loss)\n",
    "\n",
    "    print('This fold, the best val loss is: ', best_val_loss)\n",
    "\n",
    "    test_loss = 0\n",
    "    test_predict = None\n",
    "    patentModel = PatentClsModel(model,backbone_fixed = True).cuda()\n",
    "    patentModel.load_state_dict(torch.load('ckpt/001/best_model_mini_{}.pth'.format(len(test_predict_lst)+1)))\n",
    "\n",
    "    patentModel.eval()\n",
    "    with torch.no_grad():\n",
    "        for iter,(input_ids, attention_mask, token_type_ids, batch_label) in enumerate(tqdm(test_dataloader)):\n",
    "            input_ids = input_ids.cuda()\n",
    "            attention_mask = attention_mask.cuda()\n",
    "            token_type_ids = token_type_ids.cuda()\n",
    "            batch_label = batch_label.cuda()\n",
    "            prediction = patentModel(input_ids, attention_mask, token_type_ids)\n",
    "\n",
    "            if test_predict is None:\n",
    "                test_predict = prediction\n",
    "            else:\n",
    "                test_predict = torch.cat((test_predict,prediction),axis = 0)\n",
    "\n",
    "            loss = loss_func(prediction,batch_label)\n",
    "            test_loss += loss.detach().item()\n",
    "\n",
    "    test_loss /= (iter+1)\n",
    "    print('This fold, the test loss is: ', test_loss)\n",
    "\n",
    "    test_predict_lst.append(test_predict)"
   ]
  },
  {
   "cell_type": "code",
   "execution_count": 20,
   "id": "dcfa33e6-a7b8-49fd-ad32-1302e442a3b2",
   "metadata": {},
   "outputs": [],
   "source": [
    "torch.save(test_predict_lst,'test_predict/mini_30e_001.pt')"
   ]
  },
  {
   "cell_type": "code",
   "execution_count": null,
   "id": "caf8e4fd-0d6d-403c-aebc-6ef551b61ef4",
   "metadata": {},
   "outputs": [],
   "source": []
  },
  {
   "cell_type": "markdown",
   "id": "be91e949-84bc-456f-95c5-30d964f6b919",
   "metadata": {},
   "source": [
    "# Last All Last"
   ]
  },
  {
   "cell_type": "code",
   "execution_count": null,
   "id": "18244b80-d3cb-4dc2-8385-cd8ea83b12ac",
   "metadata": {},
   "outputs": [],
   "source": []
  },
  {
   "cell_type": "code",
   "execution_count": null,
   "id": "f0a93185-099c-4a55-b05a-67747d9e4d9e",
   "metadata": {},
   "outputs": [],
   "source": []
  },
  {
   "cell_type": "code",
   "execution_count": null,
   "id": "97278a8e-fec0-4f28-9627-bde4f1ad4773",
   "metadata": {},
   "outputs": [],
   "source": []
  },
  {
   "cell_type": "code",
   "execution_count": null,
   "id": "6307bdde-aad0-48c2-a0ba-8cce6b3d2438",
   "metadata": {},
   "outputs": [],
   "source": []
  },
  {
   "cell_type": "code",
   "execution_count": null,
   "id": "b378dfde-3d67-4c93-945f-9de363e5bb3c",
   "metadata": {},
   "outputs": [],
   "source": []
  },
  {
   "cell_type": "code",
   "execution_count": null,
   "id": "244e30dc-ae38-4428-bac1-3cddfc402687",
   "metadata": {},
   "outputs": [],
   "source": []
  },
  {
   "cell_type": "code",
   "execution_count": 16,
   "id": "eb0b0f62-d2b7-4309-a547-fbb347521816",
   "metadata": {},
   "outputs": [
    {
     "data": {
      "text/plain": [
       "<All keys matched successfully>"
      ]
     },
     "execution_count": 16,
     "metadata": {},
     "output_type": "execute_result"
    }
   ],
   "source": [
    "# patentModel.load_state_dict(torch.load('ckpt/001/best_model.pth'))"
   ]
  },
  {
   "cell_type": "code",
   "execution_count": 15,
   "id": "afcf1ae0-6214-487f-aed1-cfdb63b2e6de",
   "metadata": {},
   "outputs": [],
   "source": [
    "# torch.save(patentModel.state_dict(), 'ckpt/001/best_model.pth')"
   ]
  }
 ],
 "metadata": {
  "kernelspec": {
   "display_name": "Python 3 (ipykernel)",
   "language": "python",
   "name": "python3"
  },
  "language_info": {
   "codemirror_mode": {
    "name": "ipython",
    "version": 3
   },
   "file_extension": ".py",
   "mimetype": "text/x-python",
   "name": "python",
   "nbconvert_exporter": "python",
   "pygments_lexer": "ipython3",
   "version": "3.8.10"
  }
 },
 "nbformat": 4,
 "nbformat_minor": 5
}