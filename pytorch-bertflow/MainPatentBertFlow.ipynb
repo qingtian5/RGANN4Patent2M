{
 "cells": [
  {
   "cell_type": "code",
   "execution_count": 1,
   "id": "2a1e5ae3-ef56-4fc9-b8ac-3dc732798b0a",
   "metadata": {},
   "outputs": [],
   "source": [
    "import pandas as pd\n",
    "import pickle\n",
    "import numpy as np\n",
    "from torch.utils.data import Dataset,DataLoader\n",
    "import torch\n",
    "import torch.nn as nn\n",
    "import torch.nn.functional as F\n",
    "\n",
    "from transformers import AdamW\n",
    "from operator import itemgetter\n",
    "from sklearn.model_selection import StratifiedKFold\n",
    "\n",
    "import os\n",
    "os.environ['CUDA_VISIBLE_DEVICES'] = '0'\n",
    "torch.cuda.set_device(0)"
   ]
  },
  {
   "cell_type": "code",
   "execution_count": 2,
   "id": "5e2b69c8-a177-4ae6-8476-898a57052b71",
   "metadata": {},
   "outputs": [],
   "source": [
    "label2id = pickle.load(open('../temp_results/mini_label2id_dict.pkl','rb'))\n",
    "id2label = pickle.load(open('../temp_results/mini_id2label_lst.pkl','rb'))"
   ]
  },
  {
   "cell_type": "code",
   "execution_count": 3,
   "id": "aee0f61b-0d73-4980-9dc1-02cafb9afe32",
   "metadata": {},
   "outputs": [],
   "source": [
    "train_data = pd.read_csv('../data/mini_train_data.csv')\n",
    "test_data = pd.read_csv('../data/mini_test_data.csv')"
   ]
  },
  {
   "cell_type": "code",
   "execution_count": 4,
   "id": "9fd782f6-d787-4088-bd8c-a7f0dc445124",
   "metadata": {},
   "outputs": [],
   "source": [
    "from tflow_utils import TransformerGlow, AdamWeightDecayOptimizer\n",
    "from transformers import AutoTokenizer\n",
    "\n",
    "model_name_or_path = 'anferico/bert-for-patents'\n",
    "tokenizer = AutoTokenizer.from_pretrained(model_name_or_path)\n",
    "model = TransformerGlow.from_pretrained('output')  # Load model"
   ]
  },
  {
   "cell_type": "markdown",
   "id": "cc731314-943f-4ee3-889c-1bd37ceea58d",
   "metadata": {},
   "source": [
    "# Data Loader"
   ]
  },
  {
   "cell_type": "code",
   "execution_count": 5,
   "id": "34139872-f8d7-4ccf-816b-2656e7bc838c",
   "metadata": {},
   "outputs": [],
   "source": [
    "def str2id_lst(str_label):\n",
    "    id_lst = []\n",
    "    for l in str_label.split(','):\n",
    "        id_lst.append(label2id[l])\n",
    "    return id_lst\n",
    "\n",
    "class PatentDataset(Dataset):\n",
    "    def __init__(self,df,labeled = True):\n",
    "        self.df = df\n",
    "        self.labeled = labeled\n",
    "        \n",
    "    def __len__(self):\n",
    "        return self.df.shape[0]\n",
    "    \n",
    "    def __getitem__(self,idx):\n",
    "        text = self.df.iloc[idx]['text'][3:]\n",
    "        label = str2id_lst(self.df.iloc[idx]['cpc_ids'])\n",
    "        \n",
    "        if self.labeled:\n",
    "            return text,label\n",
    "        else:\n",
    "            return text,None\n",
    "        "
   ]
  },
  {
   "cell_type": "code",
   "execution_count": 6,
   "id": "fd54a648-3731-4a71-94df-e405b05d1576",
   "metadata": {},
   "outputs": [],
   "source": [
    "test_dataset = PatentDataset(test_data)"
   ]
  },
  {
   "cell_type": "code",
   "execution_count": 7,
   "id": "4d5037c0-9b01-4c1d-b26b-e4a3078f60b5",
   "metadata": {},
   "outputs": [],
   "source": [
    "def collate_fn(data):\n",
    "    sents = [i[0] for i in data]\n",
    "    labels = [i[1] for i in data]\n",
    "    \n",
    "    data = tokenizer.batch_encode_plus(batch_text_or_text_pairs=sents,\n",
    "                                      truncation=True,\n",
    "                                      padding='longest',\n",
    "                                      max_length=512,\n",
    "                                      return_tensors='pt',\n",
    "                                      return_length=True)\n",
    "    input_ids = data['input_ids']\n",
    "    attention_mask = data['attention_mask']\n",
    "    token_type_ids = data['token_type_ids']\n",
    "    \n",
    "    batch_label = np.zeros((len(labels),len(id2label)))\n",
    "    for i,_label in enumerate(labels):\n",
    "        batch_label[i,_label]=1\n",
    "    \n",
    "    batch_label = torch.tensor(batch_label,dtype=torch.float32)\n",
    "    \n",
    "    return input_ids, attention_mask, token_type_ids, batch_label\n",
    "    "
   ]
  },
  {
   "cell_type": "code",
   "execution_count": 8,
   "id": "ebbf43df-16cc-46a3-b9da-fbf871e9afd3",
   "metadata": {},
   "outputs": [],
   "source": [
    "test_dataloader = DataLoader(dataset = test_dataset,\n",
    "                            batch_size = 4,\n",
    "                            collate_fn = collate_fn)"
   ]
  },
  {
   "cell_type": "markdown",
   "id": "7506f49c-923f-4b19-ab57-98cc5d67491c",
   "metadata": {
    "tags": []
   },
   "source": [
    "# Define Model"
   ]
  },
  {
   "cell_type": "code",
   "execution_count": 9,
   "id": "96bfda09-17fa-4194-90d1-73f332a5645f",
   "metadata": {
    "tags": []
   },
   "outputs": [],
   "source": [
    "class PatentClsModel(nn.Module):\n",
    "    def __init__(self,bert_model,backbone_fixed = True):\n",
    "        super().__init__()\n",
    "        self.fc = nn.Sequential(nn.BatchNorm1d(1024),\n",
    "                               nn.Dropout(0.5),\n",
    "                               nn.Linear(1024,768),\n",
    "                               nn.ReLU(),\n",
    "                               nn.BatchNorm1d(768),\n",
    "                               nn.Dropout(0.5),\n",
    "                               nn.Linear(768,len(id2label)))\n",
    "        \n",
    "        self.bert_model = bert_model\n",
    "        self.sig = nn.Sigmoid()\n",
    "        self.backbone_fixed = backbone_fixed\n",
    "        \n",
    "        for i, module in enumerate(self.fc):\n",
    "            if isinstance(module, (nn.BatchNorm1d, nn.BatchNorm2d)):\n",
    "                nn.init.constant_(module.weight, 1)\n",
    "                nn.init.constant_(module.bias, 0)\n",
    "            elif isinstance(module, nn.Linear):\n",
    "                if getattr(module, \"weight_v\", None) is not None:\n",
    "                    nn.init.uniform_(module.weight_g, 0, 1)\n",
    "                    nn.init.kaiming_normal_(module.weight_v)\n",
    "                    assert model[i].weight_g is not None\n",
    "                else:\n",
    "                    nn.init.kaiming_normal_(module.weight)\n",
    "                nn.init.constant_(module.bias, 0)\n",
    "\n",
    "    def forward(self, input_ids, attention_mask, token_type_ids):\n",
    "        if self.backbone_fixed:\n",
    "            with torch.no_grad():\n",
    "                x,loss = self.bert_model(input_ids = input_ids,\n",
    "                                         attention_mask = attention_mask,\n",
    "                                         return_loss=True)\n",
    "        else:\n",
    "            x,loss = self.bert_model(input_ids = input_ids,\n",
    "                                     attention_mask = attention_mask,\n",
    "                                     return_loss=True)\n",
    "            \n",
    "        x = self.fc(x)\n",
    "        x = self.sig(x)\n",
    "        \n",
    "        return x\n",
    "        "
   ]
  },
  {
   "cell_type": "markdown",
   "id": "3fcd4121-e2e7-4cc7-b606-b62c68b892ba",
   "metadata": {
    "tags": []
   },
   "source": [
    "# Training"
   ]
  },
  {
   "cell_type": "code",
   "execution_count": 10,
   "id": "b0e619ce-202e-49b0-aa1f-5033c8407dcb",
   "metadata": {},
   "outputs": [],
   "source": [
    "kfold = StratifiedKFold(n_splits=5)\n",
    "total_epochs = 30\n",
    "test_predict_lst = []"
   ]
  },
  {
   "cell_type": "code",
   "execution_count": 11,
   "id": "7c631b42-e179-4506-aaf3-55362e0159d4",
   "metadata": {
    "tags": []
   },
   "outputs": [
    {
     "name": "stderr",
     "output_type": "stream",
     "text": [
      "/root/miniconda3/lib/python3.8/site-packages/sklearn/model_selection/_split.py:684: UserWarning: The least populated class in y has only 1 members, which is less than n_splits=5.\n",
      "  warnings.warn(\n"
     ]
    },
    {
     "name": "stdout",
     "output_type": "stream",
     "text": [
      "********************\n",
      "Fold1\n",
      "********************\n"
     ]
    },
    {
     "name": "stderr",
     "output_type": "stream",
     "text": [
      "/root/miniconda3/lib/python3.8/site-packages/transformers/optimization.py:306: FutureWarning: This implementation of AdamW is deprecated and will be removed in a future version. Use the PyTorch implementation torch.optim.AdamW instead, or set `no_deprecation_warning=True` to disable this warning\n",
      "  warnings.warn(\n"
     ]
    },
    {
     "name": "stdout",
     "output_type": "stream",
     "text": [
      "Dataloader Success---------------------\n",
      "|                                 |\n"
     ]
    },
    {
     "name": "stderr",
     "output_type": "stream",
     "text": [
      "100%|██████████| 2800/2800 [02:47<00:00, 16.72it/s]\n",
      "100%|██████████| 700/700 [00:37<00:00, 18.58it/s]\n"
     ]
    },
    {
     "name": "stdout",
     "output_type": "stream",
     "text": [
      "Epoch 0, val_loss 0.0176\n",
      "Best val loss found:  0.017647038169338235\n"
     ]
    },
    {
     "name": "stderr",
     "output_type": "stream",
     "text": [
      "100%|██████████| 2800/2800 [02:45<00:00, 16.89it/s]\n",
      "100%|██████████| 700/700 [00:38<00:00, 18.13it/s]\n"
     ]
    },
    {
     "name": "stdout",
     "output_type": "stream",
     "text": [
      "Best val loss found:  0.014719449019591723\n"
     ]
    },
    {
     "name": "stderr",
     "output_type": "stream",
     "text": [
      "100%|██████████| 2800/2800 [02:52<00:00, 16.25it/s]\n",
      "100%|██████████| 700/700 [00:38<00:00, 18.33it/s]\n"
     ]
    },
    {
     "name": "stdout",
     "output_type": "stream",
     "text": [
      "Best val loss found:  0.012807031681295484\n"
     ]
    },
    {
     "name": "stderr",
     "output_type": "stream",
     "text": [
      "100%|██████████| 2800/2800 [02:44<00:00, 17.00it/s]\n",
      "100%|██████████| 700/700 [00:36<00:00, 18.93it/s]\n"
     ]
    },
    {
     "name": "stdout",
     "output_type": "stream",
     "text": [
      "Best val loss found:  0.012032744581478514\n"
     ]
    },
    {
     "name": "stderr",
     "output_type": "stream",
     "text": [
      "100%|██████████| 2800/2800 [02:44<00:00, 17.06it/s]\n",
      "100%|██████████| 700/700 [00:37<00:00, 18.70it/s]\n"
     ]
    },
    {
     "name": "stdout",
     "output_type": "stream",
     "text": [
      "Best val loss found:  0.011607506808359177\n",
      "| >>>>>                           |\n"
     ]
    },
    {
     "name": "stderr",
     "output_type": "stream",
     "text": [
      "100%|██████████| 2800/2800 [02:52<00:00, 16.23it/s]\n",
      "100%|██████████| 700/700 [00:38<00:00, 18.25it/s]\n"
     ]
    },
    {
     "name": "stdout",
     "output_type": "stream",
     "text": [
      "Best val loss found:  0.011206917427979144\n"
     ]
    },
    {
     "name": "stderr",
     "output_type": "stream",
     "text": [
      "100%|██████████| 2800/2800 [02:46<00:00, 16.81it/s]\n",
      "100%|██████████| 700/700 [00:37<00:00, 18.75it/s]\n"
     ]
    },
    {
     "name": "stdout",
     "output_type": "stream",
     "text": [
      "Best val loss found:  0.011053023947668926\n"
     ]
    },
    {
     "name": "stderr",
     "output_type": "stream",
     "text": [
      "100%|██████████| 2800/2800 [02:44<00:00, 16.98it/s]\n",
      "100%|██████████| 700/700 [00:38<00:00, 18.40it/s]\n"
     ]
    },
    {
     "name": "stdout",
     "output_type": "stream",
     "text": [
      "Best val loss found:  0.010807990934367158\n"
     ]
    },
    {
     "name": "stderr",
     "output_type": "stream",
     "text": [
      "100%|██████████| 2800/2800 [02:51<00:00, 16.36it/s]\n",
      "100%|██████████| 700/700 [00:38<00:00, 18.11it/s]\n"
     ]
    },
    {
     "name": "stdout",
     "output_type": "stream",
     "text": [
      "Best val loss found:  0.010724073451544558\n"
     ]
    },
    {
     "name": "stderr",
     "output_type": "stream",
     "text": [
      "100%|██████████| 2800/2800 [02:46<00:00, 16.86it/s]\n",
      "100%|██████████| 700/700 [00:36<00:00, 19.21it/s]\n"
     ]
    },
    {
     "name": "stdout",
     "output_type": "stream",
     "text": [
      "Best val loss found:  0.010694813486521265\n",
      "| >>>>>>>>>>                      |\n"
     ]
    },
    {
     "name": "stderr",
     "output_type": "stream",
     "text": [
      "100%|██████████| 2800/2800 [02:43<00:00, 17.11it/s]\n",
      "100%|██████████| 700/700 [00:37<00:00, 18.63it/s]\n"
     ]
    },
    {
     "name": "stdout",
     "output_type": "stream",
     "text": [
      "Epoch 10, val_loss 0.0106\n",
      "Best val loss found:  0.01058538760391197\n"
     ]
    },
    {
     "name": "stderr",
     "output_type": "stream",
     "text": [
      "100%|██████████| 2800/2800 [02:53<00:00, 16.16it/s]\n",
      "100%|██████████| 700/700 [00:39<00:00, 17.93it/s]\n"
     ]
    },
    {
     "name": "stdout",
     "output_type": "stream",
     "text": [
      "Best val loss found:  0.010503425475742135\n"
     ]
    },
    {
     "name": "stderr",
     "output_type": "stream",
     "text": [
      "100%|██████████| 2800/2800 [02:49<00:00, 16.53it/s]\n",
      "100%|██████████| 700/700 [00:37<00:00, 18.82it/s]\n"
     ]
    },
    {
     "name": "stdout",
     "output_type": "stream",
     "text": [
      "Best val loss found:  0.010412488061701879\n"
     ]
    },
    {
     "name": "stderr",
     "output_type": "stream",
     "text": [
      "100%|██████████| 2800/2800 [02:44<00:00, 16.98it/s]\n",
      "100%|██████████| 700/700 [00:37<00:00, 18.70it/s]\n",
      "100%|██████████| 2800/2800 [02:50<00:00, 16.40it/s]\n",
      "100%|██████████| 700/700 [00:38<00:00, 18.35it/s]\n"
     ]
    },
    {
     "name": "stdout",
     "output_type": "stream",
     "text": [
      "Best val loss found:  0.01033830400140557\n",
      "| >>>>>>>>>>>>>>>                 |\n"
     ]
    },
    {
     "name": "stderr",
     "output_type": "stream",
     "text": [
      "100%|██████████| 2800/2800 [02:47<00:00, 16.73it/s]\n",
      "100%|██████████| 700/700 [00:36<00:00, 18.97it/s]\n"
     ]
    },
    {
     "name": "stdout",
     "output_type": "stream",
     "text": [
      "Best val loss found:  0.010314330757994736\n"
     ]
    },
    {
     "name": "stderr",
     "output_type": "stream",
     "text": [
      "100%|██████████| 2800/2800 [02:44<00:00, 16.98it/s]\n",
      "100%|██████████| 700/700 [00:38<00:00, 18.37it/s]\n",
      "100%|██████████| 2800/2800 [02:53<00:00, 16.18it/s]\n",
      "100%|██████████| 700/700 [00:38<00:00, 17.96it/s]\n"
     ]
    },
    {
     "name": "stdout",
     "output_type": "stream",
     "text": [
      "Best val loss found:  0.010191976431358073\n"
     ]
    },
    {
     "name": "stderr",
     "output_type": "stream",
     "text": [
      "100%|██████████| 2800/2800 [02:49<00:00, 16.48it/s]\n",
      "100%|██████████| 700/700 [00:37<00:00, 18.82it/s]\n",
      "100%|██████████| 2800/2800 [02:47<00:00, 16.67it/s]\n",
      "100%|██████████| 700/700 [00:37<00:00, 18.70it/s]\n"
     ]
    },
    {
     "name": "stdout",
     "output_type": "stream",
     "text": [
      "| >>>>>>>>>>>>>>>>>>>>            |\n"
     ]
    },
    {
     "name": "stderr",
     "output_type": "stream",
     "text": [
      "100%|██████████| 2800/2800 [02:49<00:00, 16.47it/s]\n",
      "100%|██████████| 700/700 [00:38<00:00, 18.18it/s]\n"
     ]
    },
    {
     "name": "stdout",
     "output_type": "stream",
     "text": [
      "Epoch 20, val_loss 0.0103\n"
     ]
    },
    {
     "name": "stderr",
     "output_type": "stream",
     "text": [
      "100%|██████████| 2800/2800 [02:48<00:00, 16.58it/s]\n",
      "100%|██████████| 700/700 [00:38<00:00, 18.32it/s]\n"
     ]
    },
    {
     "name": "stdout",
     "output_type": "stream",
     "text": [
      "Best val loss found:  0.010155708078860438\n"
     ]
    },
    {
     "name": "stderr",
     "output_type": "stream",
     "text": [
      "100%|██████████| 2800/2800 [02:49<00:00, 16.52it/s]\n",
      "100%|██████████| 700/700 [00:38<00:00, 18.14it/s]\n",
      "100%|██████████| 2800/2800 [02:51<00:00, 16.33it/s]\n",
      "100%|██████████| 700/700 [00:38<00:00, 18.02it/s]\n"
     ]
    },
    {
     "name": "stdout",
     "output_type": "stream",
     "text": [
      "Best val loss found:  0.010142386014174137\n"
     ]
    },
    {
     "name": "stderr",
     "output_type": "stream",
     "text": [
      "100%|██████████| 2800/2800 [02:49<00:00, 16.51it/s]\n",
      "100%|██████████| 700/700 [00:38<00:00, 18.40it/s]\n"
     ]
    },
    {
     "name": "stdout",
     "output_type": "stream",
     "text": [
      "| >>>>>>>>>>>>>>>>>>>>>>>>>       |\n"
     ]
    },
    {
     "name": "stderr",
     "output_type": "stream",
     "text": [
      "100%|██████████| 2800/2800 [02:47<00:00, 16.74it/s]\n",
      "100%|██████████| 700/700 [00:37<00:00, 18.59it/s]\n"
     ]
    },
    {
     "name": "stdout",
     "output_type": "stream",
     "text": [
      "Best val loss found:  0.010099504185574395\n"
     ]
    },
    {
     "name": "stderr",
     "output_type": "stream",
     "text": [
      "100%|██████████| 2800/2800 [02:47<00:00, 16.76it/s]\n",
      "100%|██████████| 700/700 [00:37<00:00, 18.46it/s]\n",
      "100%|██████████| 2800/2800 [02:48<00:00, 16.61it/s]\n",
      "100%|██████████| 700/700 [00:37<00:00, 18.70it/s]\n",
      "100%|██████████| 2800/2800 [02:51<00:00, 16.33it/s]\n",
      "100%|██████████| 700/700 [00:38<00:00, 18.10it/s]\n",
      "100%|██████████| 2800/2800 [02:50<00:00, 16.39it/s]\n",
      "100%|██████████| 700/700 [00:37<00:00, 18.53it/s]\n"
     ]
    },
    {
     "name": "stdout",
     "output_type": "stream",
     "text": [
      "Best val loss found:  0.010089992808311113\n",
      "This fold, the best val loss is:  0.010089992808311113\n"
     ]
    },
    {
     "name": "stderr",
     "output_type": "stream",
     "text": [
      "100%|██████████| 1000/1000 [00:56<00:00, 17.60it/s]\n"
     ]
    },
    {
     "name": "stdout",
     "output_type": "stream",
     "text": [
      "This fold, the test loss is:  0.011429158280603587\n",
      "********************\n",
      "Fold2\n",
      "********************\n",
      "Dataloader Success---------------------\n",
      "|                                 |\n"
     ]
    },
    {
     "name": "stderr",
     "output_type": "stream",
     "text": [
      "100%|██████████| 2800/2800 [02:48<00:00, 16.66it/s]\n",
      "100%|██████████| 700/700 [00:37<00:00, 18.73it/s]\n"
     ]
    },
    {
     "name": "stdout",
     "output_type": "stream",
     "text": [
      "Epoch 0, val_loss 0.0173\n",
      "Best val loss found:  0.017251864092291465\n"
     ]
    },
    {
     "name": "stderr",
     "output_type": "stream",
     "text": [
      "100%|██████████| 2800/2800 [02:47<00:00, 16.69it/s]\n",
      "100%|██████████| 700/700 [00:37<00:00, 18.65it/s]\n"
     ]
    },
    {
     "name": "stdout",
     "output_type": "stream",
     "text": [
      "Best val loss found:  0.014255635997812663\n"
     ]
    },
    {
     "name": "stderr",
     "output_type": "stream",
     "text": [
      "100%|██████████| 2800/2800 [02:48<00:00, 16.66it/s]\n",
      "100%|██████████| 700/700 [00:36<00:00, 18.94it/s]\n"
     ]
    },
    {
     "name": "stdout",
     "output_type": "stream",
     "text": [
      "Best val loss found:  0.012648751370475761\n"
     ]
    },
    {
     "name": "stderr",
     "output_type": "stream",
     "text": [
      "100%|██████████| 2800/2800 [02:50<00:00, 16.42it/s]\n",
      "100%|██████████| 700/700 [00:38<00:00, 17.99it/s]\n"
     ]
    },
    {
     "name": "stdout",
     "output_type": "stream",
     "text": [
      "Best val loss found:  0.01172409265069291\n"
     ]
    },
    {
     "name": "stderr",
     "output_type": "stream",
     "text": [
      "100%|██████████| 2800/2800 [02:53<00:00, 16.15it/s]\n",
      "100%|██████████| 700/700 [00:37<00:00, 18.53it/s]\n"
     ]
    },
    {
     "name": "stdout",
     "output_type": "stream",
     "text": [
      "Best val loss found:  0.011382961505358773\n",
      "| >>>>>                           |\n"
     ]
    },
    {
     "name": "stderr",
     "output_type": "stream",
     "text": [
      "100%|██████████| 2800/2800 [02:46<00:00, 16.78it/s]\n",
      "100%|██████████| 700/700 [00:36<00:00, 19.08it/s]\n"
     ]
    },
    {
     "name": "stdout",
     "output_type": "stream",
     "text": [
      "Best val loss found:  0.011008452095390697\n"
     ]
    },
    {
     "name": "stderr",
     "output_type": "stream",
     "text": [
      "100%|██████████| 2800/2800 [02:46<00:00, 16.85it/s]\n",
      "100%|██████████| 700/700 [00:37<00:00, 18.62it/s]\n"
     ]
    },
    {
     "name": "stdout",
     "output_type": "stream",
     "text": [
      "Best val loss found:  0.010791532138495572\n"
     ]
    },
    {
     "name": "stderr",
     "output_type": "stream",
     "text": [
      "100%|██████████| 2800/2800 [02:49<00:00, 16.49it/s]\n",
      "100%|██████████| 700/700 [00:37<00:00, 18.78it/s]\n"
     ]
    },
    {
     "name": "stdout",
     "output_type": "stream",
     "text": [
      "Best val loss found:  0.010668517557870863\n"
     ]
    },
    {
     "name": "stderr",
     "output_type": "stream",
     "text": [
      "100%|██████████| 2800/2800 [02:46<00:00, 16.80it/s]\n",
      "100%|██████████| 700/700 [00:37<00:00, 18.88it/s]\n"
     ]
    },
    {
     "name": "stdout",
     "output_type": "stream",
     "text": [
      "Best val loss found:  0.010563836581672408\n"
     ]
    },
    {
     "name": "stderr",
     "output_type": "stream",
     "text": [
      "100%|██████████| 2800/2800 [02:48<00:00, 16.64it/s]\n",
      "100%|██████████| 700/700 [00:38<00:00, 18.12it/s]\n"
     ]
    },
    {
     "name": "stdout",
     "output_type": "stream",
     "text": [
      "Best val loss found:  0.010500704158164028\n",
      "| >>>>>>>>>>                      |\n"
     ]
    },
    {
     "name": "stderr",
     "output_type": "stream",
     "text": [
      "100%|██████████| 2800/2800 [02:53<00:00, 16.11it/s]\n",
      "100%|██████████| 700/700 [00:38<00:00, 18.36it/s]\n"
     ]
    },
    {
     "name": "stdout",
     "output_type": "stream",
     "text": [
      "Epoch 10, val_loss 0.0104\n",
      "Best val loss found:  0.010400096476078034\n"
     ]
    },
    {
     "name": "stderr",
     "output_type": "stream",
     "text": [
      "100%|██████████| 2800/2800 [02:45<00:00, 16.91it/s]\n",
      "100%|██████████| 700/700 [00:36<00:00, 19.09it/s]\n"
     ]
    },
    {
     "name": "stdout",
     "output_type": "stream",
     "text": [
      "Best val loss found:  0.010378824067302048\n"
     ]
    },
    {
     "name": "stderr",
     "output_type": "stream",
     "text": [
      "100%|██████████| 2800/2800 [02:44<00:00, 16.97it/s]\n",
      "100%|██████████| 700/700 [00:37<00:00, 18.47it/s]\n"
     ]
    },
    {
     "name": "stdout",
     "output_type": "stream",
     "text": [
      "Best val loss found:  0.01029523354722187\n"
     ]
    },
    {
     "name": "stderr",
     "output_type": "stream",
     "text": [
      "100%|██████████| 2800/2800 [02:51<00:00, 16.31it/s]\n",
      "100%|██████████| 700/700 [00:38<00:00, 18.15it/s]\n"
     ]
    },
    {
     "name": "stdout",
     "output_type": "stream",
     "text": [
      "Best val loss found:  0.010230975654974047\n"
     ]
    },
    {
     "name": "stderr",
     "output_type": "stream",
     "text": [
      "100%|██████████| 2800/2800 [02:48<00:00, 16.65it/s]\n",
      "100%|██████████| 700/700 [00:37<00:00, 18.60it/s]\n"
     ]
    },
    {
     "name": "stdout",
     "output_type": "stream",
     "text": [
      "| >>>>>>>>>>>>>>>                 |\n"
     ]
    },
    {
     "name": "stderr",
     "output_type": "stream",
     "text": [
      "100%|██████████| 2800/2800 [02:46<00:00, 16.87it/s]\n",
      "100%|██████████| 700/700 [00:37<00:00, 18.49it/s]\n"
     ]
    },
    {
     "name": "stdout",
     "output_type": "stream",
     "text": [
      "Best val loss found:  0.01013305697290759\n"
     ]
    },
    {
     "name": "stderr",
     "output_type": "stream",
     "text": [
      "100%|██████████| 2800/2800 [02:52<00:00, 16.22it/s]\n",
      "100%|██████████| 700/700 [00:38<00:00, 18.06it/s]\n",
      "100%|██████████| 2800/2800 [02:47<00:00, 16.75it/s]\n",
      "100%|██████████| 700/700 [00:36<00:00, 18.94it/s]\n"
     ]
    },
    {
     "name": "stdout",
     "output_type": "stream",
     "text": [
      "Best val loss found:  0.010114208569284529\n"
     ]
    },
    {
     "name": "stderr",
     "output_type": "stream",
     "text": [
      "100%|██████████| 2800/2800 [02:44<00:00, 17.06it/s]\n",
      "100%|██████████| 700/700 [00:36<00:00, 19.20it/s]\n",
      "100%|██████████| 2800/2800 [02:50<00:00, 16.45it/s]\n",
      "100%|██████████| 700/700 [00:38<00:00, 18.20it/s]\n"
     ]
    },
    {
     "name": "stdout",
     "output_type": "stream",
     "text": [
      "| >>>>>>>>>>>>>>>>>>>>            |\n"
     ]
    },
    {
     "name": "stderr",
     "output_type": "stream",
     "text": [
      "100%|██████████| 2800/2800 [02:49<00:00, 16.47it/s]\n",
      "100%|██████████| 700/700 [00:37<00:00, 18.58it/s]\n"
     ]
    },
    {
     "name": "stdout",
     "output_type": "stream",
     "text": [
      "Epoch 20, val_loss 0.0101\n",
      "Best val loss found:  0.010070010400377215\n"
     ]
    },
    {
     "name": "stderr",
     "output_type": "stream",
     "text": [
      "100%|██████████| 2800/2800 [02:45<00:00, 16.91it/s]\n",
      "100%|██████████| 700/700 [00:37<00:00, 18.63it/s]\n"
     ]
    },
    {
     "name": "stdout",
     "output_type": "stream",
     "text": [
      "Best val loss found:  0.009973921219352633\n"
     ]
    },
    {
     "name": "stderr",
     "output_type": "stream",
     "text": [
      "100%|██████████| 2800/2800 [02:48<00:00, 16.60it/s]\n",
      "100%|██████████| 700/700 [00:38<00:00, 18.06it/s]\n",
      "100%|██████████| 2800/2800 [02:47<00:00, 16.69it/s]\n",
      "100%|██████████| 700/700 [00:37<00:00, 18.83it/s]\n",
      "100%|██████████| 2800/2800 [02:43<00:00, 17.10it/s]\n",
      "100%|██████████| 700/700 [00:37<00:00, 18.84it/s]\n"
     ]
    },
    {
     "name": "stdout",
     "output_type": "stream",
     "text": [
      "| >>>>>>>>>>>>>>>>>>>>>>>>>       |\n"
     ]
    },
    {
     "name": "stderr",
     "output_type": "stream",
     "text": [
      "100%|██████████| 2800/2800 [02:45<00:00, 16.87it/s]\n",
      "100%|██████████| 700/700 [00:37<00:00, 18.46it/s]\n"
     ]
    },
    {
     "name": "stdout",
     "output_type": "stream",
     "text": [
      "Best val loss found:  0.00996635021542066\n"
     ]
    },
    {
     "name": "stderr",
     "output_type": "stream",
     "text": [
      "100%|██████████| 2800/2800 [02:50<00:00, 16.42it/s]\n",
      "100%|██████████| 700/700 [00:37<00:00, 18.54it/s]\n",
      "100%|██████████| 2800/2800 [02:44<00:00, 17.03it/s]\n",
      "100%|██████████| 700/700 [00:36<00:00, 18.93it/s]\n",
      "100%|██████████| 2800/2800 [02:44<00:00, 16.98it/s]\n",
      "100%|██████████| 700/700 [00:37<00:00, 18.68it/s]\n"
     ]
    },
    {
     "name": "stdout",
     "output_type": "stream",
     "text": [
      "Best val loss found:  0.009881131546571852\n"
     ]
    },
    {
     "name": "stderr",
     "output_type": "stream",
     "text": [
      "100%|██████████| 2800/2800 [02:47<00:00, 16.70it/s]\n",
      "100%|██████████| 700/700 [00:37<00:00, 18.82it/s]\n"
     ]
    },
    {
     "name": "stdout",
     "output_type": "stream",
     "text": [
      "This fold, the best val loss is:  0.009881131546571852\n"
     ]
    },
    {
     "name": "stderr",
     "output_type": "stream",
     "text": [
      "100%|██████████| 1000/1000 [00:56<00:00, 17.70it/s]\n"
     ]
    },
    {
     "name": "stdout",
     "output_type": "stream",
     "text": [
      "This fold, the test loss is:  0.011438390016788617\n",
      "********************\n",
      "Fold3\n",
      "********************\n",
      "Dataloader Success---------------------\n",
      "|                                 |\n"
     ]
    },
    {
     "name": "stderr",
     "output_type": "stream",
     "text": [
      "100%|██████████| 2800/2800 [02:41<00:00, 17.33it/s]\n",
      "100%|██████████| 700/700 [00:36<00:00, 18.94it/s]\n"
     ]
    },
    {
     "name": "stdout",
     "output_type": "stream",
     "text": [
      "Epoch 0, val_loss 0.0179\n",
      "Best val loss found:  0.017910334820459995\n"
     ]
    },
    {
     "name": "stderr",
     "output_type": "stream",
     "text": [
      "100%|██████████| 2800/2800 [02:43<00:00, 17.17it/s]\n",
      "100%|██████████| 700/700 [00:38<00:00, 18.37it/s]\n"
     ]
    },
    {
     "name": "stdout",
     "output_type": "stream",
     "text": [
      "Best val loss found:  0.014558496696076223\n"
     ]
    },
    {
     "name": "stderr",
     "output_type": "stream",
     "text": [
      "100%|██████████| 2800/2800 [02:48<00:00, 16.66it/s]\n",
      "100%|██████████| 700/700 [00:37<00:00, 18.45it/s]\n"
     ]
    },
    {
     "name": "stdout",
     "output_type": "stream",
     "text": [
      "Best val loss found:  0.012725488142043884\n"
     ]
    },
    {
     "name": "stderr",
     "output_type": "stream",
     "text": [
      "100%|██████████| 2800/2800 [02:43<00:00, 17.09it/s]\n",
      "100%|██████████| 700/700 [00:36<00:00, 19.08it/s]\n"
     ]
    },
    {
     "name": "stdout",
     "output_type": "stream",
     "text": [
      "Best val loss found:  0.011864397409704647\n"
     ]
    },
    {
     "name": "stderr",
     "output_type": "stream",
     "text": [
      "100%|██████████| 2800/2800 [02:43<00:00, 17.15it/s]\n",
      "100%|██████████| 700/700 [00:37<00:00, 18.48it/s]\n"
     ]
    },
    {
     "name": "stdout",
     "output_type": "stream",
     "text": [
      "Best val loss found:  0.01138522544110726\n",
      "| >>>>>                           |\n"
     ]
    },
    {
     "name": "stderr",
     "output_type": "stream",
     "text": [
      "100%|██████████| 2800/2800 [02:50<00:00, 16.47it/s]\n",
      "100%|██████████| 700/700 [00:38<00:00, 18.18it/s]\n"
     ]
    },
    {
     "name": "stdout",
     "output_type": "stream",
     "text": [
      "Best val loss found:  0.011080617164594254\n"
     ]
    },
    {
     "name": "stderr",
     "output_type": "stream",
     "text": [
      "100%|██████████| 2800/2800 [02:44<00:00, 16.99it/s]\n",
      "100%|██████████| 700/700 [00:37<00:00, 18.80it/s]\n"
     ]
    },
    {
     "name": "stdout",
     "output_type": "stream",
     "text": [
      "Best val loss found:  0.011006987082572387\n"
     ]
    },
    {
     "name": "stderr",
     "output_type": "stream",
     "text": [
      "100%|██████████| 2800/2800 [02:41<00:00, 17.29it/s]\n",
      "100%|██████████| 700/700 [00:37<00:00, 18.47it/s]\n"
     ]
    },
    {
     "name": "stdout",
     "output_type": "stream",
     "text": [
      "Best val loss found:  0.01089490845732923\n"
     ]
    },
    {
     "name": "stderr",
     "output_type": "stream",
     "text": [
      "100%|██████████| 2800/2800 [02:48<00:00, 16.62it/s]\n",
      "100%|██████████| 700/700 [00:38<00:00, 18.16it/s]\n"
     ]
    },
    {
     "name": "stdout",
     "output_type": "stream",
     "text": [
      "Best val loss found:  0.01073946749159534\n"
     ]
    },
    {
     "name": "stderr",
     "output_type": "stream",
     "text": [
      "100%|██████████| 2800/2800 [02:46<00:00, 16.82it/s]\n",
      "100%|██████████| 700/700 [00:36<00:00, 18.96it/s]\n"
     ]
    },
    {
     "name": "stdout",
     "output_type": "stream",
     "text": [
      "Best val loss found:  0.010673277159886701\n",
      "| >>>>>>>>>>                      |\n"
     ]
    },
    {
     "name": "stderr",
     "output_type": "stream",
     "text": [
      "100%|██████████| 2800/2800 [02:41<00:00, 17.39it/s]\n",
      "100%|██████████| 700/700 [00:36<00:00, 18.94it/s]\n"
     ]
    },
    {
     "name": "stdout",
     "output_type": "stream",
     "text": [
      "Epoch 10, val_loss 0.0105\n",
      "Best val loss found:  0.010538283907808364\n"
     ]
    },
    {
     "name": "stderr",
     "output_type": "stream",
     "text": [
      "100%|██████████| 2800/2800 [02:46<00:00, 16.77it/s]\n",
      "100%|██████████| 700/700 [00:38<00:00, 18.09it/s]\n",
      "100%|██████████| 2800/2800 [02:47<00:00, 16.68it/s]\n",
      "100%|██████████| 700/700 [00:37<00:00, 18.88it/s]\n"
     ]
    },
    {
     "name": "stdout",
     "output_type": "stream",
     "text": [
      "Best val loss found:  0.010470256365370006\n"
     ]
    },
    {
     "name": "stderr",
     "output_type": "stream",
     "text": [
      "100%|██████████| 2800/2800 [02:41<00:00, 17.35it/s]\n",
      "100%|██████████| 700/700 [00:36<00:00, 18.93it/s]\n",
      "100%|██████████| 2800/2800 [02:45<00:00, 16.96it/s]\n",
      "100%|██████████| 700/700 [00:38<00:00, 18.18it/s]\n"
     ]
    },
    {
     "name": "stdout",
     "output_type": "stream",
     "text": [
      "| >>>>>>>>>>>>>>>                 |\n"
     ]
    },
    {
     "name": "stderr",
     "output_type": "stream",
     "text": [
      "100%|██████████| 2800/2800 [02:50<00:00, 16.45it/s]\n",
      "100%|██████████| 700/700 [00:37<00:00, 18.73it/s]\n"
     ]
    },
    {
     "name": "stdout",
     "output_type": "stream",
     "text": [
      "Best val loss found:  0.010390140979018594\n"
     ]
    },
    {
     "name": "stderr",
     "output_type": "stream",
     "text": [
      "100%|██████████| 2800/2800 [02:42<00:00, 17.21it/s]\n",
      "100%|██████████| 700/700 [00:36<00:00, 18.99it/s]\n"
     ]
    },
    {
     "name": "stdout",
     "output_type": "stream",
     "text": [
      "Best val loss found:  0.010328637545795313\n"
     ]
    },
    {
     "name": "stderr",
     "output_type": "stream",
     "text": [
      "100%|██████████| 2800/2800 [02:43<00:00, 17.11it/s]\n",
      "100%|██████████| 700/700 [00:38<00:00, 18.38it/s]\n"
     ]
    },
    {
     "name": "stdout",
     "output_type": "stream",
     "text": [
      "Best val loss found:  0.01031131621782801\n"
     ]
    },
    {
     "name": "stderr",
     "output_type": "stream",
     "text": [
      "100%|██████████| 2800/2800 [02:48<00:00, 16.59it/s]\n",
      "100%|██████████| 700/700 [00:38<00:00, 18.16it/s]\n",
      "100%|██████████| 2800/2800 [02:43<00:00, 17.13it/s]\n",
      "100%|██████████| 700/700 [00:37<00:00, 18.83it/s]\n"
     ]
    },
    {
     "name": "stdout",
     "output_type": "stream",
     "text": [
      "Best val loss found:  0.010292403714265675\n",
      "| >>>>>>>>>>>>>>>>>>>>            |\n"
     ]
    },
    {
     "name": "stderr",
     "output_type": "stream",
     "text": [
      "100%|██████████| 2800/2800 [02:42<00:00, 17.26it/s]\n",
      "100%|██████████| 700/700 [00:38<00:00, 18.26it/s]\n"
     ]
    },
    {
     "name": "stdout",
     "output_type": "stream",
     "text": [
      "Epoch 20, val_loss 0.0103\n"
     ]
    },
    {
     "name": "stderr",
     "output_type": "stream",
     "text": [
      "100%|██████████| 2800/2800 [02:49<00:00, 16.48it/s]\n",
      "100%|██████████| 700/700 [00:38<00:00, 18.25it/s]\n",
      "100%|██████████| 2800/2800 [02:43<00:00, 17.10it/s]\n",
      "100%|██████████| 700/700 [00:36<00:00, 19.13it/s]\n",
      "100%|██████████| 2800/2800 [02:42<00:00, 17.20it/s]\n",
      "100%|██████████| 700/700 [00:36<00:00, 18.95it/s]\n"
     ]
    },
    {
     "name": "stdout",
     "output_type": "stream",
     "text": [
      "Best val loss found:  0.01015834410608347\n"
     ]
    },
    {
     "name": "stderr",
     "output_type": "stream",
     "text": [
      "100%|██████████| 2800/2800 [02:47<00:00, 16.77it/s]\n",
      "100%|██████████| 700/700 [00:38<00:00, 18.19it/s]\n"
     ]
    },
    {
     "name": "stdout",
     "output_type": "stream",
     "text": [
      "| >>>>>>>>>>>>>>>>>>>>>>>>>       |\n"
     ]
    },
    {
     "name": "stderr",
     "output_type": "stream",
     "text": [
      "100%|██████████| 2800/2800 [02:45<00:00, 16.89it/s]\n",
      "100%|██████████| 700/700 [00:37<00:00, 18.89it/s]\n",
      "100%|██████████| 2800/2800 [02:42<00:00, 17.20it/s]\n",
      "100%|██████████| 700/700 [00:37<00:00, 18.72it/s]\n",
      "100%|██████████| 2800/2800 [02:46<00:00, 16.81it/s]\n",
      "100%|██████████| 700/700 [00:38<00:00, 17.97it/s]\n"
     ]
    },
    {
     "name": "stdout",
     "output_type": "stream",
     "text": [
      "Best val loss found:  0.010099207451567054\n"
     ]
    },
    {
     "name": "stderr",
     "output_type": "stream",
     "text": [
      "100%|██████████| 2800/2800 [02:48<00:00, 16.59it/s]\n",
      "100%|██████████| 700/700 [00:37<00:00, 18.85it/s]\n",
      "100%|██████████| 2800/2800 [02:41<00:00, 17.31it/s]\n",
      "100%|██████████| 700/700 [00:37<00:00, 18.83it/s]\n"
     ]
    },
    {
     "name": "stdout",
     "output_type": "stream",
     "text": [
      "This fold, the best val loss is:  0.010099207451567054\n"
     ]
    },
    {
     "name": "stderr",
     "output_type": "stream",
     "text": [
      "100%|██████████| 1000/1000 [00:55<00:00, 18.09it/s]\n"
     ]
    },
    {
     "name": "stdout",
     "output_type": "stream",
     "text": [
      "This fold, the test loss is:  0.011375273110577837\n",
      "********************\n",
      "Fold4\n",
      "********************\n",
      "Dataloader Success---------------------\n",
      "|                                 |\n"
     ]
    },
    {
     "name": "stderr",
     "output_type": "stream",
     "text": [
      "100%|██████████| 2800/2800 [02:47<00:00, 16.69it/s]\n",
      "100%|██████████| 700/700 [00:37<00:00, 18.59it/s]\n"
     ]
    },
    {
     "name": "stdout",
     "output_type": "stream",
     "text": [
      "Epoch 0, val_loss 0.0181\n",
      "Best val loss found:  0.018064627633430065\n"
     ]
    },
    {
     "name": "stderr",
     "output_type": "stream",
     "text": [
      "100%|██████████| 2800/2800 [02:48<00:00, 16.65it/s]\n",
      "100%|██████████| 700/700 [00:35<00:00, 19.51it/s]\n"
     ]
    },
    {
     "name": "stdout",
     "output_type": "stream",
     "text": [
      "Best val loss found:  0.014766037577896246\n"
     ]
    },
    {
     "name": "stderr",
     "output_type": "stream",
     "text": [
      "100%|██████████| 2800/2800 [02:43<00:00, 17.08it/s]\n",
      "100%|██████████| 700/700 [00:35<00:00, 19.46it/s]\n"
     ]
    },
    {
     "name": "stdout",
     "output_type": "stream",
     "text": [
      "Best val loss found:  0.013114529664162546\n"
     ]
    },
    {
     "name": "stderr",
     "output_type": "stream",
     "text": [
      "100%|██████████| 2800/2800 [02:46<00:00, 16.79it/s]\n",
      "100%|██████████| 700/700 [00:37<00:00, 18.85it/s]\n"
     ]
    },
    {
     "name": "stdout",
     "output_type": "stream",
     "text": [
      "Best val loss found:  0.011980093303136527\n"
     ]
    },
    {
     "name": "stderr",
     "output_type": "stream",
     "text": [
      "100%|██████████| 2800/2800 [02:49<00:00, 16.52it/s]\n",
      "100%|██████████| 700/700 [00:36<00:00, 19.31it/s]\n"
     ]
    },
    {
     "name": "stdout",
     "output_type": "stream",
     "text": [
      "Best val loss found:  0.011719081517242427\n",
      "| >>>>>                           |\n"
     ]
    },
    {
     "name": "stderr",
     "output_type": "stream",
     "text": [
      "100%|██████████| 2800/2800 [02:43<00:00, 17.13it/s]\n",
      "100%|██████████| 700/700 [00:35<00:00, 19.59it/s]\n"
     ]
    },
    {
     "name": "stdout",
     "output_type": "stream",
     "text": [
      "Best val loss found:  0.011409439451859465\n"
     ]
    },
    {
     "name": "stderr",
     "output_type": "stream",
     "text": [
      "100%|██████████| 2800/2800 [02:42<00:00, 17.21it/s]\n",
      "100%|██████████| 700/700 [00:37<00:00, 18.69it/s]\n"
     ]
    },
    {
     "name": "stdout",
     "output_type": "stream",
     "text": [
      "Best val loss found:  0.011255457704454394\n"
     ]
    },
    {
     "name": "stderr",
     "output_type": "stream",
     "text": [
      "100%|██████████| 2800/2800 [02:51<00:00, 16.35it/s]\n",
      "100%|██████████| 700/700 [00:37<00:00, 18.47it/s]\n"
     ]
    },
    {
     "name": "stdout",
     "output_type": "stream",
     "text": [
      "Best val loss found:  0.011057352914275335\n"
     ]
    },
    {
     "name": "stderr",
     "output_type": "stream",
     "text": [
      "100%|██████████| 2800/2800 [02:45<00:00, 16.95it/s]\n",
      "100%|██████████| 700/700 [00:36<00:00, 19.25it/s]\n"
     ]
    },
    {
     "name": "stdout",
     "output_type": "stream",
     "text": [
      "Best val loss found:  0.011000776669077042\n"
     ]
    },
    {
     "name": "stderr",
     "output_type": "stream",
     "text": [
      "100%|██████████| 2800/2800 [02:45<00:00, 16.92it/s]\n",
      "100%|██████████| 700/700 [00:37<00:00, 18.83it/s]\n"
     ]
    },
    {
     "name": "stdout",
     "output_type": "stream",
     "text": [
      "Best val loss found:  0.01090752500841128\n",
      "| >>>>>>>>>>                      |\n"
     ]
    },
    {
     "name": "stderr",
     "output_type": "stream",
     "text": [
      "100%|██████████| 2800/2800 [02:50<00:00, 16.42it/s]\n",
      "100%|██████████| 700/700 [00:37<00:00, 18.65it/s]\n"
     ]
    },
    {
     "name": "stdout",
     "output_type": "stream",
     "text": [
      "Epoch 10, val_loss 0.0107\n",
      "Best val loss found:  0.010745092984288931\n"
     ]
    },
    {
     "name": "stderr",
     "output_type": "stream",
     "text": [
      "100%|██████████| 2800/2800 [02:45<00:00, 16.93it/s]\n",
      "100%|██████████| 700/700 [00:35<00:00, 19.46it/s]\n"
     ]
    },
    {
     "name": "stdout",
     "output_type": "stream",
     "text": [
      "Best val loss found:  0.010683152154753251\n"
     ]
    },
    {
     "name": "stderr",
     "output_type": "stream",
     "text": [
      "100%|██████████| 2800/2800 [02:42<00:00, 17.20it/s]\n",
      "100%|██████████| 700/700 [00:35<00:00, 19.55it/s]\n"
     ]
    },
    {
     "name": "stdout",
     "output_type": "stream",
     "text": [
      "Best val loss found:  0.010615605743535395\n"
     ]
    },
    {
     "name": "stderr",
     "output_type": "stream",
     "text": [
      "100%|██████████| 2800/2800 [02:48<00:00, 16.63it/s]\n",
      "100%|██████████| 700/700 [00:37<00:00, 18.82it/s]\n"
     ]
    },
    {
     "name": "stdout",
     "output_type": "stream",
     "text": [
      "Best val loss found:  0.010537262173768665\n"
     ]
    },
    {
     "name": "stderr",
     "output_type": "stream",
     "text": [
      "100%|██████████| 2800/2800 [02:47<00:00, 16.70it/s]\n",
      "100%|██████████| 700/700 [00:36<00:00, 19.16it/s]\n"
     ]
    },
    {
     "name": "stdout",
     "output_type": "stream",
     "text": [
      "| >>>>>>>>>>>>>>>                 |\n"
     ]
    },
    {
     "name": "stderr",
     "output_type": "stream",
     "text": [
      "100%|██████████| 2800/2800 [02:44<00:00, 17.06it/s]\n",
      "100%|██████████| 700/700 [00:36<00:00, 19.39it/s]\n"
     ]
    },
    {
     "name": "stdout",
     "output_type": "stream",
     "text": [
      "Best val loss found:  0.010458883281264986\n"
     ]
    },
    {
     "name": "stderr",
     "output_type": "stream",
     "text": [
      "100%|██████████| 2800/2800 [02:47<00:00, 16.71it/s]\n",
      "100%|██████████| 700/700 [00:37<00:00, 18.69it/s]\n"
     ]
    },
    {
     "name": "stdout",
     "output_type": "stream",
     "text": [
      "Best val loss found:  0.010453127881212693\n"
     ]
    },
    {
     "name": "stderr",
     "output_type": "stream",
     "text": [
      "100%|██████████| 2800/2800 [02:48<00:00, 16.64it/s]\n",
      "100%|██████████| 700/700 [00:36<00:00, 19.29it/s]\n",
      "100%|██████████| 2800/2800 [02:43<00:00, 17.11it/s]\n",
      "100%|██████████| 700/700 [00:36<00:00, 19.29it/s]\n"
     ]
    },
    {
     "name": "stdout",
     "output_type": "stream",
     "text": [
      "Best val loss found:  0.01038409523316659\n"
     ]
    },
    {
     "name": "stderr",
     "output_type": "stream",
     "text": [
      "100%|██████████| 2800/2800 [02:46<00:00, 16.81it/s]\n",
      "100%|██████████| 700/700 [00:37<00:00, 18.58it/s]\n"
     ]
    },
    {
     "name": "stdout",
     "output_type": "stream",
     "text": [
      "| >>>>>>>>>>>>>>>>>>>>            |\n"
     ]
    },
    {
     "name": "stderr",
     "output_type": "stream",
     "text": [
      "100%|██████████| 2800/2800 [02:52<00:00, 16.20it/s]\n",
      "100%|██████████| 700/700 [00:37<00:00, 18.58it/s]\n"
     ]
    },
    {
     "name": "stdout",
     "output_type": "stream",
     "text": [
      "Epoch 20, val_loss 0.0103\n",
      "Best val loss found:  0.010342211348137686\n"
     ]
    },
    {
     "name": "stderr",
     "output_type": "stream",
     "text": [
      "100%|██████████| 2800/2800 [02:44<00:00, 17.03it/s]\n",
      "100%|██████████| 700/700 [00:36<00:00, 19.31it/s]\n",
      "100%|██████████| 2800/2800 [02:44<00:00, 17.02it/s]\n",
      "100%|██████████| 700/700 [00:37<00:00, 18.82it/s]\n"
     ]
    },
    {
     "name": "stdout",
     "output_type": "stream",
     "text": [
      "Best val loss found:  0.010295455233925688\n"
     ]
    },
    {
     "name": "stderr",
     "output_type": "stream",
     "text": [
      "100%|██████████| 2800/2800 [02:49<00:00, 16.48it/s]\n",
      "100%|██████████| 700/700 [00:37<00:00, 18.89it/s]\n"
     ]
    },
    {
     "name": "stdout",
     "output_type": "stream",
     "text": [
      "Best val loss found:  0.01029194886197469\n"
     ]
    },
    {
     "name": "stderr",
     "output_type": "stream",
     "text": [
      "100%|██████████| 2800/2800 [02:42<00:00, 17.26it/s]\n",
      "100%|██████████| 700/700 [00:35<00:00, 19.58it/s]\n"
     ]
    },
    {
     "name": "stdout",
     "output_type": "stream",
     "text": [
      "| >>>>>>>>>>>>>>>>>>>>>>>>>       |\n"
     ]
    },
    {
     "name": "stderr",
     "output_type": "stream",
     "text": [
      "100%|██████████| 2800/2800 [02:43<00:00, 17.15it/s]\n",
      "100%|██████████| 700/700 [00:36<00:00, 19.44it/s]\n",
      "100%|██████████| 2800/2800 [02:51<00:00, 16.35it/s]\n",
      "100%|██████████| 700/700 [00:37<00:00, 18.48it/s]\n",
      "100%|██████████| 2800/2800 [02:46<00:00, 16.85it/s]\n",
      "100%|██████████| 700/700 [00:35<00:00, 19.45it/s]\n",
      "100%|██████████| 2800/2800 [02:42<00:00, 17.23it/s]\n",
      "100%|██████████| 700/700 [00:36<00:00, 19.43it/s]\n",
      "100%|██████████| 2800/2800 [02:48<00:00, 16.59it/s]\n",
      "100%|██████████| 700/700 [00:37<00:00, 18.86it/s]\n"
     ]
    },
    {
     "name": "stdout",
     "output_type": "stream",
     "text": [
      "This fold, the best val loss is:  0.01029194886197469\n"
     ]
    },
    {
     "name": "stderr",
     "output_type": "stream",
     "text": [
      "100%|██████████| 1000/1000 [00:57<00:00, 17.28it/s]\n"
     ]
    },
    {
     "name": "stdout",
     "output_type": "stream",
     "text": [
      "This fold, the test loss is:  0.011538849223055876\n",
      "********************\n",
      "Fold5\n",
      "********************\n",
      "Dataloader Success---------------------\n",
      "|                                 |\n"
     ]
    },
    {
     "name": "stderr",
     "output_type": "stream",
     "text": [
      "100%|██████████| 2800/2800 [02:44<00:00, 17.03it/s]\n",
      "100%|██████████| 700/700 [00:37<00:00, 18.51it/s]\n"
     ]
    },
    {
     "name": "stdout",
     "output_type": "stream",
     "text": [
      "Epoch 0, val_loss 0.0179\n",
      "Best val loss found:  0.017934446020850113\n"
     ]
    },
    {
     "name": "stderr",
     "output_type": "stream",
     "text": [
      "100%|██████████| 2800/2800 [02:42<00:00, 17.24it/s]\n",
      "100%|██████████| 700/700 [00:38<00:00, 18.29it/s]\n"
     ]
    },
    {
     "name": "stdout",
     "output_type": "stream",
     "text": [
      "Best val loss found:  0.014736121089663356\n"
     ]
    },
    {
     "name": "stderr",
     "output_type": "stream",
     "text": [
      "100%|██████████| 2800/2800 [02:49<00:00, 16.53it/s]\n",
      "100%|██████████| 700/700 [00:39<00:00, 17.72it/s]\n"
     ]
    },
    {
     "name": "stdout",
     "output_type": "stream",
     "text": [
      "Best val loss found:  0.012781569662703468\n"
     ]
    },
    {
     "name": "stderr",
     "output_type": "stream",
     "text": [
      "100%|██████████| 2800/2800 [02:45<00:00, 16.87it/s]\n",
      "100%|██████████| 700/700 [00:37<00:00, 18.88it/s]\n"
     ]
    },
    {
     "name": "stdout",
     "output_type": "stream",
     "text": [
      "Best val loss found:  0.012008910439908505\n"
     ]
    },
    {
     "name": "stderr",
     "output_type": "stream",
     "text": [
      "100%|██████████| 2800/2800 [02:40<00:00, 17.39it/s]\n",
      "100%|██████████| 700/700 [00:37<00:00, 18.82it/s]\n"
     ]
    },
    {
     "name": "stdout",
     "output_type": "stream",
     "text": [
      "Best val loss found:  0.011611996884125151\n",
      "| >>>>>                           |\n"
     ]
    },
    {
     "name": "stderr",
     "output_type": "stream",
     "text": [
      "100%|██████████| 2800/2800 [02:44<00:00, 16.98it/s]\n",
      "100%|██████████| 700/700 [00:39<00:00, 17.92it/s]\n"
     ]
    },
    {
     "name": "stdout",
     "output_type": "stream",
     "text": [
      "Best val loss found:  0.011300585504421699\n"
     ]
    },
    {
     "name": "stderr",
     "output_type": "stream",
     "text": [
      "100%|██████████| 2800/2800 [02:46<00:00, 16.85it/s]\n",
      "100%|██████████| 700/700 [00:37<00:00, 18.46it/s]\n"
     ]
    },
    {
     "name": "stdout",
     "output_type": "stream",
     "text": [
      "Best val loss found:  0.011197374700236\n"
     ]
    },
    {
     "name": "stderr",
     "output_type": "stream",
     "text": [
      "100%|██████████| 2800/2800 [02:41<00:00, 17.30it/s]\n",
      "100%|██████████| 700/700 [00:37<00:00, 18.61it/s]\n"
     ]
    },
    {
     "name": "stdout",
     "output_type": "stream",
     "text": [
      "Best val loss found:  0.01103108163091487\n"
     ]
    },
    {
     "name": "stderr",
     "output_type": "stream",
     "text": [
      "100%|██████████| 2800/2800 [02:46<00:00, 16.78it/s]\n",
      "100%|██████████| 700/700 [00:38<00:00, 18.00it/s]\n"
     ]
    },
    {
     "name": "stdout",
     "output_type": "stream",
     "text": [
      "Best val loss found:  0.010950793034197496\n"
     ]
    },
    {
     "name": "stderr",
     "output_type": "stream",
     "text": [
      "100%|██████████| 2800/2800 [02:47<00:00, 16.69it/s]\n",
      "100%|██████████| 700/700 [00:37<00:00, 18.47it/s]\n"
     ]
    },
    {
     "name": "stdout",
     "output_type": "stream",
     "text": [
      "Best val loss found:  0.010893745401075908\n",
      "| >>>>>>>>>>                      |\n"
     ]
    },
    {
     "name": "stderr",
     "output_type": "stream",
     "text": [
      "100%|██████████| 2800/2800 [02:41<00:00, 17.34it/s]\n",
      "100%|██████████| 700/700 [00:37<00:00, 18.77it/s]\n"
     ]
    },
    {
     "name": "stdout",
     "output_type": "stream",
     "text": [
      "Epoch 10, val_loss 0.0108\n",
      "Best val loss found:  0.010811179349797645\n"
     ]
    },
    {
     "name": "stderr",
     "output_type": "stream",
     "text": [
      "100%|██████████| 2800/2800 [02:43<00:00, 17.14it/s]\n",
      "100%|██████████| 700/700 [00:38<00:00, 18.18it/s]\n"
     ]
    },
    {
     "name": "stdout",
     "output_type": "stream",
     "text": [
      "Best val loss found:  0.010673471729138068\n"
     ]
    },
    {
     "name": "stderr",
     "output_type": "stream",
     "text": [
      "100%|██████████| 2800/2800 [02:47<00:00, 16.68it/s]\n",
      "100%|██████████| 700/700 [00:39<00:00, 17.90it/s]\n"
     ]
    },
    {
     "name": "stdout",
     "output_type": "stream",
     "text": [
      "Best val loss found:  0.010662879405343639\n"
     ]
    },
    {
     "name": "stderr",
     "output_type": "stream",
     "text": [
      "100%|██████████| 2800/2800 [02:45<00:00, 16.90it/s]\n",
      "100%|██████████| 700/700 [00:37<00:00, 18.50it/s]\n"
     ]
    },
    {
     "name": "stdout",
     "output_type": "stream",
     "text": [
      "Best val loss found:  0.010602559715043753\n"
     ]
    },
    {
     "name": "stderr",
     "output_type": "stream",
     "text": [
      "100%|██████████| 2800/2800 [02:43<00:00, 17.11it/s]\n",
      "100%|██████████| 700/700 [00:38<00:00, 18.03it/s]\n"
     ]
    },
    {
     "name": "stdout",
     "output_type": "stream",
     "text": [
      "| >>>>>>>>>>>>>>>                 |\n"
     ]
    },
    {
     "name": "stderr",
     "output_type": "stream",
     "text": [
      "100%|██████████| 2800/2800 [02:47<00:00, 16.73it/s]\n",
      "100%|██████████| 700/700 [00:38<00:00, 18.19it/s]\n"
     ]
    },
    {
     "name": "stdout",
     "output_type": "stream",
     "text": [
      "Best val loss found:  0.010516178701072932\n"
     ]
    },
    {
     "name": "stderr",
     "output_type": "stream",
     "text": [
      "100%|██████████| 2800/2800 [02:44<00:00, 17.05it/s]\n",
      "100%|██████████| 700/700 [00:37<00:00, 18.73it/s]\n",
      "100%|██████████| 2800/2800 [02:40<00:00, 17.41it/s]\n",
      "100%|██████████| 700/700 [00:37<00:00, 18.67it/s]\n",
      "100%|██████████| 2800/2800 [02:45<00:00, 16.87it/s]\n",
      "100%|██████████| 700/700 [00:39<00:00, 17.87it/s]\n"
     ]
    },
    {
     "name": "stdout",
     "output_type": "stream",
     "text": [
      "Best val loss found:  0.01045592778761472\n"
     ]
    },
    {
     "name": "stderr",
     "output_type": "stream",
     "text": [
      "100%|██████████| 2800/2800 [02:46<00:00, 16.78it/s]\n",
      "100%|██████████| 700/700 [00:38<00:00, 18.23it/s]\n"
     ]
    },
    {
     "name": "stdout",
     "output_type": "stream",
     "text": [
      "Best val loss found:  0.010362875263339707\n",
      "| >>>>>>>>>>>>>>>>>>>>            |\n"
     ]
    },
    {
     "name": "stderr",
     "output_type": "stream",
     "text": [
      "100%|██████████| 2800/2800 [02:41<00:00, 17.34it/s]\n",
      "100%|██████████| 700/700 [00:37<00:00, 18.61it/s]\n"
     ]
    },
    {
     "name": "stdout",
     "output_type": "stream",
     "text": [
      "Epoch 20, val_loss 0.0104\n"
     ]
    },
    {
     "name": "stderr",
     "output_type": "stream",
     "text": [
      "100%|██████████| 2800/2800 [02:45<00:00, 16.92it/s]\n",
      "100%|██████████| 700/700 [00:38<00:00, 17.95it/s]\n"
     ]
    },
    {
     "name": "stdout",
     "output_type": "stream",
     "text": [
      "Best val loss found:  0.010341459120557244\n"
     ]
    },
    {
     "name": "stderr",
     "output_type": "stream",
     "text": [
      "100%|██████████| 2800/2800 [02:46<00:00, 16.84it/s]\n",
      "100%|██████████| 700/700 [00:38<00:00, 18.30it/s]\n",
      "100%|██████████| 2800/2800 [02:42<00:00, 17.25it/s]\n",
      "100%|██████████| 700/700 [00:37<00:00, 18.60it/s]\n",
      "100%|██████████| 2800/2800 [02:44<00:00, 17.05it/s]\n",
      "100%|██████████| 700/700 [00:38<00:00, 18.17it/s]\n"
     ]
    },
    {
     "name": "stdout",
     "output_type": "stream",
     "text": [
      "Best val loss found:  0.010308293180340634\n",
      "| >>>>>>>>>>>>>>>>>>>>>>>>>       |\n"
     ]
    },
    {
     "name": "stderr",
     "output_type": "stream",
     "text": [
      "100%|██████████| 2800/2800 [02:49<00:00, 16.57it/s]\n",
      "100%|██████████| 700/700 [00:38<00:00, 18.22it/s]\n",
      "100%|██████████| 2800/2800 [02:44<00:00, 16.98it/s]\n",
      "100%|██████████| 700/700 [00:37<00:00, 18.72it/s]\n",
      "100%|██████████| 2800/2800 [02:42<00:00, 17.20it/s]\n",
      "100%|██████████| 700/700 [00:38<00:00, 18.17it/s]\n"
     ]
    },
    {
     "name": "stdout",
     "output_type": "stream",
     "text": [
      "Best val loss found:  0.010248285785450468\n"
     ]
    },
    {
     "name": "stderr",
     "output_type": "stream",
     "text": [
      "100%|██████████| 2800/2800 [02:48<00:00, 16.59it/s]\n",
      "100%|██████████| 700/700 [00:39<00:00, 17.84it/s]\n",
      "100%|██████████| 2800/2800 [02:46<00:00, 16.85it/s]\n",
      "100%|██████████| 700/700 [00:37<00:00, 18.50it/s]\n"
     ]
    },
    {
     "name": "stdout",
     "output_type": "stream",
     "text": [
      "This fold, the best val loss is:  0.010248285785450468\n"
     ]
    },
    {
     "name": "stderr",
     "output_type": "stream",
     "text": [
      "100%|██████████| 1000/1000 [00:56<00:00, 17.75it/s]"
     ]
    },
    {
     "name": "stdout",
     "output_type": "stream",
     "text": [
      "This fold, the test loss is:  0.011433473503333517\n"
     ]
    },
    {
     "name": "stderr",
     "output_type": "stream",
     "text": [
      "\n"
     ]
    }
   ],
   "source": [
    "from tqdm import tqdm\n",
    "for train_index, valid_index in kfold.split(train_data,train_data['cpc_ids']):\n",
    "    \n",
    "    print('*'*20)\n",
    "    print(f'Fold{len(test_predict_lst)+1}')\n",
    "    print('*'*20)\n",
    "    train_dataset = PatentDataset(train_data.iloc[train_index])\n",
    "    val_dataset = PatentDataset(train_data.iloc[valid_index])\n",
    "\n",
    "    train_dataloader = DataLoader(train_dataset,\n",
    "                                 collate_fn = collate_fn,\n",
    "                                 batch_size = 4,\n",
    "                                 shuffle = True,\n",
    "                                 drop_last = True)\n",
    "    val_dataloader = DataLoader(val_dataset,\n",
    "                               collate_fn = collate_fn,\n",
    "                               batch_size = 4,\n",
    "                               shuffle = True,\n",
    "                               drop_last = True)\n",
    "\n",
    "    patentModel = PatentClsModel(model,backbone_fixed = True).cuda()\n",
    "    loss_func = nn.BCELoss()\n",
    "    optimizer = AdamW(patentModel.parameters(), lr=5e-4)\n",
    "    # reg_lambda = 0.035\n",
    "\n",
    "    print('Dataloader Success---------------------')\n",
    "\n",
    "    best_val_loss = 100\n",
    "    for epoch in range(total_epochs):\n",
    "        if epoch%5==0:\n",
    "            print('|',\">\" * epoch,\" \"*(total_epochs-epoch),'|')\n",
    "\n",
    "        patentModel.train()\n",
    "        for iter,(input_ids, attention_mask, token_type_ids, batch_label) in enumerate(tqdm(train_dataloader)):\n",
    "            input_ids = input_ids.cuda()\n",
    "            attention_mask = attention_mask.cuda()\n",
    "            token_type_ids = token_type_ids.cuda()\n",
    "            batch_label = batch_label.cuda()\n",
    "\n",
    "            prediction = patentModel(input_ids, attention_mask, token_type_ids)\n",
    "            \n",
    "            # l2_reg = None\n",
    "            # for w in patentModel.fc.parameters():\n",
    "            #     if not l2_reg:\n",
    "            #         l2_reg = w.norm(2)\n",
    "            #     else:\n",
    "            #         l2_reg = l2_reg + w.norm(2)\n",
    "\n",
    "            loss = loss_func(prediction,batch_label)\n",
    "            \n",
    "            optimizer.zero_grad()\n",
    "            loss.backward()\n",
    "            optimizer.step()\n",
    "\n",
    "        val_loss = 0\n",
    "        patentModel.eval()\n",
    "        with torch.no_grad():\n",
    "            for iter,(input_ids, attention_mask, token_type_ids, batch_label) in enumerate(tqdm(val_dataloader)):\n",
    "                input_ids = input_ids.cuda()\n",
    "                attention_mask = attention_mask.cuda()\n",
    "                token_type_ids = token_type_ids.cuda()\n",
    "                batch_label = batch_label.cuda()\n",
    "                prediction = patentModel(input_ids, attention_mask, token_type_ids)\n",
    "                loss = loss_func(prediction,batch_label)\n",
    "                val_loss += loss.detach().item()\n",
    "            val_loss = val_loss/(iter+1)\n",
    "\n",
    "        if epoch%10 == 0:\n",
    "            print('Epoch {}, val_loss {:.4f}'.format(epoch, val_loss))\n",
    "\n",
    "        if val_loss < best_val_loss:\n",
    "            best_val_loss = val_loss\n",
    "            torch.save(patentModel.state_dict(), 'ckpt/bertflow/best_model_mini_{}.pth'.format(len(test_predict_lst)+1))\n",
    "            print('Best val loss found: ', best_val_loss)\n",
    "\n",
    "    print('This fold, the best val loss is: ', best_val_loss)\n",
    "\n",
    "    test_loss = 0\n",
    "    test_predict = None\n",
    "    patentModel = PatentClsModel(model,backbone_fixed = True).cuda()\n",
    "    patentModel.load_state_dict(torch.load('ckpt/bertflow/best_model_mini_{}.pth'.format(len(test_predict_lst)+1)))\n",
    "\n",
    "    patentModel.eval()\n",
    "    with torch.no_grad():\n",
    "        for iter,(input_ids, attention_mask, token_type_ids, batch_label) in enumerate(tqdm(test_dataloader)):\n",
    "            input_ids = input_ids.cuda()\n",
    "            attention_mask = attention_mask.cuda()\n",
    "            token_type_ids = token_type_ids.cuda()\n",
    "            batch_label = batch_label.cuda()\n",
    "            prediction = patentModel(input_ids, attention_mask, token_type_ids)\n",
    "\n",
    "            if test_predict is None:\n",
    "                test_predict = prediction\n",
    "            else:\n",
    "                test_predict = torch.cat((test_predict,prediction),axis = 0)\n",
    "\n",
    "            loss = loss_func(prediction,batch_label)\n",
    "            test_loss += loss.detach().item()\n",
    "\n",
    "    test_loss /= (iter+1)\n",
    "    print('This fold, the test loss is: ', test_loss)\n",
    "\n",
    "    test_predict_lst.append(test_predict)"
   ]
  },
  {
   "cell_type": "code",
   "execution_count": 12,
   "id": "dcfa33e6-a7b8-49fd-ad32-1302e442a3b2",
   "metadata": {},
   "outputs": [],
   "source": [
    "torch.save(test_predict_lst,'test_predict/mini_30e_004.pt')"
   ]
  },
  {
   "cell_type": "code",
   "execution_count": null,
   "id": "caf8e4fd-0d6d-403c-aebc-6ef551b61ef4",
   "metadata": {},
   "outputs": [],
   "source": []
  },
  {
   "cell_type": "markdown",
   "id": "be91e949-84bc-456f-95c5-30d964f6b919",
   "metadata": {},
   "source": [
    "# Last All Last"
   ]
  },
  {
   "cell_type": "code",
   "execution_count": null,
   "id": "18244b80-d3cb-4dc2-8385-cd8ea83b12ac",
   "metadata": {},
   "outputs": [],
   "source": []
  },
  {
   "cell_type": "code",
   "execution_count": null,
   "id": "f0a93185-099c-4a55-b05a-67747d9e4d9e",
   "metadata": {},
   "outputs": [],
   "source": []
  },
  {
   "cell_type": "code",
   "execution_count": null,
   "id": "97278a8e-fec0-4f28-9627-bde4f1ad4773",
   "metadata": {},
   "outputs": [],
   "source": []
  },
  {
   "cell_type": "code",
   "execution_count": null,
   "id": "6307bdde-aad0-48c2-a0ba-8cce6b3d2438",
   "metadata": {},
   "outputs": [],
   "source": []
  },
  {
   "cell_type": "code",
   "execution_count": null,
   "id": "b378dfde-3d67-4c93-945f-9de363e5bb3c",
   "metadata": {},
   "outputs": [],
   "source": []
  },
  {
   "cell_type": "code",
   "execution_count": null,
   "id": "244e30dc-ae38-4428-bac1-3cddfc402687",
   "metadata": {},
   "outputs": [],
   "source": []
  },
  {
   "cell_type": "code",
   "execution_count": 16,
   "id": "eb0b0f62-d2b7-4309-a547-fbb347521816",
   "metadata": {},
   "outputs": [
    {
     "data": {
      "text/plain": [
       "<All keys matched successfully>"
      ]
     },
     "execution_count": 16,
     "metadata": {},
     "output_type": "execute_result"
    }
   ],
   "source": [
    "# patentModel.load_state_dict(torch.load('ckpt/001/best_model.pth'))"
   ]
  },
  {
   "cell_type": "code",
   "execution_count": 15,
   "id": "afcf1ae0-6214-487f-aed1-cfdb63b2e6de",
   "metadata": {},
   "outputs": [],
   "source": [
    "# torch.save(patentModel.state_dict(), 'ckpt/001/best_model.pth')"
   ]
  }
 ],
 "metadata": {
  "kernelspec": {
   "display_name": "Python 3 (ipykernel)",
   "language": "python",
   "name": "python3"
  },
  "language_info": {
   "codemirror_mode": {
    "name": "ipython",
    "version": 3
   },
   "file_extension": ".py",
   "mimetype": "text/x-python",
   "name": "python",
   "nbconvert_exporter": "python",
   "pygments_lexer": "ipython3",
   "version": "3.8.10"
  }
 },
 "nbformat": 4,
 "nbformat_minor": 5
}
