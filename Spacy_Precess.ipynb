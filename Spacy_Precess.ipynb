{
 "cells": [
  {
   "cell_type": "code",
   "execution_count": 1,
   "id": "afd8ac83-6fc7-40fb-a88b-e3bf4996c17f",
   "metadata": {},
   "outputs": [
    {
     "name": "stderr",
     "output_type": "stream",
     "text": [
      "Some weights of the model checkpoint at anferico/bert-for-patents were not used when initializing BertForMaskedLM: ['cls.seq_relationship.weight', 'cls.seq_relationship.bias']\n",
      "- This IS expected if you are initializing BertForMaskedLM from the checkpoint of a model trained on another task or with another architecture (e.g. initializing a BertForSequenceClassification model from a BertForPreTraining model).\n",
      "- This IS NOT expected if you are initializing BertForMaskedLM from the checkpoint of a model that you expect to be exactly identical (initializing a BertForSequenceClassification model from a BertForSequenceClassification model).\n"
     ]
    }
   ],
   "source": [
    "import spacy\n",
    "import numpy as np\n",
    "import pandas as pd \n",
    "from transformers import AutoModelForMaskedLM,AutoTokenizer\n",
    "import re\n",
    "from spacy import displacy\n",
    "import matplotlib.pyplot as plt\n",
    "\n",
    "model = AutoModelForMaskedLM.from_pretrained(\"anferico/bert-for-patents\")\n",
    "tokenizer = AutoTokenizer.from_pretrained(\"anferico/bert-for-patents\")"
   ]
  },
  {
   "cell_type": "code",
   "execution_count": 2,
   "id": "105f6cd6-60df-4660-a455-dfcce7901859",
   "metadata": {},
   "outputs": [],
   "source": [
    "train_data = pd.read_csv('./data/Patent14K/train.csv')"
   ]
  },
  {
   "cell_type": "code",
   "execution_count": 3,
   "id": "23e67b6a-227b-40aa-8b5b-215210457195",
   "metadata": {},
   "outputs": [],
   "source": [
    "sent_token = tokenizer.tokenize(train_data['text'][0][3:])"
   ]
  },
  {
   "cell_type": "code",
   "execution_count": 4,
   "id": "bb14df08-81fb-46c3-8da7-f90a225aaaee",
   "metadata": {},
   "outputs": [],
   "source": [
    "parser = spacy.load('en_core_web_lg') "
   ]
  },
  {
   "cell_type": "code",
   "execution_count": 5,
   "id": "0ab957ca-4fa3-4f18-a365-53a8d1cdabc5",
   "metadata": {},
   "outputs": [],
   "source": [
    "sent = ' '.join([re.sub(\"[#]\",\"\",token) for token in sent_token])"
   ]
  },
  {
   "cell_type": "code",
   "execution_count": 6,
   "id": "9a206168-5dc9-45ee-a26a-5f6461d7857e",
   "metadata": {},
   "outputs": [
    {
     "data": {
      "text/plain": [
       "'a propulsion system for an aircraft , comprising : an airfoil ; an engine having an engine cowling carried by the airfoil and configured to produce exhaust gases that are predominantly directed toward an aft end of the airfoil by the engine cowling as engine exhaust ; a propulsion flap carried by the airfoil and disposed aft of the engine cowling ; an extendable airfoil flap extending from the airfoil and wherein the propulsion flap extends from the airfoil flap ; and a plurality of exhaust ejection orifice s provided in the propulsion flap and adapted to receive at least a portion of the exhaust gases from the engine cowling .'"
      ]
     },
     "execution_count": 6,
     "metadata": {},
     "output_type": "execute_result"
    }
   ],
   "source": [
    "sent"
   ]
  },
  {
   "cell_type": "code",
   "execution_count": 7,
   "id": "0eb017ed-5124-436a-9eb1-3f1ec17c3775",
   "metadata": {
    "scrolled": true,
    "tags": []
   },
   "outputs": [],
   "source": [
    "doc = parser(sent)\n",
    "parser_rst = doc.to_json()"
   ]
  },
  {
   "cell_type": "code",
   "execution_count": null,
   "id": "c1aac2d6-8152-4027-bb10-2c1e042c4205",
   "metadata": {},
   "outputs": [],
   "source": []
  },
  {
   "cell_type": "code",
   "execution_count": null,
   "id": "a23cb62f-85b6-4720-bf2d-8a814e588eae",
   "metadata": {},
   "outputs": [],
   "source": []
  },
  {
   "cell_type": "code",
   "execution_count": null,
   "id": "718edc4b-e7c9-4688-a553-cba89603a9bf",
   "metadata": {},
   "outputs": [],
   "source": [
    "for text in train_data['text']:\n",
    "    tokenizer.tokenize(text)"
   ]
  },
  {
   "cell_type": "code",
   "execution_count": 6,
   "id": "41e9fe57-ed00-4591-a567-ba81fdb6321b",
   "metadata": {},
   "outputs": [
    {
     "data": {
      "text/plain": [
       "['a',\n",
       " 'propulsion',\n",
       " 'system',\n",
       " 'for',\n",
       " 'an',\n",
       " 'aircraft',\n",
       " ',',\n",
       " 'comprising',\n",
       " ':',\n",
       " 'an',\n",
       " 'airfoil',\n",
       " ';',\n",
       " 'an',\n",
       " 'engine',\n",
       " 'having',\n",
       " 'an',\n",
       " 'engine',\n",
       " 'cowling',\n",
       " 'carried',\n",
       " 'by',\n",
       " 'the',\n",
       " 'airfoil',\n",
       " 'and',\n",
       " 'configured',\n",
       " 'to',\n",
       " 'produce',\n",
       " 'exhaust',\n",
       " 'gases',\n",
       " 'that',\n",
       " 'are',\n",
       " 'predominantly',\n",
       " 'directed',\n",
       " 'toward',\n",
       " 'an',\n",
       " 'aft',\n",
       " 'end',\n",
       " 'of',\n",
       " 'the',\n",
       " 'airfoil',\n",
       " 'by',\n",
       " 'the',\n",
       " 'engine',\n",
       " 'cowling',\n",
       " 'as',\n",
       " 'engine',\n",
       " 'exhaust',\n",
       " ';',\n",
       " 'a',\n",
       " 'propulsion',\n",
       " 'flap',\n",
       " 'carried',\n",
       " 'by',\n",
       " 'the',\n",
       " 'airfoil',\n",
       " 'and',\n",
       " 'disposed',\n",
       " 'aft',\n",
       " 'of',\n",
       " 'the',\n",
       " 'engine',\n",
       " 'cowling',\n",
       " ';',\n",
       " 'an',\n",
       " 'extendable',\n",
       " 'airfoil',\n",
       " 'flap',\n",
       " 'extending',\n",
       " 'from',\n",
       " 'the',\n",
       " 'airfoil',\n",
       " 'and',\n",
       " 'wherein',\n",
       " 'the',\n",
       " 'propulsion',\n",
       " 'flap',\n",
       " 'extends',\n",
       " 'from',\n",
       " 'the',\n",
       " 'airfoil',\n",
       " 'flap',\n",
       " ';',\n",
       " 'and',\n",
       " 'a',\n",
       " 'plurality',\n",
       " 'of',\n",
       " 'exhaust',\n",
       " 'ejection',\n",
       " 'orifice',\n",
       " '##s',\n",
       " 'provided',\n",
       " 'in',\n",
       " 'the',\n",
       " 'propulsion',\n",
       " 'flap',\n",
       " 'and',\n",
       " 'adapted',\n",
       " 'to',\n",
       " 'receive',\n",
       " 'at',\n",
       " 'least',\n",
       " 'a',\n",
       " 'portion',\n",
       " 'of',\n",
       " 'the',\n",
       " 'exhaust',\n",
       " 'gases',\n",
       " 'from',\n",
       " 'the',\n",
       " 'engine',\n",
       " 'cowling',\n",
       " '.']"
      ]
     },
     "execution_count": 6,
     "metadata": {},
     "output_type": "execute_result"
    }
   ],
   "source": [
    "token_lst"
   ]
  },
  {
   "cell_type": "code",
   "execution_count": null,
   "id": "9b99b992-0cad-49bb-a574-5899192098a0",
   "metadata": {},
   "outputs": [],
   "source": []
  },
  {
   "cell_type": "code",
   "execution_count": null,
   "id": "d5e9d306-c4a4-401d-b055-109590de289f",
   "metadata": {},
   "outputs": [],
   "source": []
  },
  {
   "cell_type": "code",
   "execution_count": null,
   "id": "20217bba-8a8f-44ea-9f48-8788bd2b7783",
   "metadata": {},
   "outputs": [],
   "source": []
  },
  {
   "cell_type": "code",
   "execution_count": null,
   "id": "016ae2fc-1570-41b4-b3f6-47b246ad886e",
   "metadata": {},
   "outputs": [],
   "source": []
  },
  {
   "cell_type": "code",
   "execution_count": null,
   "id": "0be4858a-e55d-4dfb-bbb8-9bbe14fa0da2",
   "metadata": {},
   "outputs": [],
   "source": []
  }
 ],
 "metadata": {
  "kernelspec": {
   "display_name": "Python 3 (ipykernel)",
   "language": "python",
   "name": "python3"
  },
  "language_info": {
   "codemirror_mode": {
    "name": "ipython",
    "version": 3
   },
   "file_extension": ".py",
   "mimetype": "text/x-python",
   "name": "python",
   "nbconvert_exporter": "python",
   "pygments_lexer": "ipython3",
   "version": "3.8.10"
  }
 },
 "nbformat": 4,
 "nbformat_minor": 5
}